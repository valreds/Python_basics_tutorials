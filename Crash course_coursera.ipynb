{
 "cells": [
  {
   "cell_type": "markdown",
   "metadata": {},
   "source": [
    "### Crash course on Python by Google"
   ]
  },
  {
   "cell_type": "code",
   "execution_count": 5,
   "metadata": {},
   "outputs": [
    {
     "data": {
      "text/plain": [
       "3.0"
      ]
     },
     "execution_count": 5,
     "metadata": {},
     "output_type": "execute_result"
    }
   ],
   "source": [
    "9**(1/2)"
   ]
  },
  {
   "cell_type": "code",
   "execution_count": 13,
   "metadata": {
    "scrolled": true
   },
   "outputs": [
    {
     "name": "stdout",
     "output_type": "stream",
     "text": [
      "[1, 2]\n",
      "[2, 3]\n",
      "[3, 4]\n",
      "[4, 5]\n",
      "[5, 6]\n",
      "[6, 7]\n"
     ]
    }
   ],
   "source": [
    "numbers = {1,2,3,4,5,6}\n",
    "result = []\n",
    "for n in numbers:\n",
    "    result =[n,(n + 1)]\n",
    "    print(result)"
   ]
  },
  {
   "cell_type": "code",
   "execution_count": 14,
   "metadata": {},
   "outputs": [
    {
     "name": "stdout",
     "output_type": "stream",
     "text": [
      "The sum is 48\n"
     ]
    }
   ],
   "source": [
    "# List of numbers\n",
    "numbers = [6, 5, 3, 8, 4, 2, 5, 4, 11]\n",
    "\n",
    "# variable to store the sum\n",
    "sum = 0\n",
    "\n",
    "# iterate over the list\n",
    "for val in numbers:\n",
    "\tsum = sum+val\n",
    "\n",
    "print(\"The sum is\", sum)"
   ]
  },
  {
   "cell_type": "markdown",
   "metadata": {},
   "source": [
    "loc es para label del index\n",
    "\n",
    "iloc is position de 0 a -1 (-1 el ultimo)\n"
   ]
  },
  {
   "cell_type": "code",
   "execution_count": 6,
   "metadata": {
    "scrolled": true
   },
   "outputs": [
    {
     "ename": "TypeError",
     "evalue": "can't multiply sequence by non-int of type 'str'",
     "output_type": "error",
     "traceback": [
      "\u001b[1;31m---------------------------------------------------------------------------\u001b[0m",
      "\u001b[1;31mTypeError\u001b[0m                                 Traceback (most recent call last)",
      "\u001b[1;32m<ipython-input-6-c9b5bdf3ef08>\u001b[0m in \u001b[0;36m<module>\u001b[1;34m\u001b[0m\n\u001b[0;32m      2\u001b[0m \u001b[1;32mfor\u001b[0m \u001b[0mi\u001b[0m \u001b[1;32min\u001b[0m \u001b[0mletters\u001b[0m\u001b[1;33m:\u001b[0m\u001b[1;33m\u001b[0m\u001b[1;33m\u001b[0m\u001b[0m\n\u001b[0;32m      3\u001b[0m     \u001b[1;32mif\u001b[0m \u001b[0mi\u001b[0m \u001b[1;33m!=\u001b[0m \u001b[0mletters\u001b[0m\u001b[1;33m:\u001b[0m\u001b[1;33m\u001b[0m\u001b[1;33m\u001b[0m\u001b[0m\n\u001b[1;32m----> 4\u001b[1;33m         \u001b[0mprint\u001b[0m\u001b[1;33m(\u001b[0m\u001b[0mletters\u001b[0m\u001b[1;33m*\u001b[0m\u001b[0mletters\u001b[0m\u001b[1;33m)\u001b[0m\u001b[1;33m\u001b[0m\u001b[1;33m\u001b[0m\u001b[0m\n\u001b[0m",
      "\u001b[1;31mTypeError\u001b[0m: can't multiply sequence by non-int of type 'str'"
     ]
    }
   ],
   "source": [
    "letters = \"a,b,c,d,e,f\"\n",
    "for i in letters:\n",
    "    if i != letters:\n",
    "        print(letters*letters)"
   ]
  },
  {
   "cell_type": "code",
   "execution_count": 14,
   "metadata": {},
   "outputs": [
    {
     "data": {
      "text/plain": [
       "308915776"
      ]
     },
     "execution_count": 14,
     "metadata": {},
     "output_type": "execute_result"
    }
   ],
   "source": [
    "26**6"
   ]
  },
  {
   "cell_type": "code",
   "execution_count": 15,
   "metadata": {},
   "outputs": [
    {
     "name": "stdout",
     "output_type": "stream",
     "text": [
      "33554432.0\n"
     ]
    }
   ],
   "source": [
    "disk_size = 16*1024*1024*1024\n",
    "sector_size = 512\n",
    "sector_amount = disk_size/sector_size\n",
    "disk_size\n",
    "print(sector_amount)"
   ]
  },
  {
   "cell_type": "code",
   "execution_count": 16,
   "metadata": {},
   "outputs": [
    {
     "data": {
      "text/plain": [
       "17179869184"
      ]
     },
     "execution_count": 16,
     "metadata": {},
     "output_type": "execute_result"
    }
   ],
   "source": [
    "disk_size"
   ]
  },
  {
   "cell_type": "markdown",
   "metadata": {},
   "source": [
    "### Data types"
   ]
  },
  {
   "cell_type": "code",
   "execution_count": 2,
   "metadata": {},
   "outputs": [
    {
     "name": "stdout",
     "output_type": "stream",
     "text": [
      "<class 'str'>\n"
     ]
    }
   ],
   "source": [
    "print(type(\"hola\"))"
   ]
  },
  {
   "cell_type": "code",
   "execution_count": 3,
   "metadata": {
    "scrolled": true
   },
   "outputs": [
    {
     "name": "stdout",
     "output_type": "stream",
     "text": [
      "<class 'int'>\n"
     ]
    }
   ],
   "source": [
    "print(type(5))"
   ]
  },
  {
   "cell_type": "markdown",
   "metadata": {},
   "source": [
    "## Variables"
   ]
  },
  {
   "cell_type": "code",
   "execution_count": 1,
   "metadata": {},
   "outputs": [
    {
     "name": "stdout",
     "output_type": "stream",
     "text": [
      "20\n"
     ]
    }
   ],
   "source": [
    "base = 10\n",
    "height = 2\n",
    "area = base * height\n",
    "print(area)"
   ]
  },
  {
   "cell_type": "code",
   "execution_count": 7,
   "metadata": {},
   "outputs": [
    {
     "name": "stdout",
     "output_type": "stream",
     "text": [
      "the average size is  20839.2\n"
     ]
    }
   ],
   "source": [
    "total = 2048 + 4357 + 97658+125 +8\n",
    "files = 5\n",
    "average = total / files\n",
    "print(\"the average size is \" + ' ' + str(average))"
   ]
  },
  {
   "cell_type": "code",
   "execution_count": null,
   "metadata": {},
   "outputs": [],
   "source": [
    "word1 = \"How\"\n",
    "word2 = \"do\"\n",
    "word3 = \"you\"\n",
    "word4 = \"like\"\n",
    "word5 = \"Python\"\n",
    "word6 = \"so\"\n",
    "word7 = \"far?\"\n",
    "\n",
    "print(word1+' '+word2+' '+word3+' '+word4+' '+word5+' '+word6+' '+word7)"
   ]
  },
  {
   "cell_type": "markdown",
   "metadata": {},
   "source": [
    "## Define functions"
   ]
  },
  {
   "cell_type": "code",
   "execution_count": 8,
   "metadata": {},
   "outputs": [],
   "source": [
    "def greeting(name):\n",
    "    print(\"hello, \" + name)"
   ]
  },
  {
   "cell_type": "code",
   "execution_count": 14,
   "metadata": {},
   "outputs": [
    {
     "name": "stdout",
     "output_type": "stream",
     "text": [
      "hello, momo\n"
     ]
    }
   ],
   "source": [
    "greeting('momo')"
   ]
  },
  {
   "cell_type": "code",
   "execution_count": 15,
   "metadata": {},
   "outputs": [],
   "source": [
    "def greeting(name, department):\n",
    "    print(\"Welcome, \" + name)\n",
    "    print(\"your are from \" + department)"
   ]
  },
  {
   "cell_type": "code",
   "execution_count": 16,
   "metadata": {},
   "outputs": [
    {
     "name": "stdout",
     "output_type": "stream",
     "text": [
      "Welcome, momo\n",
      "your are from pets\n"
     ]
    }
   ],
   "source": [
    "greeting(\"momo\", 'pets')"
   ]
  },
  {
   "cell_type": "code",
   "execution_count": 18,
   "metadata": {},
   "outputs": [
    {
     "name": "stdout",
     "output_type": "stream",
     "text": [
      "7323\n"
     ]
    }
   ],
   "source": [
    "def print_seconds(hours, minutes, seconds):\n",
    "    print(hours*3600 + minutes * 60 + seconds)\n",
    "\n",
    "print_seconds(2,2,3)"
   ]
  },
  {
   "cell_type": "code",
   "execution_count": 19,
   "metadata": {},
   "outputs": [],
   "source": [
    "def area_triangle(base, height):\n",
    "    return base*height/2"
   ]
  },
  {
   "cell_type": "code",
   "execution_count": 23,
   "metadata": {},
   "outputs": [
    {
     "data": {
      "text/plain": [
       "20.5"
      ]
     },
     "execution_count": 23,
     "metadata": {},
     "output_type": "execute_result"
    }
   ],
   "source": [
    "area_triangle(5, 4) + area_triangle(7, 3)"
   ]
  },
  {
   "cell_type": "code",
   "execution_count": 26,
   "metadata": {},
   "outputs": [
    {
     "name": "stdout",
     "output_type": "stream",
     "text": [
      "1 23 5000\n"
     ]
    }
   ],
   "source": [
    "def convert_seconds(seconds):\n",
    "    hours= seconds // 3600\n",
    "    minutes = (seconds - hours * 3600) //60\n",
    "    remaining_seconds = seconds - hours *3600 - minutes *60\n",
    "    return hours, minutes, seconds\n",
    "\n",
    "hours, minutes, seconds = convert_seconds(5000)\n",
    "print(hours, minutes, seconds)"
   ]
  },
  {
   "cell_type": "code",
   "execution_count": 2,
   "metadata": {},
   "outputs": [
    {
     "name": "stdout",
     "output_type": "stream",
     "text": [
      "Hello Valreds. Your lucky number is 63\n"
     ]
    }
   ],
   "source": [
    "myname = \"Valreds\"\n",
    "mynumber = len(myname) * 9\n",
    "print(\"Hello \" + myname + \". Your lucky number is \"+ str(mynumber))"
   ]
  },
  {
   "cell_type": "code",
   "execution_count": 9,
   "metadata": {},
   "outputs": [
    {
     "name": "stdout",
     "output_type": "stream",
     "text": [
      "hello momo. Your lucky number is 36\n"
     ]
    }
   ],
   "source": [
    "def lucky_number(name):\n",
    "    number = len(name)*9\n",
    "    print(\"hello \" + name + \". Your lucky number is \" + str(number))\n",
    "    \n",
    "lucky_number('momo')"
   ]
  },
  {
   "cell_type": "code",
   "execution_count": 8,
   "metadata": {},
   "outputs": [
    {
     "name": "stdout",
     "output_type": "stream",
     "text": [
      "hello valreds. Your lucky number is 63\n"
     ]
    }
   ],
   "source": [
    "lucky_number(\"valreds\")"
   ]
  },
  {
   "cell_type": "code",
   "execution_count": 10,
   "metadata": {},
   "outputs": [
    {
     "name": "stdout",
     "output_type": "stream",
     "text": [
      "June has 30 days.\n",
      "July has 31 days.\n"
     ]
    }
   ],
   "source": [
    "june_days = 30\n",
    "print(\"June has \" + str(june_days) + \" days.\")\n",
    "july_days = 31\n",
    "print(\"July has \" + str(july_days) + \" days.\")"
   ]
  },
  {
   "cell_type": "code",
   "execution_count": 11,
   "metadata": {},
   "outputs": [
    {
     "name": "stdout",
     "output_type": "stream",
     "text": [
      "April has 30 days.\n",
      "June has 30 days.\n",
      "July has 31 days.\n"
     ]
    }
   ],
   "source": [
    "# REPLACE THIS STARTER CODE WITH YOUR FUNCTION\n",
    "def month_days(month, days):\n",
    "    print(month + \" has \" + str(days) + \" days.\")\n",
    "month_days(\"April\", 30)\n",
    "month_days(\"June\", 30)\n",
    "month_days(\"July\", 31)"
   ]
  },
  {
   "cell_type": "code",
   "execution_count": 8,
   "metadata": {},
   "outputs": [],
   "source": [
    "def circle_area(radius):\n",
    "    pi = 3.14\n",
    "    area = pi * (radius**2)\n",
    "    print(\"The area of a circle with a radius of \" + str(radius) + \" is \" + str(area) )\n",
    "    #or print area only\n",
    "    #print(area)"
   ]
  },
  {
   "cell_type": "code",
   "execution_count": 9,
   "metadata": {},
   "outputs": [
    {
     "name": "stdout",
     "output_type": "stream",
     "text": [
      "The area of a circle with a radius of 15 is 706.5\n"
     ]
    }
   ],
   "source": [
    "circle_area(15)"
   ]
  },
  {
   "cell_type": "code",
   "execution_count": 10,
   "metadata": {},
   "outputs": [],
   "source": [
    "def rectangle_area(base, height):\n",
    "    area_rectangle = base*height  # the area is base*height\n",
    "    print(\"The area is \" + str(area_rectangle))"
   ]
  },
  {
   "cell_type": "code",
   "execution_count": 11,
   "metadata": {},
   "outputs": [
    {
     "name": "stdout",
     "output_type": "stream",
     "text": [
      "The area is 45\n"
     ]
    }
   ],
   "source": [
    "rectangle_area(5, 9)"
   ]
  },
  {
   "cell_type": "code",
   "execution_count": 7,
   "metadata": {},
   "outputs": [
    {
     "name": "stdout",
     "output_type": "stream",
     "text": [
      "The distance in kilometers is 88.0\n",
      "The round-trip in kilometers is 7744.0\n"
     ]
    }
   ],
   "source": [
    "# 1) Complete the function to return the result of the conversion\n",
    "def convert_distance(miles):\n",
    "    km = miles * 1.6  # approximately 1.6 km in 1 mile\n",
    "    return(km)\n",
    "\n",
    "my_trip_miles = 55\n",
    "\n",
    "# 2) Convert my_trip_miles to kilometers by calling the function above\n",
    "my_trip_km = convert_distance(55)\n",
    "\n",
    "# 3) Fill in the blank to print the result of the conversion\n",
    "print(\"The distance in kilometers is \" + str(my_trip_km))\n",
    "\n",
    "# 4) Calculate the round-trip in kilometers by doubling the result,\n",
    "#    and fill in the blank to print the result\n",
    "round_trip = my_trip_km **2\n",
    "print(\"The round-trip in kilometers is \" + str(round_trip))"
   ]
  },
  {
   "cell_type": "code",
   "execution_count": 9,
   "metadata": {},
   "outputs": [
    {
     "name": "stdout",
     "output_type": "stream",
     "text": [
      "300 301\n"
     ]
    }
   ],
   "source": [
    "# This function compares two numbers and returns them\n",
    "# in increasing order.\n",
    "def order_numbers(number1, number2):\n",
    "    if number2 > number1:\n",
    "        return number1, number2\n",
    "    else:\n",
    "        return number2, number1\n",
    "\n",
    "# 1) Fill in the blanks so the print statement displays the result\n",
    "#    of the function call\n",
    "small, big = order_numbers(300, 301)\n",
    "print(small, big)"
   ]
  },
  {
   "cell_type": "code",
   "execution_count": null,
   "metadata": {},
   "outputs": [],
   "source": [
    "# 1. Complete the function to return the result of the conversion\n",
    "# def convert_distance(miles):\n",
    "#     km = miles * 1.6  # approximately 1.6 km in 1 mile\n",
    "#     return(km)\n",
    "\n",
    "# my_trip_miles = 55\n",
    "\n",
    "# # 2) Convert my_trip_miles to kilometers by calling the function above\n",
    "# my_trip_km = convert_distance(my_trip_miles)\n",
    "\n",
    "# # 3) Fill in the blank to print the result of the conversion\n",
    "# print(\"The distance in kilometers is \" + str(convert_distance(my_trip_miles)))\n",
    "\n",
    "# # 4) Calculate the round-trip in kilometers by doubling the result,\n",
    "# #    and fill in the blank to print the result\n",
    "# print(\"The round-trip in kilometers is \" + str((convert_distance(my_trip_miles)**2)))\n"
   ]
  },
  {
   "cell_type": "markdown",
   "metadata": {},
   "source": [
    "### Conditionals and operators"
   ]
  },
  {
   "cell_type": "markdown",
   "metadata": {},
   "source": [
    "In Python, we can use comparison operators to compare values. When a comparison is made, Python returns a boolean result, or simply a True or False. \n",
    "\n",
    "To check if two values are the same, we can use the equality operator: == \n",
    "To check if two values are not the same, we can use the not equals operator: != \n",
    "We can also check if values are greater than or lesser than each other using > and <. If you try to compare data types that aren’t compatible, like checking if a string is greater than an integer, Python will throw a TypeError. \n",
    "\n",
    "We can make very complex comparisons by joining statements together using logical operators with our comparison operators. These logical operators are and, or, and not. When using the and operator, both sides of the statement being evaluated must be true for the whole statement to be true. When using the or operator, if either side of the comparison is true, then the whole statement is true. Lastly, the not operator simply inverts the value of the statement immediately following it. So if a statement evaluates to True, and we put the not operator in front of it, it would become False."
   ]
  },
  {
   "cell_type": "code",
   "execution_count": 10,
   "metadata": {},
   "outputs": [
    {
     "name": "stdout",
     "output_type": "stream",
     "text": [
      "False\n",
      "False\n",
      "False\n",
      "True\n"
     ]
    }
   ],
   "source": [
    "print(10<9)\n",
    "print(10>20)\n",
    "print(\"cat\" == \"dog\")\n",
    "print(\"momo\" != \"timi\")"
   ]
  },
  {
   "cell_type": "code",
   "execution_count": 14,
   "metadata": {},
   "outputs": [
    {
     "name": "stdout",
     "output_type": "stream",
     "text": [
      "False\n"
     ]
    }
   ],
   "source": [
    "#Logical operators are and, or, not\n",
    "print(\"yellow\" > \"Blue\" and \"brown\" > \"magenta\" )\n",
    "#with and, is true if both statements are true\n"
   ]
  },
  {
   "cell_type": "code",
   "execution_count": 15,
   "metadata": {},
   "outputs": [
    {
     "name": "stdout",
     "output_type": "stream",
     "text": [
      "True\n"
     ]
    }
   ],
   "source": [
    "print(25 > 50 or 1 != 2)\n",
    "#with or, it returns true if either statement is true"
   ]
  },
  {
   "cell_type": "markdown",
   "metadata": {},
   "source": [
    "the not operator inverts the value of the expression that's in front of it. If the expression is true, it becomes false. If it's false, it becomes true."
   ]
  },
  {
   "cell_type": "code",
   "execution_count": 16,
   "metadata": {},
   "outputs": [
    {
     "name": "stdout",
     "output_type": "stream",
     "text": [
      "True\n"
     ]
    }
   ],
   "source": [
    "print(not 45 == 59)"
   ]
  },
  {
   "cell_type": "markdown",
   "metadata": {},
   "source": [
    "#### if / else branching"
   ]
  },
  {
   "cell_type": "code",
   "execution_count": 26,
   "metadata": {},
   "outputs": [],
   "source": [
    "#verificar el numero de caracteres para un user id\n",
    "#verify the length of a string\n",
    "def valid_userid(user_id):\n",
    "    if len(user_id) < 3:\n",
    "        print(\"Invalid user name. User must be at least 3 characters long\")\n",
    "    else:\n",
    "        print(\"Valid user name.\")"
   ]
  },
  {
   "cell_type": "code",
   "execution_count": 25,
   "metadata": {
    "scrolled": true
   },
   "outputs": [
    {
     "name": "stdout",
     "output_type": "stream",
     "text": [
      "Valid user name.\n",
      "Invalid user name. User must be at least 3 characters long\n"
     ]
    }
   ],
   "source": [
    "valid_userid(\"Pepe\")\n",
    "valid_userid(\"va\")"
   ]
  },
  {
   "cell_type": "code",
   "execution_count": 29,
   "metadata": {},
   "outputs": [],
   "source": [
    "#check whether a number is positive or negative\n",
    "def is_positive(number):\n",
    "  if number > 0:\n",
    "    return True\n",
    "  else:\n",
    "    return False"
   ]
  },
  {
   "cell_type": "code",
   "execution_count": 30,
   "metadata": {
    "scrolled": true
   },
   "outputs": [
    {
     "data": {
      "text/plain": [
       "False"
      ]
     },
     "execution_count": 30,
     "metadata": {},
     "output_type": "execute_result"
    }
   ],
   "source": [
    "is_positive(-5)"
   ]
  },
  {
   "cell_type": "code",
   "execution_count": 36,
   "metadata": {},
   "outputs": [],
   "source": [
    "#check if a number is even or odd\n",
    "def is_odd(number):\n",
    "    if number %2 == 0:\n",
    "        return False\n",
    "    return True\n",
    "#the modulo operator (%) returns the remainder of the integer division between two numbers. \n",
    "#The integer division is an operation between integers that yields two results which are both integers, \n",
    "#the quotient and the remainder. Cociente y residuo. Modulo regresa el residuo"
   ]
  },
  {
   "cell_type": "code",
   "execution_count": 38,
   "metadata": {},
   "outputs": [
    {
     "data": {
      "text/plain": [
       "True"
      ]
     },
     "execution_count": 38,
     "metadata": {},
     "output_type": "execute_result"
    }
   ],
   "source": [
    "is_odd(7)"
   ]
  },
  {
   "cell_type": "markdown",
   "metadata": {},
   "source": [
    "The modulo operator is represented by the percentage sign and returns the remainder of the integer division between two numbers. The integer division is an operation between integers that yields two results which are both integers, the quotient and the remainder. So if we do an integer division between 5 and 2, the quotient is 2 and the remainder is 1. If we do an integer division between 11 and 3, the quotient is 3 and the remainder is 2. Even numbers are all multiples of 2 which means **the remainder of the integer division between an even number and 2 is always going to be 0**. In this function, we're using this principle to decide whether a number is even or not."
   ]
  },
  {
   "cell_type": "code",
   "execution_count": 39,
   "metadata": {},
   "outputs": [],
   "source": [
    "def is_even(number):\n",
    "    if number %2 == 0:\n",
    "        return True\n",
    "    return False"
   ]
  },
  {
   "cell_type": "code",
   "execution_count": 41,
   "metadata": {},
   "outputs": [
    {
     "data": {
      "text/plain": [
       "False"
      ]
     },
     "execution_count": 41,
     "metadata": {},
     "output_type": "execute_result"
    }
   ],
   "source": [
    "is_even(7)"
   ]
  },
  {
   "cell_type": "markdown",
   "metadata": {},
   "source": [
    "The is_even function is not using the \"else\" statemente. This means that if the number is even, the computer will reach the return true statement and exit the function. Anything that comes after that will only be executed if the condition in the if statement was false. In other words, once the function reaches the return false line, we know for sure that the if condition was false which means the number was odd."
   ]
  },
  {
   "cell_type": "code",
   "execution_count": 50,
   "metadata": {},
   "outputs": [
    {
     "name": "stdout",
     "output_type": "stream",
     "text": [
      "Welcome back Taylor!\n",
      "Hello there, John\n"
     ]
    }
   ],
   "source": [
    "def greeting(name):\n",
    "  if name == \"Taylor\":\n",
    "    return \"Welcome back Taylor!\"\n",
    "  else:\n",
    "    return \"Hello there, \" + name\n",
    "\n",
    "print(greeting(\"Taylor\"))\n",
    "print(greeting(\"John\"))"
   ]
  },
  {
   "cell_type": "code",
   "execution_count": 54,
   "metadata": {},
   "outputs": [
    {
     "name": "stdout",
     "output_type": "stream",
     "text": [
      "1\n"
     ]
    }
   ],
   "source": [
    "def example_ten(number):\n",
    "#numero mayor a 11\n",
    "    if number > 11: \n",
    "      print(0)\n",
    "#numero no igual a 10\n",
    "    elif number != 10:\n",
    "      print(1)\n",
    "#numero mayor o igual a 12 pero menor a 12\n",
    "    elif number >= 20 or number < 12:\n",
    "      print(2)\n",
    "    else:\n",
    "      print(3)\n",
    "\n",
    "example_ten(2)"
   ]
  },
  {
   "cell_type": "markdown",
   "metadata": {},
   "source": [
    "#### elif statement"
   ]
  },
  {
   "cell_type": "code",
   "execution_count": 43,
   "metadata": {},
   "outputs": [],
   "source": [
    "#verificar el numero de caracteres para un user id\n",
    "#verify the length of a string\n",
    "def valid_userid(user_id):\n",
    "    if len(user_id) < 3:\n",
    "        print(\"Invalid user name. User must be at least 3 characters long.\")\n",
    "    elif len(user_id) > 15:\n",
    "        print(\"Invalid user name. User must be at least 3 characters long.\")\n",
    "    else:\n",
    "        print(\"Valid user name.\")"
   ]
  },
  {
   "cell_type": "code",
   "execution_count": 44,
   "metadata": {},
   "outputs": [
    {
     "name": "stdout",
     "output_type": "stream",
     "text": [
      "Invalid user name. User must be at least 3 characters long.\n"
     ]
    }
   ],
   "source": [
    "valid_userid(\"koediwsdfgjtudwert\")"
   ]
  },
  {
   "cell_type": "markdown",
   "metadata": {},
   "source": [
    "The main difference between elif and if statements is we can only write an elif block as a companion to an if block. That's because the condition of the elif statement will only be checked if the condition of the if statement wasn't true. So in this example, the program first checks whether the username is less than three characters long, and prints a message if that's the case. If the username has at least three characters, the program then checks if it's longer than 15 characters. If it is, we get a message to tell us that. Finally, if none of the above conditions were met, the program prints a message indicating that the username is valid. "
   ]
  },
  {
   "cell_type": "code",
   "execution_count": 47,
   "metadata": {},
   "outputs": [
    {
     "data": {
      "text/plain": [
       "'Zero'"
      ]
     },
     "execution_count": 47,
     "metadata": {},
     "output_type": "execute_result"
    }
   ],
   "source": [
    "def number_group(number):\n",
    "  if number > 0:\n",
    "    return \"Positive\"\n",
    "  elif number < 0:\n",
    "    return \"Negative\"\n",
    "  else:\n",
    "    return \"Zero\"\n",
    "\n",
    "number_group(0)\n",
    "#number_group(15)\n",
    "#number_group(-5)"
   ]
  },
  {
   "cell_type": "markdown",
   "metadata": {},
   "source": [
    "Students in a class receive their grades as Pass/Fail. Scores of 60 or more (out of 100) mean that the grade is \"Pass\". For lower scores, the grade is \"Fail\". In addition, scores above 95 (not included) are graded as \"Top Score\". Fill in this function so that it returns the proper grade."
   ]
  },
  {
   "cell_type": "code",
   "execution_count": 68,
   "metadata": {},
   "outputs": [
    {
     "name": "stdout",
     "output_type": "stream",
     "text": [
      "Pass\n",
      "Fail\n",
      "Pass\n",
      "Pass\n",
      "Top Score\n",
      "Fail\n"
     ]
    }
   ],
   "source": [
    "def exam_grade(score):\n",
    "    if score > 95:\n",
    "        return(\"Top Score\")\n",
    "    elif score >= 60 and score <= 95:\n",
    "        return(\"Pass\")\n",
    "    else:\n",
    "        return(\"Fail\")\n",
    "\n",
    "print(exam_grade(65)) # Should be Pass\n",
    "print(exam_grade(55)) # Should be Fail\n",
    "print(exam_grade(60)) # Should be Pass\n",
    "print(exam_grade(95)) # Should be Pass\n",
    "print(exam_grade(100)) # Should be Top Score\n",
    "print(exam_grade(0)) # Should be Fail"
   ]
  },
  {
   "cell_type": "markdown",
   "metadata": {},
   "source": [
    "### Conditionals Cheat Sheet\n",
    "**Comparison operators**\n",
    "- a == b: a is equal to b\n",
    "- a != b: a is different than b\n",
    "- a < b: a is smaller than b\n",
    "- a <= b: a is smaller or equal to b\n",
    "- a > b: a is bigger than b\n",
    "- a >= b: a is bigger or equal to b\n",
    "\n",
    "**Logical operators**\n",
    "- a and b: True if both a and b are True. False otherwise.\n",
    "- a or b: True if either a or b or both are True. False if both are False.\n",
    "- not a: True if a is False, False if a is True.\n",
    "\n",
    "**Branching blocks**\n",
    "\n",
    "In Python, we branch our code using if, else and elif. This is the branching syntax:\n",
    "\n",
    "if condition1:\n",
    "\n",
    " \tif-block\n",
    "    \n",
    "elif condition2:\n",
    "\n",
    "\telif-block\n",
    "    \n",
    "else:\n",
    "\n",
    "\telse-block\n",
    "    \n",
    "**Remember:** The if-block will be executed if condition1 is True. The elif-block will be executed if condition1 is False and condition2 is True. The else block will be executed when all the specified conditions are false."
   ]
  },
  {
   "cell_type": "code",
   "execution_count": 49,
   "metadata": {},
   "outputs": [
    {
     "data": {
      "text/plain": [
       "True"
      ]
     },
     "execution_count": 49,
     "metadata": {},
     "output_type": "execute_result"
    }
   ],
   "source": [
    "(2**2)==4"
   ]
  },
  {
   "cell_type": "markdown",
   "metadata": {},
   "source": [
    "#### practice quiz week 2"
   ]
  },
  {
   "cell_type": "markdown",
   "metadata": {},
   "source": [
    "If a filesystem has a block size of 4096 bytes, this means that a file comprised of only one byte will still use 4096 bytes of storage. A file made up of 4097 bytes will use 4096*2=8192 bytes of storage. Knowing this, can you fill in the gaps in the calculate_storage function below, which calculates the total number of bytes needed to store a file of a given size?"
   ]
  },
  {
   "cell_type": "code",
   "execution_count": 59,
   "metadata": {},
   "outputs": [],
   "source": [
    "def calculate_storage(filesize):\n",
    "    block_size = 4096\n",
    "    # Use floor division to calculate how many blocks are fully occupied\n",
    "    full_blocks = filesize // block_size\n",
    "    # Use the modulo operator to check whether there's any remainder\n",
    "    partial_block_remainder = block_size % filesize // block_size\n",
    "    # Depending on whether there's a remainder or not, return\n",
    "    # the total number of bytes required to allocate enough blocks\n",
    "    # to store your data.\n",
    "    if partial_block_remainder > 0:\n",
    "        return (block_size * full_blocks) + (partial_block_remainder * block_size)\n",
    "    return block_size + (partial_block_remainder * block_size)"
   ]
  },
  {
   "cell_type": "code",
   "execution_count": 60,
   "metadata": {},
   "outputs": [
    {
     "name": "stdout",
     "output_type": "stream",
     "text": [
      "4096\n",
      "4096\n",
      "8192\n",
      "8192\n"
     ]
    }
   ],
   "source": [
    "print(calculate_storage(1))    # Should be 4096\n",
    "print(calculate_storage(4096)) # Should be 4096\n",
    "print(calculate_storage(4097)) # Should be 8192\n",
    "print(calculate_storage(6000)) # Should be 8192"
   ]
  },
  {
   "cell_type": "markdown",
   "metadata": {},
   "source": [
    "#### Graded quiz week 2"
   ]
  },
  {
   "cell_type": "code",
   "execution_count": 72,
   "metadata": {},
   "outputs": [
    {
     "name": "stdout",
     "output_type": "stream",
     "text": [
      "#0000ff\n",
      "unknown\n",
      "#ff0000\n",
      "unknown\n",
      "#00ff00\n",
      "unknown\n"
     ]
    }
   ],
   "source": [
    "#1. Complete the function by filling in the missing parts. The color_translator function receives the name of a color, then prints its hexadecimal value. Currently, it only supports the three additive primary colors (red, green, blue), so it returns \"unknown\" for all other colors.\n",
    "def color_translator(color):\n",
    "    if color == \"red\":\n",
    "        return(\"#ff0000\")\n",
    "    elif color == \"green\":\n",
    "        return(\"#00ff00\")\n",
    "    elif color == \"blue\":\n",
    "        return(\"#0000ff\")\n",
    "    else:\n",
    "        return(\"unknown\")\n",
    "\n",
    "print(color_translator(\"blue\")) # Should be #0000ff\n",
    "print(color_translator(\"yellow\")) # Should be unknown\n",
    "print(color_translator(\"red\")) # Should be #ff0000\n",
    "print(color_translator(\"black\")) # Should be unknown\n",
    "print(color_translator(\"green\")) # Should be #00ff00\n",
    "print(color_translator(\"\")) # Should be unknown"
   ]
  },
  {
   "cell_type": "code",
   "execution_count": 73,
   "metadata": {},
   "outputs": [
    {
     "name": "stdout",
     "output_type": "stream",
     "text": [
      "False\n"
     ]
    }
   ],
   "source": [
    "#What's the value of this Python expression: \"big\" > \"small\"\n",
    "print(\"big\" > \"small\")"
   ]
  },
  {
   "cell_type": "code",
   "execution_count": 74,
   "metadata": {},
   "outputs": [
    {
     "name": "stdout",
     "output_type": "stream",
     "text": [
      "Pass\n",
      "Fail\n",
      "Pass\n",
      "Pass\n",
      "Top Score\n",
      "Fail\n"
     ]
    }
   ],
   "source": [
    "#4. Students in a class receive their grades as Pass/Fail. \n",
    "#Scores of 60 or more (out of 100) mean that the grade is \"Pass\". \n",
    "#For lower scores, the grade is \"Fail\". \n",
    "#In addition, scores above 95 (not included) are graded as \"Top Score\".\n",
    "def exam_grade(score):\n",
    "    if score > 95:\n",
    "        return(\"Top Score\")\n",
    "    elif score >= 60 and score <= 95:\n",
    "        return(\"Pass\")\n",
    "    else:\n",
    "        return(\"Fail\")\n",
    "\n",
    "print(exam_grade(65)) # Should be Pass\n",
    "print(exam_grade(55)) # Should be Fail\n",
    "print(exam_grade(60)) # Should be Pass\n",
    "print(exam_grade(95)) # Should be Pass\n",
    "print(exam_grade(100)) # Should be Top Score\n",
    "print(exam_grade(0)) # Should be Fail"
   ]
  },
  {
   "cell_type": "code",
   "execution_count": 75,
   "metadata": {},
   "outputs": [
    {
     "data": {
      "text/plain": [
       "1"
      ]
     },
     "execution_count": 75,
     "metadata": {},
     "output_type": "execute_result"
    }
   ],
   "source": [
    "11% 5 #calcula el residuo"
   ]
  },
  {
   "cell_type": "code",
   "execution_count": 84,
   "metadata": {},
   "outputs": [
    {
     "name": "stdout",
     "output_type": "stream",
     "text": [
      "Name: Hemingway, Ernest\n",
      "Name: Madonna\n",
      "Name: Voltaire\n",
      "Name: \n"
     ]
    }
   ],
   "source": [
    "#6.  Complete the body of the format_name function. \n",
    "#This function receives the first_name and last_name parameters and then returns a properly formatted string\n",
    "def format_name(first_name, last_name):\n",
    "    if first_name and last_name:\n",
    "        return(\"Name: \"+ last_name +\", \"+ first_name)\n",
    "    elif first_name:\n",
    "        return(\"Name: \" + first_name )\n",
    "    elif last_name:\n",
    "        return(\"Name: \" + last_name)\n",
    "    else:\n",
    "        return(\"Name: \")\n",
    "\n",
    "\n",
    "print(format_name(\"Ernest\", \"Hemingway\"))\n",
    "# Should return the string \"Name: Hemingway, Ernest\"\n",
    "\n",
    "print(format_name(\"\", \"Madonna\"))\n",
    "# Should return the string \"Name: Madonna\"\n",
    "\n",
    "print(format_name(\"Voltaire\", \"\"))\n",
    "# Should return the string \"Name: Voltaire\"\n",
    "\n",
    "print(format_name(\"\", \"\"))\n",
    "# Should return an empty string"
   ]
  },
  {
   "cell_type": "code",
   "execution_count": 77,
   "metadata": {},
   "outputs": [
    {
     "name": "stdout",
     "output_type": "stream",
     "text": [
      "chair\n",
      "beyond\n",
      "notebook\n"
     ]
    }
   ],
   "source": [
    "#7. The longest_word function is used to compare 3 words. It should return the word with the most number of characters (and the first in the list when they have the same length). \n",
    "def longest_word(word1, word2, word3):\n",
    "    if len(word1) >= len(word2) and len(word1) >= len(word3):\n",
    "        return(word1)\n",
    "    elif len(word2) >= len(word1) and len(word2) >= len(word3):\n",
    "        return(word2)\n",
    "    else:\n",
    "        return(word3)\n",
    "\n",
    "print(longest_word(\"chair\", \"couch\", \"table\"))\n",
    "print(longest_word(\"bed\", \"bath\", \"beyond\"))\n",
    "print(longest_word(\"laptop\", \"notebook\", \"desktop\"))"
   ]
  },
  {
   "cell_type": "code",
   "execution_count": 78,
   "metadata": {},
   "outputs": [
    {
     "name": "stdout",
     "output_type": "stream",
     "text": [
      "10\n"
     ]
    }
   ],
   "source": [
    "#8\n",
    "def sum(x, y):\n",
    "    return(x+y)\n",
    "\n",
    "print(sum(sum(1,2), sum(3,4)))"
   ]
  },
  {
   "cell_type": "code",
   "execution_count": 71,
   "metadata": {
    "scrolled": false
   },
   "outputs": [
    {
     "data": {
      "text/plain": [
       "True"
      ]
     },
     "execution_count": 71,
     "metadata": {},
     "output_type": "execute_result"
    }
   ],
   "source": [
    "#9.\n",
    "((10 >= 5*2) and (10 <= 5*2))"
   ]
  },
  {
   "cell_type": "code",
   "execution_count": 85,
   "metadata": {},
   "outputs": [
    {
     "name": "stdout",
     "output_type": "stream",
     "text": [
      "0.0\n",
      "0.25\n",
      "0.6666666666666667\n",
      "0.5\n",
      "0\n",
      "0.0\n"
     ]
    }
   ],
   "source": [
    "#10 The fractional_part function divides the numerator by the denominator, and returns just the fractional part (a number between 0 and 1). \n",
    "#Complete the body of the function so that it returns the right number.\n",
    "#Note: Since division by 0 produces an error, if the denominator is 0, the function should return 0 instead of attempting the division.\n",
    "def fractional_part(numerator, denominator):\n",
    "    if denominator == 0:\n",
    "        return 0\n",
    "    else:\n",
    "        return(numerator / denominator) - int(numerator/denominator)\n",
    "    \n",
    "print(fractional_part(5, 5)) # Should be 0\n",
    "print(fractional_part(5, 4)) # Should be 0.25\n",
    "print(fractional_part(5, 3)) # Should be 0.66...\n",
    "print(fractional_part(5, 2)) # Should be 0.5\n",
    "print(fractional_part(5, 0)) # Should be 0\n",
    "print(fractional_part(0, 5)) # Should be 0"
   ]
  },
  {
   "cell_type": "markdown",
   "metadata": {},
   "source": [
    "To get the integer part of a float use the built-in int() function:\n",
    "\n",
    ">int(5.1)\n",
    "5\n",
    "To separate the float part subtract the float with the integer:\n",
    "\n",
    ">5.1 - int(5.1)\n",
    "0.1\n",
    "\n",
    "https://stackoverflow.com/questions/20654141/want-to-seperate-the-integer-part-and-fractional-part-of-float-number-in-python"
   ]
  },
  {
   "cell_type": "code",
   "execution_count": 83,
   "metadata": {},
   "outputs": [
    {
     "name": "stdout",
     "output_type": "stream",
     "text": [
      "False\n"
     ]
    }
   ],
   "source": [
    "def pares(number):\n",
    "    if number %2 == 0:\n",
    "        return True\n",
    "    else:\n",
    "        return False\n",
    "    \n",
    "print(pares(5))"
   ]
  },
  {
   "cell_type": "markdown",
   "metadata": {},
   "source": [
    "## Loops"
   ]
  },
  {
   "cell_type": "markdown",
   "metadata": {},
   "source": [
    "### While loops"
   ]
  },
  {
   "cell_type": "markdown",
   "metadata": {},
   "source": [
    "Typical use:\n",
    "\n",
    "While loops are mostly used when there’s an unknown number of operations to be performed, and a condition needs to be checked at each iteration."
   ]
  },
  {
   "cell_type": "code",
   "execution_count": 239,
   "metadata": {
    "scrolled": true
   },
   "outputs": [
    {
     "name": "stdout",
     "output_type": "stream",
     "text": [
      "1\n",
      "2\n"
     ]
    }
   ],
   "source": [
    "i = 1\n",
    "while i < 6 :\n",
    "    if i == 3:\n",
    "        break\n",
    "    print(i)\n",
    "    i += 1"
   ]
  },
  {
   "cell_type": "code",
   "execution_count": 240,
   "metadata": {
    "scrolled": true
   },
   "outputs": [
    {
     "name": "stdout",
     "output_type": "stream",
     "text": [
      "2\n",
      "4\n",
      "5\n",
      "6\n"
     ]
    }
   ],
   "source": [
    "i= 1\n",
    "while i < 6:\n",
    "    i+=1\n",
    "    if i ==3:\n",
    "        continue\n",
    "    print(i)\n",
    "#this if i == 3 continue skips the condition 3 and keeps running the loop    "
   ]
  },
  {
   "cell_type": "code",
   "execution_count": 242,
   "metadata": {
    "scrolled": true
   },
   "outputs": [
    {
     "name": "stdout",
     "output_type": "stream",
     "text": [
      "1\n",
      "2\n",
      "3\n",
      "4\n",
      "5\n",
      "i is no longer less than 6\n"
     ]
    }
   ],
   "source": [
    "i = 1\n",
    "while i < 6:\n",
    "    print(i)\n",
    "    i += 1\n",
    "else:\n",
    "    print(\"i is no longer less than 6\")\n",
    "        "
   ]
  },
  {
   "cell_type": "code",
   "execution_count": 2,
   "metadata": {},
   "outputs": [
    {
     "name": "stdout",
     "output_type": "stream",
     "text": [
      "not there yet x=0\n",
      "not there yet x=1\n",
      "not there yet x=2\n",
      "not there yet x=3\n",
      "not there yet x=4\n",
      "not there yet x=5\n",
      "not there yet x=6\n",
      "not there yet x=7\n",
      "x=8\n"
     ]
    }
   ],
   "source": [
    "#initializing the variable, give an initial value to a variable\n",
    "x = 0\n",
    "#adding a while condition, x needs to be smaller than 5. \n",
    "#With the initial value of x, the loop repeats until condition is false (x is larger than 5)\n",
    "while x < 8:\n",
    "    print(\"not there yet x=\" + str(x))\n",
    "    #increment the value of x, add 1 to x\n",
    "    x= x+1\n",
    "print(\"x=\"+str(x))"
   ]
  },
  {
   "cell_type": "code",
   "execution_count": 4,
   "metadata": {
    "scrolled": true
   },
   "outputs": [
    {
     "name": "stdout",
     "output_type": "stream",
     "text": [
      "Attempt 1\n",
      "Attempt 2\n",
      "Attempt 3\n",
      "Attempt 4\n",
      "Attempt 5\n",
      "Attempt 6\n",
      "Attempt 7\n",
      "Attempt 8\n",
      "Done\n"
     ]
    }
   ],
   "source": [
    "def attempts(n):\n",
    "    #initialize x\n",
    "    x = 1\n",
    "    #define the condition, x needs to be smaller or equal than n\n",
    "    while x <= n:\n",
    "        print(\"Attempt \" + str(x))\n",
    "    #the += sign adds the value to x. Is equal to write x = x+1\n",
    "        x += 1\n",
    "    print(\"Done\")\n",
    "\n",
    "attempts(8)"
   ]
  },
  {
   "cell_type": "code",
   "execution_count": 2,
   "metadata": {},
   "outputs": [
    {
     "name": "stdout",
     "output_type": "stream",
     "text": [
      "Hello\n",
      "Hello\n",
      "Hello\n",
      "Hello\n",
      "Hello\n",
      "Hello\n",
      "Hello\n"
     ]
    }
   ],
   "source": [
    "my_variable = 3\n",
    "while my_variable <10:\n",
    "    print('Hello')\n",
    "    my_variable += 1"
   ]
  },
  {
   "cell_type": "code",
   "execution_count": 3,
   "metadata": {},
   "outputs": [],
   "source": [
    "x=1\n",
    "sum = 0\n",
    "while x <10:\n",
    "    sum += x\n",
    "    x +=1\n"
   ]
  },
  {
   "cell_type": "code",
   "execution_count": 4,
   "metadata": {
    "scrolled": true
   },
   "outputs": [
    {
     "name": "stdout",
     "output_type": "stream",
     "text": [
      "10\n",
      "45\n"
     ]
    }
   ],
   "source": [
    "print(x)\n",
    "print(sum)"
   ]
  },
  {
   "cell_type": "code",
   "execution_count": 7,
   "metadata": {},
   "outputs": [
    {
     "name": "stdout",
     "output_type": "stream",
     "text": [
      "10\n",
      "362880\n"
     ]
    }
   ],
   "source": [
    "x = 1\n",
    "product = 1\n",
    "while x < 10:\n",
    "    product = product * x\n",
    "    x +=1\n",
    "\n",
    "print(x)\n",
    "print(product)"
   ]
  },
  {
   "cell_type": "code",
   "execution_count": 12,
   "metadata": {},
   "outputs": [],
   "source": [
    "def count_down(start_number):\n",
    "    current = 8\n",
    "    while (current > 0):\n",
    "        print(current)\n",
    "        current -= 1\n",
    "    print('zero')"
   ]
  },
  {
   "cell_type": "code",
   "execution_count": 13,
   "metadata": {
    "scrolled": true
   },
   "outputs": [
    {
     "name": "stdout",
     "output_type": "stream",
     "text": [
      "8\n",
      "7\n",
      "6\n",
      "5\n",
      "4\n",
      "3\n",
      "2\n",
      "1\n",
      "zero\n"
     ]
    }
   ],
   "source": [
    "count_down(8)"
   ]
  },
  {
   "cell_type": "code",
   "execution_count": 14,
   "metadata": {},
   "outputs": [
    {
     "name": "stdout",
     "output_type": "stream",
     "text": [
      "1\n",
      "2\n",
      "3\n",
      "4\n",
      "5\n"
     ]
    }
   ],
   "source": [
    "def print_range(start, end):\n",
    "    # Loop through the numbers from start to end\n",
    "    n = start\n",
    "    while n < end:\n",
    "        print(n)\n",
    "        n +=1\n",
    "    print(n)\n",
    "\n",
    "print_range(1, 5)"
   ]
  },
  {
   "cell_type": "code",
   "execution_count": 17,
   "metadata": {},
   "outputs": [
    {
     "name": "stdout",
     "output_type": "stream",
     "text": [
      "2\n",
      "5\n"
     ]
    },
    {
     "data": {
      "text/plain": [
       "'Done'"
      ]
     },
     "execution_count": 17,
     "metadata": {},
     "output_type": "execute_result"
    }
   ],
   "source": [
    "def print_prime_factors(number):\n",
    "  # Start with two, which is the first prime\n",
    "  factor = 2\n",
    "  # Keep going until the factor is larger than the number\n",
    "  while factor <= number:\n",
    "    # Check if factor is a divisor of number\n",
    "    if number % factor == 0:\n",
    "      # If it is, print it and divide the original number\n",
    "      print(factor)\n",
    "      number = number / factor\n",
    "    else:\n",
    "      factor += 1\n",
    "      # If it's not, increment the factor by one\n",
    "  return \"Done\"\n",
    "\n",
    "print_prime_factors(10)\n",
    "# Should print 2,2,5,5\n",
    "# DO NOT DELETE THIS COMMENT"
   ]
  },
  {
   "cell_type": "markdown",
   "metadata": {},
   "source": [
    "#### How to break infinite loops"
   ]
  },
  {
   "cell_type": "markdown",
   "metadata": {},
   "source": [
    "If we initialize x as 0, the loop will run forever. We solve that issue by adding the if statement and then a while loop nested to that if. Another option would be to add x != 0 and x% 2"
   ]
  },
  {
   "cell_type": "code",
   "execution_count": 29,
   "metadata": {},
   "outputs": [],
   "source": [
    "# if x != 0:\n",
    "# while x % 2 == 0:\n",
    "#     x = x/2\n",
    "    \n",
    "# while x !=0 and x % 2 == 0:\n",
    "#     x= x/2"
   ]
  },
  {
   "cell_type": "code",
   "execution_count": 31,
   "metadata": {},
   "outputs": [
    {
     "name": "stdout",
     "output_type": "stream",
     "text": [
      "1\n",
      "2\n",
      "3\n",
      "4\n",
      "5\n"
     ]
    }
   ],
   "source": [
    "#this is an infinite loop\n",
    "# def print_range(start, end):\n",
    "#     # Loop through the numbers from start to end\n",
    "#     n = start\n",
    "#     while n <= end:\n",
    "#     print(n)\n",
    "\n",
    "#fixed version\n",
    "def print_range(start, end):\n",
    "# Loop through the numbers from start to end\n",
    "    n = start\n",
    "    while n < end:\n",
    "        print(n)\n",
    "        n +=1\n",
    "    print(n)\n",
    "    \n",
    "print_range(1,5)"
   ]
  },
  {
   "cell_type": "markdown",
   "metadata": {},
   "source": [
    "### Practice quiz Week 3"
   ]
  },
  {
   "cell_type": "markdown",
   "metadata": {},
   "source": [
    "Pregunta 2\n",
    "Fill in the blanks to make the print_prime_factors function print all the prime factors of a number. A prime factor is a number that is prime and divides another without a remainder."
   ]
  },
  {
   "cell_type": "code",
   "execution_count": 20,
   "metadata": {},
   "outputs": [
    {
     "name": "stdout",
     "output_type": "stream",
     "text": [
      "2\n",
      "2\n",
      "5\n",
      "5\n"
     ]
    },
    {
     "data": {
      "text/plain": [
       "'Done'"
      ]
     },
     "execution_count": 20,
     "metadata": {},
     "output_type": "execute_result"
    }
   ],
   "source": [
    "def print_prime_factors(number):\n",
    "  # Start with two, which is the first prime\n",
    "  factor = 2\n",
    "  # Keep going until the factor is larger than the number\n",
    "  while factor <= number:\n",
    "    # Check if factor is a divisor of number\n",
    "    if number % factor == 0:\n",
    "      # If it is, print it and divide the original number\n",
    "      print(factor)\n",
    "      number = number / factor\n",
    "    else:\n",
    "      factor += 1\n",
    "      # If it's not, increment the factor by one\n",
    "  return \"Done\"\n",
    "\n",
    "print_prime_factors(100)\n",
    "# Should print 2,2,5,5\n",
    "# DO NOT DELETE THIS COMMENT"
   ]
  },
  {
   "cell_type": "markdown",
   "metadata": {},
   "source": [
    "3. Pregunta 3\n",
    "The following code can lead to an infinite loop. Fix the code so that it can finish successfully for all numbers.\n",
    "\n",
    "Note: Try running your function with the number 0 as the input, and see what you get!"
   ]
  },
  {
   "cell_type": "code",
   "execution_count": 27,
   "metadata": {},
   "outputs": [
    {
     "name": "stdout",
     "output_type": "stream",
     "text": [
      "False\n",
      "True\n",
      "True\n",
      "False\n"
     ]
    }
   ],
   "source": [
    "def is_power_of_two(n):\n",
    "  # Check if the number can be divided by two without a remainder\n",
    "  while n % 2 == 0 and n!= 0:\n",
    "    n = n / 2\n",
    "  # If after dividing by two the number is 1, it's a power of two\n",
    "  if n == 1:\n",
    "    return True\n",
    "    n+=1\n",
    "  return False\n",
    "  \n",
    "\n",
    "print(is_power_of_two(0)) # Should be False\n",
    "print(is_power_of_two(1)) # Should be True\n",
    "print(is_power_of_two(8)) # Should be True\n",
    "print(is_power_of_two(9)) # Should be False\n"
   ]
  },
  {
   "cell_type": "markdown",
   "metadata": {},
   "source": [
    "4. Fill in the empty function so that it returns the sum of all the divisors of a number, without including it. A divisor is a number that divides into another without a remainder."
   ]
  },
  {
   "cell_type": "code",
   "execution_count": 22,
   "metadata": {},
   "outputs": [
    {
     "name": "stdout",
     "output_type": "stream",
     "text": [
      "6\n",
      "16\n"
     ]
    }
   ],
   "source": [
    "# def sum_divisors(n):\n",
    "#   divisor = 1\n",
    "#   sum = 0\n",
    "#   while n % divisor == 0:\n",
    "#     return divisor\n",
    "#     if number == n:\n",
    "#       return(divisor)\n",
    "\n",
    "def sum_divisors(n):\n",
    "  divisor = 1\n",
    "  sum = 0\n",
    "  # Return the sum of all divisors of n, not including\n",
    "  while divisor<n:\n",
    "    if n%divisor==0:\n",
    "      sum += divisor\n",
    "    divisor+=1\n",
    "  return sum\n",
    "\n",
    "print(sum_divisors(6)) # Should be 1+2+3=6\n",
    "print(sum_divisors(12)) # Should be 1+2+3+4+6=16"
   ]
  },
  {
   "cell_type": "markdown",
   "metadata": {},
   "source": [
    "Pregunta 5\n",
    "The multiplication_table function prints the results of a number passed to it multiplied by 1 through 5. An additional requirement is that the result is not to exceed 25, which is done with the break statement. Fill in the blanks to complete the function to satisfy these conditions."
   ]
  },
  {
   "cell_type": "code",
   "execution_count": 19,
   "metadata": {
    "scrolled": true
   },
   "outputs": [
    {
     "name": "stdout",
     "output_type": "stream",
     "text": [
      "3x1=3\n",
      "3x2=6\n",
      "3x3=9\n",
      "3x4=12\n",
      "3x5=15\n",
      "5x1=5\n",
      "5x2=10\n",
      "5x3=15\n",
      "5x4=20\n",
      "5x5=25\n",
      "8x1=8\n",
      "8x2=16\n",
      "8x3=24\n"
     ]
    }
   ],
   "source": [
    "def multiplication_table(number):\n",
    "# Initialize the starting point of the multiplication table\n",
    "    multiplier = 1\n",
    "    #initialize result in 0, this variable will store the result of the multiplication of number * multiplier\n",
    "    result = 0\n",
    "# Limit the loop to less or equal to 5\n",
    "    while multiplier <= 5:\n",
    "    #result is the multiplication of the number * the multiplier starting in 1\n",
    "        result = number * multiplier\n",
    "    # Limit the result to 25\n",
    "        if result >25 :\n",
    "            break\n",
    "        print(str(number) + \"x\" + str(multiplier) + \"=\" + str(result))\n",
    "    # Increment the variable for the loop\n",
    "        multiplier +=1\n",
    "\n",
    "multiplication_table(3) \n",
    "# Should print: 3x1=3 3x2=6 3x3=9 3x4=12 3x5=15\n",
    "\n",
    "multiplication_table(5) \n",
    "# Should print: 5x1=5 5x2=10 5x3=15 5x4=20 5x5=25\n",
    "\n",
    "multiplication_table(8)\t\n",
    "# Should print: 8x1=8 8x2=16 8x3=24"
   ]
  },
  {
   "cell_type": "markdown",
   "metadata": {},
   "source": [
    "### For loops"
   ]
  },
  {
   "cell_type": "markdown",
   "metadata": {},
   "source": [
    "##### WIKI\n",
    "https://wiki.python.org/moin/ForLoop"
   ]
  },
  {
   "cell_type": "code",
   "execution_count": 34,
   "metadata": {},
   "outputs": [
    {
     "name": "stdout",
     "output_type": "stream",
     "text": [
      "5\n",
      "6\n",
      "7\n",
      "8\n",
      "9\n"
     ]
    }
   ],
   "source": [
    "for i in range(5,10):\n",
    "    print(i)\n",
    "    "
   ]
  },
  {
   "cell_type": "code",
   "execution_count": 246,
   "metadata": {},
   "outputs": [
    {
     "name": "stdout",
     "output_type": "stream",
     "text": [
      "apple\n"
     ]
    }
   ],
   "source": [
    "#use break to stop the iteration when finds banana and prints only apple\n",
    "fruits = [\"apple\", \"banana\", \"cherry\"]\n",
    "for x in fruits:\n",
    "    if x == \"banana\":\n",
    "        break  \n",
    "    print(x)"
   ]
  },
  {
   "cell_type": "code",
   "execution_count": 252,
   "metadata": {},
   "outputs": [
    {
     "name": "stdout",
     "output_type": "stream",
     "text": [
      "apple\n",
      "banana\n"
     ]
    }
   ],
   "source": [
    "#here use print before break and we get two values\n",
    "fruits = ['apple', 'banana', 'cherry']\n",
    "for i in fruits:\n",
    "    print(i)\n",
    "    if i == 'banana':\n",
    "        break"
   ]
  },
  {
   "cell_type": "code",
   "execution_count": 251,
   "metadata": {},
   "outputs": [
    {
     "name": "stdout",
     "output_type": "stream",
     "text": [
      "apple\n",
      "cherry\n"
     ]
    }
   ],
   "source": [
    "fruits = ['apple', 'banana', 'cherry']\n",
    "for i in fruits:\n",
    "    if i == 'banana':\n",
    "        continue\n",
    "    print(i)"
   ]
  },
  {
   "cell_type": "code",
   "execution_count": 253,
   "metadata": {},
   "outputs": [
    {
     "name": "stdout",
     "output_type": "stream",
     "text": [
      "\n",
      "\n",
      "Recursion Example Results\n",
      "1\n",
      "3\n",
      "6\n",
      "10\n",
      "15\n",
      "21\n"
     ]
    },
    {
     "data": {
      "text/plain": [
       "21"
      ]
     },
     "execution_count": 253,
     "metadata": {},
     "output_type": "execute_result"
    }
   ],
   "source": [
    "#Recursion\n",
    "def tri_recursion(k):\n",
    "  if(k > 0):\n",
    "    result = k + tri_recursion(k - 1)\n",
    "    print(result)\n",
    "  else:\n",
    "    result = 0\n",
    "  return result\n",
    "\n",
    "print(\"\\n\\nRecursion Example Results\")\n",
    "tri_recursion(6)"
   ]
  },
  {
   "cell_type": "markdown",
   "metadata": {},
   "source": [
    "Fill in the gaps of the sum_squares function, so that it returns the sum of all the squares of numbers between 0 and x (not included). Remember that you can use the range(x) function to generate a sequence of numbers from 0 to x (not included)."
   ]
  },
  {
   "cell_type": "code",
   "execution_count": 47,
   "metadata": {},
   "outputs": [
    {
     "name": "stdout",
     "output_type": "stream",
     "text": [
      "285\n"
     ]
    }
   ],
   "source": [
    "def sum_squares(x):\n",
    "    sum = 0\n",
    "    for n in range(x):\n",
    "        sum += n*n\n",
    "    return sum\n",
    "\n",
    "print(sum_squares(10)) # Should be 285"
   ]
  },
  {
   "cell_type": "code",
   "execution_count": 44,
   "metadata": {},
   "outputs": [
    {
     "name": "stdout",
     "output_type": "stream",
     "text": [
      "0\n",
      "1\n",
      "4\n",
      "9\n",
      "16\n",
      "25\n",
      "36\n",
      "49\n",
      "64\n",
      "81\n"
     ]
    }
   ],
   "source": [
    "for n in range(10):\n",
    "    multiply=0\n",
    "    multiply = n*n\n",
    "    print(multiply)"
   ]
  },
  {
   "cell_type": "code",
   "execution_count": 49,
   "metadata": {},
   "outputs": [
    {
     "name": "stdout",
     "output_type": "stream",
     "text": [
      "Hello Momo\n",
      "Hello Timi\n",
      "Hello Pepe\n",
      "Hello Val\n"
     ]
    }
   ],
   "source": [
    "friends = ['Momo', 'Timi', 'Pepe', 'Val']\n",
    "for name in friends:\n",
    "    print(\"Hello \" + name)"
   ]
  },
  {
   "cell_type": "code",
   "execution_count": 71,
   "metadata": {},
   "outputs": [
    {
     "name": "stdout",
     "output_type": "stream",
     "text": [
      "Total sum= 219 Average 43.8\n"
     ]
    }
   ],
   "source": [
    "values = [23, 52 , 59, 37 , 48 ]\n",
    "suma = 0\n",
    "length = 0\n",
    "for value in values:\n",
    "    suma += value\n",
    "    #added length +1 to obtain the total elements of the list\n",
    "    length += 1\n",
    "# print(suma)\n",
    "print(\"Total sum= \" +str(suma)+ ' Average '+ str(suma/length))\n",
    "# print(length)"
   ]
  },
  {
   "cell_type": "code",
   "execution_count": 61,
   "metadata": {
    "scrolled": true
   },
   "outputs": [
    {
     "data": {
      "text/plain": [
       "219"
      ]
     },
     "execution_count": 61,
     "metadata": {},
     "output_type": "execute_result"
    }
   ],
   "source": [
    "23+52+59+37+48"
   ]
  },
  {
   "cell_type": "markdown",
   "metadata": {},
   "source": [
    "Not sure whether to use a for loop or a while loop? Remember that a while loop is great for performing an action over and over until a condition has changed. A for loop works well when you want to iterate over a sequence of element"
   ]
  },
  {
   "cell_type": "code",
   "execution_count": 73,
   "metadata": {},
   "outputs": [
    {
     "name": "stdout",
     "output_type": "stream",
     "text": [
      "1\n",
      "2\n",
      "6\n",
      "24\n",
      "120\n",
      "720\n",
      "5040\n",
      "40320\n",
      "362880\n"
     ]
    }
   ],
   "source": [
    "product = 1\n",
    "for x in range(1,10):\n",
    "    product = product * x\n",
    "    print(product)"
   ]
  },
  {
   "cell_type": "code",
   "execution_count": 74,
   "metadata": {},
   "outputs": [
    {
     "name": "stdout",
     "output_type": "stream",
     "text": [
      "24\n",
      "120\n"
     ]
    }
   ],
   "source": [
    "def factorial(n):\n",
    "    result = 1\n",
    "    for i in range(n):\n",
    "        result += result * i\n",
    "    return result\n",
    "\n",
    "print(factorial(4)) # should return 24\n",
    "print(factorial(5)) # should return 120"
   ]
  },
  {
   "cell_type": "code",
   "execution_count": 80,
   "metadata": {},
   "outputs": [
    {
     "name": "stdout",
     "output_type": "stream",
     "text": [
      "0 -17.77777777777778\n",
      "10 -12.222222222222221\n",
      "20 -6.666666666666667\n",
      "30 -1.1111111111111112\n",
      "40 4.444444444444445\n",
      "50 10.0\n",
      "60 15.555555555555555\n",
      "70 21.11111111111111\n",
      "80 26.666666666666668\n",
      "90 32.22222222222222\n",
      "100 37.77777777777778\n",
      "110 43.333333333333336\n",
      "120 48.888888888888886\n",
      "130 54.44444444444444\n",
      "140 60.0\n",
      "150 65.55555555555556\n"
     ]
    }
   ],
   "source": [
    "def to_celsius(x):\n",
    "    return(x-32)*5/9\n",
    "\n",
    "#range starts at 0, ends at 100 with an interval of 5 or 10\n",
    "for i in range(0,151,10):\n",
    "    print(i, to_celsius(i))"
   ]
  },
  {
   "cell_type": "markdown",
   "metadata": {},
   "source": [
    "#### A quick view of the range function\n",
    "Previously we had used the range() function by passing it a single parameter, and it generated a sequence of numbers from 0 to one less than we specified. But the range() function can do much more than that. We can pass in two parameters: the first specifying our starting point, the second specifying the end point. Don't forget that the sequence generated won't contain the last element; it will stop one before the parameter specified.\n",
    "\n",
    "The range() function can take a third parameter, too. This third parameter lets you  alter the size of each step. So instead of creating a sequence of numbers incremented by 1, you can generate a sequence of numbers that are incremented by 5.\n",
    "\n",
    "To quickly recap the range() function when passing one, two, or three parameters:\n",
    "\n",
    "- One parameter will create a sequence, one-by-one, from zero to one less than the parameter.\n",
    "- Two parameters will create a sequence, one-by-one, from the first parameter to one less than the second parameter.\n",
    "- Three parameters will create a sequence starting with the first parameter and stopping before the second parameter, but this time increasing each step by the third parameter."
   ]
  },
  {
   "cell_type": "markdown",
   "metadata": {},
   "source": [
    "### Nested loops"
   ]
  },
  {
   "cell_type": "code",
   "execution_count": 81,
   "metadata": {},
   "outputs": [
    {
     "name": "stdout",
     "output_type": "stream",
     "text": [
      "[0|0] [0|1] [0|2] [0|3] [0|4] [0|5] [0|6] \n",
      "[1|1] [1|2] [1|3] [1|4] [1|5] [1|6] \n",
      "[2|2] [2|3] [2|4] [2|5] [2|6] \n",
      "[3|3] [3|4] [3|5] [3|6] \n",
      "[4|4] [4|5] [4|6] \n",
      "[5|5] [5|6] \n",
      "[6|6] \n"
     ]
    }
   ],
   "source": [
    "for left in range(7):\n",
    "    for right in range(left, 7):\n",
    "        print(\"[\" + str(left) + \"|\" + str(right) + \"]\", end=\" \")\n",
    "    print()"
   ]
  },
  {
   "cell_type": "code",
   "execution_count": 84,
   "metadata": {
    "scrolled": true
   },
   "outputs": [
    {
     "name": "stdout",
     "output_type": "stream",
     "text": [
      "Dragons vs Wolves\n",
      "Dragons vs pandas\n",
      "Dragons vs Unicorns\n",
      "Wolves vs Dragons\n",
      "Wolves vs pandas\n",
      "Wolves vs Unicorns\n",
      "pandas vs Dragons\n",
      "pandas vs Wolves\n",
      "pandas vs Unicorns\n",
      "Unicorns vs Dragons\n",
      "Unicorns vs Wolves\n",
      "Unicorns vs pandas\n"
     ]
    }
   ],
   "source": [
    "teams= [\"Dragons\", \"Wolves\", \"pandas\", \"Unicorns\"]\n",
    "for home_team in teams:\n",
    "    for away_team in teams:\n",
    "        if home_team != away_team:\n",
    "            print(home_team + \" vs \" + away_team)"
   ]
  },
  {
   "cell_type": "code",
   "execution_count": 89,
   "metadata": {},
   "outputs": [
    {
     "name": "stdout",
     "output_type": "stream",
     "text": [
      "Hello Momo\n",
      "Hello timi\n",
      "Hello Rox\n",
      "Hello Pepe\n",
      "None\n",
      "Hello M\n",
      "Hello o\n",
      "Hello m\n",
      "Hello o\n",
      "None\n"
     ]
    }
   ],
   "source": [
    "def saludo(amigos):\n",
    "    for name in amigos:\n",
    "        print(\"Hello \" + name)\n",
    "\n",
    "print(saludo([\"Momo\", \"timi\", \"Rox\", \"Pepe\"]))\n",
    "print(saludo(\"Momo\"))"
   ]
  },
  {
   "cell_type": "markdown",
   "metadata": {},
   "source": [
    "The validate_users function is used by the system to check if a list of users is valid or invalid. A valid user is one that is at least 3 characters long. For example, ['taylor', 'luisa', 'jamaal'] are all valid users. When calling it like in this example, something is not right. Can you figure out what to fix?"
   ]
  },
  {
   "cell_type": "code",
   "execution_count": 99,
   "metadata": {},
   "outputs": [
    {
     "name": "stdout",
     "output_type": "stream",
     "text": [
      "Valid user name.\n"
     ]
    }
   ],
   "source": [
    "#verificar el numero de caracteres para un user id\n",
    "#verify the length of a string\n",
    "def valid_userid(user_id):\n",
    "    if len(user_id) < 3:\n",
    "        print(\"Invalid user name. User must be at least 3 characters long.\")\n",
    "    elif len(user_id) > 15:\n",
    "        print(\"Invalid user name. User must be at least 3 characters long.\")\n",
    "    else:\n",
    "        print(\"Valid user name.\")\n",
    "        \n",
    "valid_userid(\"Momo\")"
   ]
  },
  {
   "cell_type": "code",
   "execution_count": 101,
   "metadata": {},
   "outputs": [
    {
     "name": "stdout",
     "output_type": "stream",
     "text": [
      "purplecat is valid\n"
     ]
    }
   ],
   "source": [
    "#this is the incorrect code\n",
    "# def validate_users(users):\n",
    "#   for user in users:\n",
    "#     if is_valid(user):\n",
    "#       print(user + \" is valid\")\n",
    "#     else:\n",
    "#       print(user + \" is invalid\")\n",
    "\n",
    "# validate_users(\"purplecat\")\n",
    "\n",
    "#Code without using our previous function valid_userid\n",
    "def validate_users(users):\n",
    "  for user in users:\n",
    "    if len(user) >=3:\n",
    "      print(user + \" is valid\")\n",
    "    else:\n",
    "      print(user + \" is invalid\")\n",
    "\n",
    "validate_users([\"purplecat\"])\n",
    "\n",
    "#code using or previously created function for valid user ID\n",
    "# def validate_users(users):\n",
    "#   for user in users:\n",
    "#     if valid_userid(user):\n",
    "#       print(user + \" is valid\")\n",
    "#     else:\n",
    "#       print(user + \" is invalid\")\n",
    "\n",
    "# validate_users([\"purplecat\"])\n"
   ]
  },
  {
   "cell_type": "code",
   "execution_count": 102,
   "metadata": {},
   "outputs": [
    {
     "name": "stdout",
     "output_type": "stream",
     "text": [
      "We're on time 0\n",
      "We're on time 1\n",
      "We're on time 2\n"
     ]
    }
   ],
   "source": [
    "for x in range(0, 3):\n",
    "    print(\"We're on time %d\" % (x))"
   ]
  },
  {
   "cell_type": "markdown",
   "metadata": {},
   "source": [
    "#### Practice Week 3 For loops"
   ]
  },
  {
   "cell_type": "markdown",
   "metadata": {},
   "source": [
    "Pregunta 2\n",
    "\n",
    "Fill in the blanks to make the factorial function return the factorial of n. Then, print the first 10 factorials (from 0 to 9) with the corresponding number. Remember that the factorial of a number is defined as the product of an integer and all integers before it. For example, the factorial of five (5!) is equal to 1*2*3*4*5=120. Also recall that the factorial of zero (0!) is equal to 1."
   ]
  },
  {
   "cell_type": "code",
   "execution_count": 105,
   "metadata": {},
   "outputs": [
    {
     "name": "stdout",
     "output_type": "stream",
     "text": [
      "0 1\n",
      "1 1\n",
      "2 2\n",
      "3 6\n",
      "4 24\n",
      "5 120\n",
      "6 720\n",
      "7 5040\n",
      "8 40320\n",
      "9 362880\n"
     ]
    }
   ],
   "source": [
    "def factorial(n):\n",
    "    result = 1\n",
    "    for x in range(n):\n",
    "        result += result * x\n",
    "    return result\n",
    "\n",
    "for n in range(0,10):\n",
    "    print(n, factorial(n))"
   ]
  },
  {
   "cell_type": "markdown",
   "metadata": {},
   "source": [
    "Pregunta 3\n",
    "\n",
    "Write a script that prints the first 10 cube numbers (x**3), starting with x=1 and ending with x=10."
   ]
  },
  {
   "cell_type": "code",
   "execution_count": 106,
   "metadata": {},
   "outputs": [
    {
     "name": "stdout",
     "output_type": "stream",
     "text": [
      "1\n",
      "8\n",
      "27\n",
      "64\n",
      "125\n",
      "216\n",
      "343\n",
      "512\n",
      "729\n",
      "1000\n"
     ]
    }
   ],
   "source": [
    "for number in range(1,11):\n",
    "  print(number**3)"
   ]
  },
  {
   "cell_type": "markdown",
   "metadata": {},
   "source": [
    "Pregunta 4.\n",
    "\n",
    "Write a script that prints the multiples of 7 between 0 and 100. Print one multiple per line and avoid printing any numbers that aren't multiples of 7. Remember that 0 is also a multiple of 7"
   ]
  },
  {
   "cell_type": "code",
   "execution_count": 108,
   "metadata": {},
   "outputs": [
    {
     "name": "stdout",
     "output_type": "stream",
     "text": [
      "0\n",
      "7\n",
      "14\n",
      "21\n",
      "28\n",
      "35\n",
      "42\n",
      "49\n",
      "56\n",
      "63\n",
      "70\n",
      "77\n",
      "84\n",
      "91\n",
      "98\n"
     ]
    }
   ],
   "source": [
    "for x in range(101):\n",
    "    if x % 7 == 0:\n",
    "        print(x)"
   ]
  },
  {
   "cell_type": "markdown",
   "metadata": {},
   "source": [
    "### Recursion"
   ]
  },
  {
   "cell_type": "markdown",
   "metadata": {},
   "source": [
    "A recursive function must include a recursive case and base case. The recursive case calls the function again, with a different value. The base case returns a value without calling the same function."
   ]
  },
  {
   "cell_type": "code",
   "execution_count": null,
   "metadata": {},
   "outputs": [],
   "source": [
    "# def recursive_function(parameters):\n",
    "#     if base_case_condition(parameters):\n",
    "#         return base_case_value\n",
    "#     recursive_function(modified_parameters)"
   ]
  },
  {
   "cell_type": "code",
   "execution_count": 111,
   "metadata": {},
   "outputs": [
    {
     "data": {
      "text/plain": [
       "40320"
      ]
     },
     "execution_count": 111,
     "metadata": {},
     "output_type": "execute_result"
    }
   ],
   "source": [
    "def factorial(n):\n",
    "    if n < 2:\n",
    "        return 1\n",
    "    return n * factorial(n-1)\n",
    "\n",
    "factorial(8)"
   ]
  },
  {
   "cell_type": "code",
   "execution_count": 109,
   "metadata": {},
   "outputs": [
    {
     "name": "stdout",
     "output_type": "stream",
     "text": [
      "6\n",
      "15\n"
     ]
    }
   ],
   "source": [
    "def sum_positive_numbers(n):\n",
    "    # The base case is n being smaller than 1\n",
    "    if n < 1:\n",
    "        return 0\n",
    "\n",
    "    # The recursive case is adding this number n to \n",
    "    # the sum of the numbers smaller than this one.\n",
    "    return n + sum_positive_numbers(n-1)\n",
    "\n",
    "print(sum_positive_numbers(3)) # Should be 6\n",
    "print(sum_positive_numbers(5)) # Should be 15"
   ]
  },
  {
   "cell_type": "markdown",
   "metadata": {},
   "source": [
    "#### Practice recursions"
   ]
  },
  {
   "cell_type": "markdown",
   "metadata": {},
   "source": [
    "Pregunta 5.\n",
    "\n",
    "Implement the sum_positive_numbers function, as a recursive function that returns the sum of all positive numbers between the number n received and 1. For example, when n is 3 it should return 1+2+3=6, and when n is 5 it should return 1+2+3+4+5=15."
   ]
  },
  {
   "cell_type": "code",
   "execution_count": 114,
   "metadata": {
    "scrolled": true
   },
   "outputs": [
    {
     "name": "stdout",
     "output_type": "stream",
     "text": [
      "6\n",
      "15\n"
     ]
    }
   ],
   "source": [
    "def sum_positive_numbers(n):\n",
    "  if n < 1:\n",
    "    return 0\n",
    "  return n + sum_positive_numbers(n-1)\n",
    "\n",
    "print(sum_positive_numbers(3)) # Should be 6\n",
    "print(sum_positive_numbers(5)) # Should be 15"
   ]
  },
  {
   "cell_type": "markdown",
   "metadata": {},
   "source": [
    "### Graded Quiz week 3"
   ]
  },
  {
   "cell_type": "markdown",
   "metadata": {},
   "source": [
    "Pregunta 1.\n",
    "\n",
    "Fill in the blanks of this code to print out the numbers 1 through 7.\n"
   ]
  },
  {
   "cell_type": "code",
   "execution_count": 40,
   "metadata": {
    "scrolled": true
   },
   "outputs": [
    {
     "name": "stdout",
     "output_type": "stream",
     "text": [
      "1\n",
      "2\n",
      "3\n",
      "4\n",
      "5\n",
      "6\n",
      "7\n",
      "zero\n"
     ]
    }
   ],
   "source": [
    "# number = 1\n",
    "# while number ___ 7:\n",
    "#     print(number, end=\" \")\n",
    "#     ___\n",
    "\n",
    "current = 1\n",
    "while current <= 7 and current >=1:\n",
    "    print(current)\n",
    "    current += 1\n",
    "print('zero')"
   ]
  },
  {
   "cell_type": "markdown",
   "metadata": {},
   "source": [
    "\n",
    "Pregunta 2\n",
    "\n",
    "The show_letters function should print out each letter of a word on a separate line. Fill in the blanks to make that happen"
   ]
  },
  {
   "cell_type": "code",
   "execution_count": 41,
   "metadata": {},
   "outputs": [
    {
     "name": "stdout",
     "output_type": "stream",
     "text": [
      "H\n",
      "e\n",
      "l\n",
      "l\n",
      "o\n"
     ]
    }
   ],
   "source": [
    "def show_letters(word):\n",
    "\tfor letter in word:\n",
    "\t\tprint(letter)\n",
    "\n",
    "show_letters(\"Hello\")\n",
    "# Should print one line per letter"
   ]
  },
  {
   "cell_type": "markdown",
   "metadata": {},
   "source": [
    "Pregunta 3.\n",
    "\n",
    "Complete the function digits(n) that returns how many digits the number has. For example: 25 has 2 digits and 144 has 3 digits. Tip: you can figure out the digits of a number by dividing it by 10 once per digit until there are no digits left."
   ]
  },
  {
   "cell_type": "code",
   "execution_count": 35,
   "metadata": {},
   "outputs": [
    {
     "name": "stdout",
     "output_type": "stream",
     "text": [
      "2\n",
      "3\n",
      "4\n",
      "1\n"
     ]
    }
   ],
   "source": [
    "def digitsss(n):\n",
    "    count = 0\n",
    "    if n == 0:\n",
    "        count = 1\n",
    "    while (n >= 1):\n",
    "        count += 1\n",
    "        n = n//10\n",
    "    return count\n",
    "\n",
    "print(digitsss(25))   # Should print 2\n",
    "print(digitsss(144))  # Should print 3\n",
    "print(digitsss(1000)) # Should print 4\n",
    "print(digitsss(0))    # Should print 1"
   ]
  },
  {
   "cell_type": "code",
   "execution_count": 42,
   "metadata": {},
   "outputs": [
    {
     "name": "stdout",
     "output_type": "stream",
     "text": [
      "2\n",
      "3\n",
      "4\n",
      "1\n"
     ]
    }
   ],
   "source": [
    "def digits(n):\n",
    "    count = 0\n",
    "    if n == 0:\n",
    "        count += 1\n",
    "    while (n>0):\n",
    "        count +=1\n",
    "        n = n//10\n",
    "    return count\n",
    "\n",
    "print(digits(25))   # Should print 2\n",
    "print(digits(144))  # Should print 3\n",
    "print(digits(1000)) # Should print 4\n",
    "print(digits(0))    # Should print 1"
   ]
  },
  {
   "cell_type": "markdown",
   "metadata": {},
   "source": [
    "Pregunta 4.\n",
    "\n",
    "This function prints out a multiplication table (where each number is the result of multiplying the first number of its row by the number at the top of its column). Fill in the blanks so that calling multiplication_table(1, 3) will print out:\n",
    "\n",
    "1 2 3 \n",
    "\n",
    "2 4 6 \n",
    "\n",
    "3 6 9"
   ]
  },
  {
   "cell_type": "code",
   "execution_count": 43,
   "metadata": {},
   "outputs": [
    {
     "name": "stdout",
     "output_type": "stream",
     "text": [
      "1 2 3 \n",
      "2 4 6 \n",
      "3 6 9 \n"
     ]
    }
   ],
   "source": [
    "def multiplication_table(start, stop):\n",
    "    for x in range(start, stop+1):\n",
    "        for y in range(start,stop+1):\n",
    "                print(str(x*y), end=\" \")\n",
    "        print()\n",
    "\n",
    "\n",
    "\n",
    "\n",
    "multiplication_table(1, 3)"
   ]
  },
  {
   "cell_type": "markdown",
   "metadata": {},
   "source": [
    "Pregunta 5.\n",
    "\n",
    "The counter function counts down from start to stop when start is bigger than stop, and counts up from start to stop otherwise. Fill in the blanks to make this work correctly."
   ]
  },
  {
   "cell_type": "code",
   "execution_count": 50,
   "metadata": {},
   "outputs": [
    {
     "name": "stdout",
     "output_type": "stream",
     "text": [
      "Counting up: 1,2,3,4,5,6,7,8,9,10\n",
      "Counting down: 2,1\n",
      "Counting up: 5\n"
     ]
    }
   ],
   "source": [
    "def counter(start, stop):\n",
    "    x = start\n",
    "    if start > stop:\n",
    "        return_string = \"Counting down: \"\n",
    "        while x >= stop:\n",
    "            return_string += str(x)\n",
    "            if x > stop:\n",
    "                return_string += \",\"\n",
    "            else:\n",
    "                return_string += \"\"\n",
    "            x -=1\n",
    "    else:\n",
    "        return_string = \"Counting up: \"\n",
    "        while x <= stop:\n",
    "            return_string += str(x)\n",
    "            if x < stop:\n",
    "                return_string += \",\"\n",
    "            x += 1\n",
    "    return return_string\n",
    "\n",
    "print(counter(1, 10)) # Should be \"Counting up: 1,2,3,4,5,6,7,8,9,10\"\n",
    "print(counter(2, 1)) # Should be \"Counting down: 2,1\"\n",
    "print(counter(5, 5)) # Should be \"Counting up: 5\""
   ]
  },
  {
   "cell_type": "markdown",
   "metadata": {},
   "source": [
    "Pregunta 6. The even_numbers function returns a space-separated string of all positive numbers that are divisible by 2, up to and including the maximum that's passed into the function. For example, even_numbers(6) returns “2 4 6”. Fill in the blank to make this work."
   ]
  },
  {
   "cell_type": "code",
   "execution_count": 49,
   "metadata": {},
   "outputs": [
    {
     "name": "stdout",
     "output_type": "stream",
     "text": [
      "2 4 6\n",
      "2 4 6 8 10\n",
      "\n",
      "2\n",
      "\n"
     ]
    }
   ],
   "source": [
    "def even_numbers(maximum):\n",
    "    return_string = \"\"\n",
    "    for x in range(1, maximum+1):\n",
    "        if x % 2 == 0:\n",
    "            return_string += str(x) + \" \"\n",
    "        x+=1\n",
    "    return return_string.strip()\n",
    "\n",
    "\n",
    "print(even_numbers(6))  # Should be 2 4 6\n",
    "print(even_numbers(10)) # Should be 2 4 6 8 10\n",
    "print(even_numbers(1))  # No numbers displayed\n",
    "print(even_numbers(3))  # Should be 2\n",
    "print(even_numbers(0))  # No numbers displayed"
   ]
  },
  {
   "cell_type": "markdown",
   "metadata": {},
   "source": [
    "Pregunta 7. The following code containts an error, what is the error?"
   ]
  },
  {
   "cell_type": "code",
   "execution_count": 1,
   "metadata": {},
   "outputs": [],
   "source": [
    "def decade_counter(year):\n",
    "    decade=0\n",
    "    while year < 50:\n",
    "        decade += 1\n",
    "    return decade"
   ]
  },
  {
   "cell_type": "markdown",
   "metadata": {},
   "source": [
    "Failure to initialize the variables."
   ]
  },
  {
   "cell_type": "markdown",
   "metadata": {},
   "source": [
    "8. What is the value at the END of the script?"
   ]
  },
  {
   "cell_type": "code",
   "execution_count": 2,
   "metadata": {},
   "outputs": [
    {
     "name": "stdout",
     "output_type": "stream",
     "text": [
      "1\n",
      "4\n",
      "7\n"
     ]
    }
   ],
   "source": [
    "for x in range(1,10,3):\n",
    "    print(x)"
   ]
  },
  {
   "cell_type": "markdown",
   "metadata": {},
   "source": [
    "9.What is the value of Y ant the END of the code?"
   ]
  },
  {
   "cell_type": "code",
   "execution_count": 25,
   "metadata": {},
   "outputs": [
    {
     "name": "stdout",
     "output_type": "stream",
     "text": [
      "0\n",
      "0\n",
      "1\n",
      "0\n",
      "1\n",
      "2\n",
      "0\n",
      "1\n",
      "2\n",
      "3\n",
      "0\n",
      "1\n",
      "2\n",
      "3\n",
      "4\n",
      "0\n",
      "1\n",
      "2\n",
      "3\n",
      "4\n",
      "5\n",
      "0\n",
      "1\n",
      "2\n",
      "3\n",
      "4\n",
      "5\n",
      "6\n",
      "0\n",
      "1\n",
      "2\n",
      "3\n",
      "4\n",
      "5\n",
      "6\n",
      "7\n",
      "0\n",
      "1\n",
      "2\n",
      "3\n",
      "4\n",
      "5\n",
      "6\n",
      "7\n",
      "8\n"
     ]
    }
   ],
   "source": [
    "for x in range(10):\n",
    "    for y in range(x):\n",
    "        print(y)"
   ]
  },
  {
   "cell_type": "code",
   "execution_count": 8,
   "metadata": {},
   "outputs": [
    {
     "name": "stdout",
     "output_type": "stream",
     "text": [
      "no\n",
      "yes\n",
      "maybe\n"
     ]
    }
   ],
   "source": [
    "votes = [\"no\", \"yes\", \"maybe\"]\n",
    "for x in votes:\n",
    "    print(x)"
   ]
  },
  {
   "cell_type": "markdown",
   "metadata": {},
   "source": [
    "## Week 4"
   ]
  },
  {
   "cell_type": "markdown",
   "metadata": {},
   "source": [
    "### Strings"
   ]
  },
  {
   "cell_type": "code",
   "execution_count": 2,
   "metadata": {},
   "outputs": [
    {
     "name": "stdout",
     "output_type": "stream",
     "text": [
      "hellohello10\n",
      "abcabc6\n",
      "0\n"
     ]
    }
   ],
   "source": [
    "def double_word(word):\n",
    "    return (word * 2)+ str(len(word*2))\n",
    "\n",
    "print(double_word(\"hello\")) # Should return hellohello10\n",
    "print(double_word(\"abc\"))   # Should return abcabc6\n",
    "print(double_word(\"\"))      # Should return 0"
   ]
  },
  {
   "cell_type": "markdown",
   "metadata": {},
   "source": [
    "#### Operations with strings"
   ]
  },
  {
   "cell_type": "markdown",
   "metadata": {},
   "source": [
    "If we want to make an acronym by taking the first letter of each word in a phrase. We can do that through an operation called **string indexing**. This operation lets us access the character in a given position or index using square brackets and the number of the position we want.\n",
    "\n",
    "**Negative indexing** is used when we don't know the length of a string. Eg."
   ]
  },
  {
   "cell_type": "code",
   "execution_count": 6,
   "metadata": {
    "scrolled": true
   },
   "outputs": [
    {
     "name": "stdout",
     "output_type": "stream",
     "text": [
      "i\n"
     ]
    },
    {
     "data": {
      "text/plain": [
       "True"
      ]
     },
     "execution_count": 6,
     "metadata": {},
     "output_type": "execute_result"
    }
   ],
   "source": [
    "text = \"ifniofiuahfasudifh9sdfdiufhasduibuvbdufivfuihfaiudfhaiui\"\n",
    "print(text[-1])\n",
    "text[0]==text[-1]"
   ]
  },
  {
   "cell_type": "code",
   "execution_count": 13,
   "metadata": {},
   "outputs": [
    {
     "name": "stdout",
     "output_type": "stream",
     "text": [
      "True\n",
      "False\n",
      "True\n"
     ]
    }
   ],
   "source": [
    "def first_and_last(message):\n",
    "    if message is \"\":\n",
    "        return True\n",
    "    elif message[0] == message[-1]:\n",
    "        return True\n",
    "    else:\n",
    "        return False\n",
    "\n",
    "print(first_and_last(\"else\"))\n",
    "print(first_and_last(\"tree\"))\n",
    "print(first_and_last(\"\"))"
   ]
  },
  {
   "cell_type": "markdown",
   "metadata": {},
   "source": [
    "We can also access a slice of a string. **A slice** is the portion of a string that can contain more than one character, also sometimes called a substring. We do that by creating a range using a colon as a separator. Let's see an example of this."
   ]
  },
  {
   "cell_type": "markdown",
   "metadata": {},
   "source": [
    "Slice and index.\n",
    "Si uso [4:] selecciona todos los caracteres a partir del 4 en adelante. O sea, caracteres despues del 4\n",
    "Si uso [:3] selecciona todos los caracteres antes del 3."
   ]
  },
  {
   "cell_type": "code",
   "execution_count": 15,
   "metadata": {},
   "outputs": [
    {
     "name": "stdout",
     "output_type": "stream",
     "text": [
      "rc\n",
      "murc\n",
      "ielago\n"
     ]
    }
   ],
   "source": [
    "palabra = \"murcielago\"\n",
    "print(palabra[2:4])\n",
    "print(palabra[:4])\n",
    "print(palabra[4:])"
   ]
  },
  {
   "cell_type": "code",
   "execution_count": 181,
   "metadata": {},
   "outputs": [
    {
     "data": {
      "text/plain": [
       "'A long string with a silly typo'"
      ]
     },
     "execution_count": 181,
     "metadata": {},
     "output_type": "execute_result"
    }
   ],
   "source": [
    "#modifying a string. A string cannot change with this line of code\n",
    "messages = \"A kong string with a silly typo\"\n",
    "# messages[2] = \"l\"\n",
    "new_message = messages[0:2] + \"l\" + messages[3:]\n",
    "new_message"
   ]
  },
  {
   "cell_type": "markdown",
   "metadata": {},
   "source": [
    "##### Methods for strings"
   ]
  },
  {
   "cell_type": "markdown",
   "metadata": {},
   "source": [
    "**INDEX**"
   ]
  },
  {
   "cell_type": "code",
   "execution_count": 183,
   "metadata": {},
   "outputs": [
    {
     "data": {
      "text/plain": [
       "'A long string with a silly typo'"
      ]
     },
     "execution_count": 183,
     "metadata": {},
     "output_type": "execute_result"
    }
   ],
   "source": [
    "new_message"
   ]
  },
  {
   "cell_type": "code",
   "execution_count": 182,
   "metadata": {},
   "outputs": [
    {
     "data": {
      "text/plain": [
       "14"
      ]
     },
     "execution_count": 182,
     "metadata": {},
     "output_type": "execute_result"
    }
   ],
   "source": [
    "#method for index \n",
    "new_message.index('w')"
   ]
  },
  {
   "cell_type": "code",
   "execution_count": 20,
   "metadata": {},
   "outputs": [
    {
     "data": {
      "text/plain": [
       "False"
      ]
     },
     "execution_count": 20,
     "metadata": {},
     "output_type": "execute_result"
    }
   ],
   "source": [
    "\"cars\" in new_message"
   ]
  },
  {
   "cell_type": "code",
   "execution_count": 23,
   "metadata": {},
   "outputs": [],
   "source": [
    "#the function accepts 3 parameters\n",
    "def replace_domain(email, old_domain, new_domain):\n",
    "    if \"@\" + old_domain in email:\n",
    "        #this line indicates where the substring starts.\n",
    "        index = email.index(\"@\"+old_domain)\n",
    "        #from the position in the index, paste the new info\n",
    "        new_email = email[:index] + \"@\" +new_domain\n",
    "        return new_email\n",
    "    return email\n",
    "        "
   ]
  },
  {
   "cell_type": "markdown",
   "metadata": {},
   "source": [
    "In Python, strings are immutable. This means that they can't be modified. So if we wanted to fix a typo in a string, we can't simply modify the wrong character. We would have to create a new string with the typo corrected. We can also assign a new value to the variable holding our string.\n",
    "\n",
    "If we aren't sure what the index of our typo is, we can use the string method index to locate it and return the index. Let's imagine we have the string **\"lions tigers and bears\"** in the variable **animals**. We can locate the index that contains the letter g using animals.index(\"g\"), which will return the index; in this case 8. We can also use substrings to locate the index where the substring begins. animals.index(\"bears\") would return 17, since that’s the start of the substring. If there’s more than one match for a substring, the index method will return the first match. If we try to locate a substring that doesn't exist in the string, we’ll receive a **ValueError** explaining that the substring was not found.\n",
    "\n",
    "We can avoid a ValueError by first checking if the substring exists in the string. This can be done using the in keyword. We saw this keyword earlier when we covered for loops. In this case, it's a conditional that will be either True or False. If the substring is found in the string, it will be True. If the substring is not found in the string, it will be False. Using our previous variable animals, we can do **\"horses\" in animals** to check if the substring \"horses\" is found in our variable. In this case, it would evaluate to False, since horses aren’t included in our example string. If we did **\"tigers\" in animals**, we'd get True, since this substring is contained in our strin"
   ]
  },
  {
   "cell_type": "markdown",
   "metadata": {},
   "source": [
    "**string Class**"
   ]
  },
  {
   "cell_type": "code",
   "execution_count": 25,
   "metadata": {},
   "outputs": [
    {
     "data": {
      "text/plain": [
       "'pepe'"
      ]
     },
     "execution_count": 25,
     "metadata": {},
     "output_type": "execute_result"
    }
   ],
   "source": [
    "\"Pepe\".lower()"
   ]
  },
  {
   "cell_type": "code",
   "execution_count": 26,
   "metadata": {},
   "outputs": [
    {
     "data": {
      "text/plain": [
       "'PEPE'"
      ]
     },
     "execution_count": 26,
     "metadata": {},
     "output_type": "execute_result"
    }
   ],
   "source": [
    "\"pepe\".upper()"
   ]
  },
  {
   "cell_type": "code",
   "execution_count": 27,
   "metadata": {},
   "outputs": [
    {
     "name": "stdout",
     "output_type": "stream",
     "text": [
      "user said pepe\n"
     ]
    }
   ],
   "source": [
    "nombre = \"PEPE\"\n",
    "if nombre.lower()== 'pepe':\n",
    "    print(\"user said pepe\")"
   ]
  },
  {
   "cell_type": "markdown",
   "metadata": {},
   "source": [
    "**Strip**\n",
    "\n",
    "Remove spaces from strings"
   ]
  },
  {
   "cell_type": "code",
   "execution_count": 186,
   "metadata": {},
   "outputs": [
    {
     "data": {
      "text/plain": [
       "'Valeria'"
      ]
     },
     "execution_count": 186,
     "metadata": {},
     "output_type": "execute_result"
    }
   ],
   "source": [
    "#**Strip**\n",
    "\" Valeria            \".strip()\n",
    "#\"Valeria \".rstrip()\n",
    "#\"   Valeria\".lstrip()"
   ]
  },
  {
   "cell_type": "markdown",
   "metadata": {},
   "source": [
    "**Count** How many times a given substring appears in a string"
   ]
  },
  {
   "cell_type": "code",
   "execution_count": 36,
   "metadata": {},
   "outputs": [
    {
     "name": "stdout",
     "output_type": "stream",
     "text": [
      "A long string with a silly typo\n"
     ]
    },
    {
     "data": {
      "text/plain": [
       "3"
      ]
     },
     "execution_count": 36,
     "metadata": {},
     "output_type": "execute_result"
    }
   ],
   "source": [
    "print(new_message)\n",
    "new_message.count(\"i\")"
   ]
  },
  {
   "cell_type": "code",
   "execution_count": 37,
   "metadata": {},
   "outputs": [
    {
     "data": {
      "text/plain": [
       "True"
      ]
     },
     "execution_count": 37,
     "metadata": {},
     "output_type": "execute_result"
    }
   ],
   "source": [
    "#endswith\n",
    "\"apretar\".endswith(\"ar\")"
   ]
  },
  {
   "cell_type": "code",
   "execution_count": 38,
   "metadata": {},
   "outputs": [
    {
     "data": {
      "text/plain": [
       "False"
      ]
     },
     "execution_count": 38,
     "metadata": {},
     "output_type": "execute_result"
    }
   ],
   "source": [
    "\"string\".isnumeric()"
   ]
  },
  {
   "cell_type": "code",
   "execution_count": 39,
   "metadata": {},
   "outputs": [
    {
     "data": {
      "text/plain": [
       "True"
      ]
     },
     "execution_count": 39,
     "metadata": {},
     "output_type": "execute_result"
    }
   ],
   "source": [
    "\"12345\".isnumeric()"
   ]
  },
  {
   "cell_type": "code",
   "execution_count": 41,
   "metadata": {},
   "outputs": [
    {
     "data": {
      "text/plain": [
       "2212"
      ]
     },
     "execution_count": 41,
     "metadata": {},
     "output_type": "execute_result"
    }
   ],
   "source": [
    "int(\"1324\")+int(888)"
   ]
  },
  {
   "cell_type": "code",
   "execution_count": 44,
   "metadata": {},
   "outputs": [
    {
     "data": {
      "text/plain": [
       "'Hoy,es,Jueves'"
      ]
     },
     "execution_count": 44,
     "metadata": {},
     "output_type": "execute_result"
    }
   ],
   "source": [
    "\",\".join([\"Hoy\",\"es\",\"Jueves\"])"
   ]
  },
  {
   "cell_type": "code",
   "execution_count": 188,
   "metadata": {},
   "outputs": [
    {
     "data": {
      "text/plain": [
       "['A', 'long', 'string', 'with', 'a', 'silly', 'typo']"
      ]
     },
     "execution_count": 188,
     "metadata": {},
     "output_type": "execute_result"
    }
   ],
   "source": [
    "new_message.split()"
   ]
  },
  {
   "cell_type": "code",
   "execution_count": 187,
   "metadata": {},
   "outputs": [
    {
     "data": {
      "text/plain": [
       "'A long string with a silly typo'"
      ]
     },
     "execution_count": 187,
     "metadata": {},
     "output_type": "execute_result"
    }
   ],
   "source": [
    "new_message"
   ]
  },
  {
   "cell_type": "code",
   "execution_count": 304,
   "metadata": {},
   "outputs": [
    {
     "data": {
      "text/plain": [
       "['HOLA', 'COMO', 'ESTAS']"
      ]
     },
     "execution_count": 304,
     "metadata": {},
     "output_type": "execute_result"
    }
   ],
   "source": [
    "equis = \"hola como estas\"\n",
    "x_upp = equis.upper()\n",
    "x_split = x_upp.split()\n",
    "# x_split[2]\n",
    "x_split"
   ]
  },
  {
   "cell_type": "code",
   "execution_count": 189,
   "metadata": {},
   "outputs": [
    {
     "name": "stdout",
     "output_type": "stream",
     "text": [
      "USB\n"
     ]
    }
   ],
   "source": [
    "phrase = \"universal serial bus\"\n",
    "words = phrase.upper()\n",
    "split = words.split()\n",
    "result=\"\"\n",
    "for word in split:\n",
    "    result += word[0]\n",
    "print(result)"
   ]
  },
  {
   "cell_type": "code",
   "execution_count": 121,
   "metadata": {},
   "outputs": [
    {
     "data": {
      "text/plain": [
       "['UNIVERSAL', 'SERIAL', 'BUS']"
      ]
     },
     "execution_count": 121,
     "metadata": {},
     "output_type": "execute_result"
    }
   ],
   "source": [
    "split"
   ]
  },
  {
   "cell_type": "code",
   "execution_count": 120,
   "metadata": {},
   "outputs": [
    {
     "name": "stdout",
     "output_type": "stream",
     "text": [
      "USB\n",
      "LAN\n",
      "OS\n"
     ]
    }
   ],
   "source": [
    "def initials(phrase):\n",
    "    phrase = phrase.upper()\n",
    "    words = phrase.split()\n",
    "    result = \"\"\n",
    "    for word in words:\n",
    "        result += word[0]\n",
    "    return result\n",
    "\n",
    "print(initials(\"Universal Serial Bus\")) # Should be: USB\n",
    "print(initials(\"local area network\")) # Should be: LAN\n",
    "print(initials(\"Operating system\")) # Should be: OS"
   ]
  },
  {
   "cell_type": "markdown",
   "metadata": {},
   "source": [
    "#### String.format()\n",
    "\n",
    "You can use the **format** method on strings to concatenate and format strings in all kinds of powerful ways. To do this, create a string containing curly brackets, **{}**, as a placeholder, to be replaced. Then call the format method on the string using .format() and pass variables as parameters. The variables passed to the method will then be used to replace the curly bracket placeholders. This method automatically handles any conversion between data types for us. \n",
    "\n",
    "If the curly brackets are empty, they’ll be populated with the variables passed in the order in which they're passed. However, you can put certain expressions inside the curly brackets to do even more powerful string formatting operations. You can put the name of a variable into the curly brackets, then use the names in the parameters. This allows for more easily readable code, and for more flexibility with the order of variables.\n",
    "\n",
    "You can also put a formatting expression inside the curly brackets, which lets you alter the way the string is formatted. For example, the formatting expression **{:.2f}** means that you’d format this as a float number, with two digits after the decimal dot. The colon acts as a separator from the field name, if you had specified one. You can also specify **text alignment** using the greater than operator:**>**. For example, the expression **{:>3.2f}** would align the text three spaces to the right, as well as specify a float number with two decimal places. String formatting can be very handy for outputting easy-to-read textual output."
   ]
  },
  {
   "cell_type": "code",
   "execution_count": 124,
   "metadata": {},
   "outputs": [
    {
     "name": "stdout",
     "output_type": "stream",
     "text": [
      "Hello Pepe your lucky number is 12\n"
     ]
    }
   ],
   "source": [
    "name = \"Pepe\"\n",
    "number = len(name)*3\n",
    "print(\"Hello {} your lucky number is {}\".format(name,number))"
   ]
  },
  {
   "cell_type": "code",
   "execution_count": 126,
   "metadata": {},
   "outputs": [
    {
     "name": "stdout",
     "output_type": "stream",
     "text": [
      "your lucky number is 12, Pepe\n"
     ]
    }
   ],
   "source": [
    "print(\"your lucky number is {number}, {name}\".format(name=name, number=len(name)*3))"
   ]
  },
  {
   "cell_type": "code",
   "execution_count": 127,
   "metadata": {},
   "outputs": [
    {
     "name": "stdout",
     "output_type": "stream",
     "text": [
      "Reed received 80% on the exam\n",
      "Paige received 92% on the exam\n",
      "Jesse received 85% on the exam\n"
     ]
    }
   ],
   "source": [
    "def student_grade(name, grade):\n",
    "\treturn \"{} received {}% on the exam\".format(name, grade)\n",
    "\n",
    "print(student_grade(\"Reed\", 80))\n",
    "print(student_grade(\"Paige\", 92))\n",
    "print(student_grade(\"Jesse\", 85))"
   ]
  },
  {
   "cell_type": "code",
   "execution_count": 129,
   "metadata": {},
   "outputs": [
    {
     "name": "stdout",
     "output_type": "stream",
     "text": [
      "  0 F | -17.78 C\n",
      " 10 F | -12.22 C\n",
      " 20 F |  -6.67 C\n",
      " 30 F |  -1.11 C\n",
      " 40 F |   4.44 C\n",
      " 50 F |  10.00 C\n",
      " 60 F |  15.56 C\n",
      " 70 F |  21.11 C\n",
      " 80 F |  26.67 C\n",
      " 90 F |  32.22 C\n",
      "100 F |  37.78 C\n",
      "110 F |  43.33 C\n",
      "120 F |  48.89 C\n",
      "130 F |  54.44 C\n",
      "140 F |  60.00 C\n",
      "150 F |  65.56 C\n"
     ]
    }
   ],
   "source": [
    "def to_celsius(x):\n",
    "    return(x-32)*5/9\n",
    "\n",
    "#range starts at 0, ends at 100 with an interval of 5 or 10\n",
    "for i in range(0,151,10):\n",
    "    print(\"{:>3} F | {:>6.2f} C\".format(i, to_celsius(i)))"
   ]
  },
  {
   "cell_type": "markdown",
   "metadata": {},
   "source": [
    "#### String operations\n",
    "- len(string) Returns the length of the string\n",
    "- for character in string Iterates over each character in the string\n",
    "- if substring in string Checks whether the substring is part of the string\n",
    "- string[i] Accesses the character at index i of the string, starting at zero\n",
    "- string[i:j] Accesses the substring starting at index i, ending at index j-1. If i is omitted, it's 0 by default. If j is omitted, it's len(string) by default.\n",
    "\n",
    "#### String methods\n",
    "- string.lower() / string.upper() Returns a copy of the string with all lower / upper case characters\n",
    "- string.lstrip() / string.rstrip() / string.strip() Returns a copy of the string without left / right / left or right whitespace\n",
    "- string.count(substring) Returns the number of times substring is present in the string\n",
    "- string.isnumeric() Returns True if there are only numeric characters in the string. If not, returns False.\n",
    "- string.isalpha() Returns True if there are only alphabetic characters in the string. If not, returns False.\n",
    "- string.split() / string.split(delimiter) Returns a list of substrings that were separated by whitespace / delimiter\n",
    "- string.replace(old, new) Returns a new string where all occurrences of old have been replaced by new.\n",
    "- delimiter.join(list of strings) Returns a new string with all the strings joined by the delimiter \n",
    "\n",
    "Check out the official documentation for all available [String methods](https://docs.python.org/3/library/stdtypes.html#string-methods)."
   ]
  },
  {
   "cell_type": "markdown",
   "metadata": {},
   "source": [
    "https://docs.python.org/3/library/stdtypes.html#string-methods\n",
    "\n",
    "https://docs.python.org/3/library/string.html#formatstrings\n",
    "\n",
    "https://docs.python.org/3/library/string.html#format-specification-mini-language"
   ]
  },
  {
   "cell_type": "code",
   "execution_count": 132,
   "metadata": {},
   "outputs": [
    {
     "name": "stdout",
     "output_type": "stream",
     "text": [
      "Hello Micah\n"
     ]
    }
   ],
   "source": [
    "name = \"Micah\"\n",
    "\n",
    "print(f'Hello {name}')\n"
   ]
  },
  {
   "cell_type": "code",
   "execution_count": 133,
   "metadata": {},
   "outputs": [
    {
     "name": "stdout",
     "output_type": "stream",
     "text": [
      "Item: Purple Cup - Amount: 5 - Price: 16.25\n"
     ]
    }
   ],
   "source": [
    ">>> item = \"Purple Cup\"\n",
    "\n",
    ">>> amount = 5\n",
    "\n",
    ">>> price = amount * 3.25\n",
    "\n",
    ">>> print(f'Item: {item} - Amount: {amount} - Price: {price:.2f}')"
   ]
  },
  {
   "cell_type": "code",
   "execution_count": 130,
   "metadata": {
    "scrolled": true
   },
   "outputs": [
    {
     "name": "stdout",
     "output_type": "stream",
     "text": [
      "apple carrot banana\n"
     ]
    },
    {
     "data": {
      "text/plain": [
       "'Outputs:\\napple carrot banana\\n'"
      ]
     },
     "execution_count": 130,
     "metadata": {},
     "output_type": "execute_result"
    }
   ],
   "source": [
    "# \"{0} {1}\".format(first, second)\n",
    "\n",
    "first = \"apple\"\n",
    "second = \"banana\"\n",
    "third = \"carrot\"\n",
    "\n",
    "#the numbers in {} change the order of the variables, even though we are adding them in order within format(b)\n",
    "formatted_string = \"{0} {2} {1}\".format(first, second, third)\n",
    "\n",
    "print(formatted_string)\n",
    "\n",
    "\"\"\"Outputs:\n",
    "apple carrot banana\n",
    "\"\"\""
   ]
  },
  {
   "cell_type": "markdown",
   "metadata": {},
   "source": [
    "Formatting expressions\n",
    "\n",
    "    Expr\tMeaning\t                            Example\n",
    "    \n",
    "    {:d}\tinteger value\t                            '{:d}'.format(10.5) → '10'\n",
    "    \n",
    "    {:.2f}\tfloating point with that many decimals\t    '{:.2f}'.format(0.5) → '0.50'\n",
    "    \n",
    "    {:.2s}\tstring with that many characters\t        '{:.2s}'.format('Python') → 'Py'\n",
    "    \n",
    "    {:<6s}\tstring aligned to the left that many spaces\t'{:<6s}'.format('Py') → 'Py   '\n",
    "    \n",
    "    {:>6s}\tstring aligned to the right that many spaces '{:>6s}'.format('Py') → '    Py'\n",
    "    \n",
    "    {:^6s}\tstring centered in that many spaces\t'{:^6s}'.format('Py') → '  Py  '\n",
    "    "
   ]
  },
  {
   "cell_type": "markdown",
   "metadata": {},
   "source": [
    "### Quiz week 4 Strings"
   ]
  },
  {
   "cell_type": "code",
   "execution_count": 142,
   "metadata": {},
   "outputs": [
    {
     "name": "stdout",
     "output_type": "stream",
     "text": [
      "True\n",
      "False\n",
      "True\n"
     ]
    }
   ],
   "source": [
    "def is_palindrome(input_string):\n",
    "# We'll create two strings, to compare them\n",
    "    new_string = \"\"\n",
    "    reverse_string = \"\"\n",
    "# Traverse through each letter of the input string\n",
    "    for letter in input_string: \n",
    "        #add a conditional to add only letters and not blank spaces\n",
    "        if letter != ' ':\n",
    "            #Add any non-blank letters to the end of one string\n",
    "            new_string = new_string + letter.lower()\n",
    "            #Add any non-blank letters to the front of the other string.\n",
    "            reverse_string = letter.lower() + reverse_string\n",
    "# Compare the strings\n",
    "    if new_string == reverse_string:\n",
    "        return True\n",
    "    return False\n",
    "\n",
    "print(is_palindrome(\"Never Odd or Even\")) # Should be True\n",
    "print(is_palindrome(\"abc\")) # Should be False\n",
    "print(is_palindrome(\"kayak\")) # Should be True"
   ]
  },
  {
   "cell_type": "markdown",
   "metadata": {},
   "source": [
    "2. Using the format method, fill in the gaps in the convert_distance function so that it returns the phrase \"X miles equals Y km\", with Y having only 1 decimal place. For example, convert_distance(12) should return \"12 miles equals 19.2 km\"."
   ]
  },
  {
   "cell_type": "code",
   "execution_count": 143,
   "metadata": {},
   "outputs": [
    {
     "name": "stdout",
     "output_type": "stream",
     "text": [
      "12 miles equals 19.2 km\n",
      "5.5 miles equals 8.8 km\n",
      "11 miles equals 17.6 km\n"
     ]
    }
   ],
   "source": [
    "def convert_distance(miles):\n",
    "\tkm = miles * 1.6 \n",
    "\tresult = \"{} miles equals {:.1f} km\".format(miles, km)\n",
    "\t\n",
    "\treturn result\n",
    "\n",
    "print(convert_distance(12)) # Should be: 12 miles equals 19.2 km\n",
    "print(convert_distance(5.5)) # Should be: 5.5 miles equals 8.8 km\n",
    "print(convert_distance(11)) # Should be: 11 miles equals 17.6 km"
   ]
  },
  {
   "cell_type": "markdown",
   "metadata": {},
   "source": [
    "Pregunta 4\n",
    "Fill in the gaps in the nametag function so that it uses the format method to return first_name and the first initial of last_name followed by a period. For example, nametag(\"Jane\", \"Smith\") should return \"Jane S"
   ]
  },
  {
   "cell_type": "code",
   "execution_count": 144,
   "metadata": {},
   "outputs": [
    {
     "name": "stdout",
     "output_type": "stream",
     "text": [
      "Jane S.\n",
      "Francesco R.\n",
      "Jean-Luc G.\n"
     ]
    }
   ],
   "source": [
    "def nametag(first_name, last_name):\n",
    "\treturn(\"{} {:.1s}.\".format(first_name, last_name))\n",
    "\n",
    "\n",
    "print(nametag(\"Jane\", \"Smith\")) \n",
    "# Should display \"Jane S.\" \n",
    "print(nametag(\"Francesco\", \"Rinaldi\")) \n",
    "# Should display \"Francesco R.\" \n",
    "print(nametag(\"Jean-Luc\", \"Grand-Pierre\")) \n",
    "# Should display \"Jean-Luc G.\" "
   ]
  },
  {
   "cell_type": "code",
   "execution_count": 167,
   "metadata": {},
   "outputs": [
    {
     "name": "stdout",
     "output_type": "stream",
     "text": [
      "['its', 'raining', 'cats', 'and', 'cats']\n",
      "['its', 'raining', 'cats', 'and', 'dogs']\n"
     ]
    }
   ],
   "source": []
  },
  {
   "cell_type": "code",
   "execution_count": 173,
   "metadata": {},
   "outputs": [
    {
     "name": "stdout",
     "output_type": "stream",
     "text": [
      "It's raining cats and dogs\n",
      "She sells seashells by the seashore\n",
      "The weather is nice in May\n",
      "The weather is nice in April\n"
     ]
    }
   ],
   "source": [
    "#Solution one.\n",
    "def replace_ending1(sentence, old, new):   \n",
    "# Check if the old string is at the end of the sentence \n",
    "    check= old in sentence\n",
    "    test = sentence.split()\n",
    "    if test[-1]== old:\n",
    "        #replace ending old with new\n",
    "        test[-1]= new\n",
    "        # rejoin sentence\n",
    "        separator= ' '\n",
    "        new_sentence = separator.join(test)\n",
    "        return new_sentence\n",
    "# Return the original sentence if there is no match \n",
    "    return sentence\n",
    "\n",
    "print(replace_ending1(\"It's raining cats and cats\", \"cats\", \"dogs\")) \n",
    "# Should display \"It's raining cats and dogs\"\n",
    "print(replace_ending1(\"She sells seashells by the seashore\", \"seashells\", \"donuts\")) \n",
    "# Should display \"She sells seashells by the seashore\"\n",
    "print(replace_ending1(\"The weather is nice in May\", \"may\", \"april\")) \n",
    "# Should display \"The weather is nice in May\"\n",
    "print(replace_ending1(\"The weather is nice in May\", \"May\", \"April\")) \n",
    "# Should display \"The weather is nice in April\"\n",
    "\n"
   ]
  },
  {
   "cell_type": "code",
   "execution_count": null,
   "metadata": {},
   "outputs": [],
   "source": [
    "#other tests\n",
    "frase = \"its raining cats and cats\"\n",
    "# if \"cats\" in frase and frase.endswith(\"cats\"):\n",
    "#     print(frase.index[\"cats\"])\n",
    "# suffix = \"cats\"\n",
    "# frase.endswith(suffix, 1,9)\n",
    "# frase.endswith()\n",
    "check = \"cats\" in frase\n",
    "test = frase.split()\n",
    "print(test)\n",
    "if test[-1] == 'cats':\n",
    "    test[-1]= 'dogs'\n",
    "    print(test)"
   ]
  },
  {
   "cell_type": "markdown",
   "metadata": {},
   "source": [
    "index let us know the position of a substring or letter. In this case, rindex is telling us the position of the substring old but starting from the end of the string instead of from the begining. This way, with rindex, we make sure to get the position of the suffis/substring that is actually at the end of the phrase."
   ]
  },
  {
   "cell_type": "code",
   "execution_count": 174,
   "metadata": {},
   "outputs": [
    {
     "name": "stdout",
     "output_type": "stream",
     "text": [
      "It's raining cats and dogs\n",
      "She sells seashells by the seashore\n",
      "The weather is nice in May\n",
      "The weather is nice in April\n"
     ]
    }
   ],
   "source": [
    "def replace_ending(sentence, old, new):\n",
    "    # Check if the old string is at the end of the sentence \n",
    "    if sentence.endswith(old):\n",
    "        #use rindex, reverse index instead of index to start the search from the end to the start \n",
    "        i = sentence.rindex(old)\n",
    "            \n",
    "# Using i as the slicing index, combine the part\n",
    "# of the sentence up to the matched string at the \n",
    "# end with the new string\n",
    "        new_sentence = sentence[:i] + new\n",
    "        return new_sentence\n",
    "    # Return the original sentence if there is no match \n",
    "    return sentence\n",
    "\n",
    "print(replace_ending(\"It's raining cats and cats\", \"cats\", \"dogs\")) \n",
    "# Should display \"It's raining cats and dogs\"\n",
    "print(replace_ending(\"She sells seashells by the seashore\", \"seashells\", \"donuts\")) \n",
    "# Should display \"She sells seashells by the seashore\"\n",
    "print(replace_ending(\"The weather is nice in May\", \"may\", \"april\")) \n",
    "# Should display \"The weather is nice in May\"\n",
    "print(replace_ending(\"The weather is nice in May\", \"May\", \"April\")) \n",
    "# Should display \"The weather is nice in April\""
   ]
  },
  {
   "cell_type": "markdown",
   "metadata": {},
   "source": [
    "### Lists"
   ]
  },
  {
   "cell_type": "markdown",
   "metadata": {},
   "source": [
    "Lists in Python are defined using square brackets, with the elements stored in the list separated by commas: list = [\"This\", \"is\", \"a\", \"list\"]. You can use the len() function to return the number of elements in a list: len(list) would return 4. You can also use the in keyword to check if a list contains a certain element. If the element is present, it will return a True boolean. If the element is not found in the list, it will return False. For example, \"This\" in list would return True in our example. Similar to strings, lists can also use indexing to access specific elements in a list based on their position. You can access the first element in a list by doing list[0], which would allow you to access the string \"This\".\n",
    "\n",
    "In Python, lists and strings are quite similar. They’re both examples of sequences of data. Sequences have similar properties, like (1) being able to iterate over them using for loops; (2) support indexing; (3) using the len function to find the length of the sequence; (4) using the plus operator + in order to concatenate; and (5) using the in keyword to check if the sequence contains a value. Understanding these concepts allows you to apply them to other sequence types as well."
   ]
  },
  {
   "cell_type": "code",
   "execution_count": 198,
   "metadata": {},
   "outputs": [
    {
     "name": "stdout",
     "output_type": "stream",
     "text": [
      "['this', 'is', 'a', 'list']\n",
      "<class 'list'>\n",
      "4\n",
      "True\n",
      "['this', 'is']\n",
      "['this', 'is', 'a']\n",
      "['is', 'a', 'list']\n"
     ]
    }
   ],
   "source": [
    "x = [\"this\", \"is\", \"a\", \"list\"]\n",
    "print(x)\n",
    "print(type(x))\n",
    "print(len(x))\n",
    "print(\"this\" in x)\n",
    "x[2]\n",
    "print(x[0:2])\n",
    "#the first value defaults to zero\n",
    "print(x[0:3])\n",
    "# the last value defaults to zero. Print items from 1 to the end\n",
    "print(x[1:])"
   ]
  },
  {
   "cell_type": "markdown",
   "metadata": {},
   "source": [
    "Exercise: \n",
    "\n",
    "Using the \"split\" string method from the preceding lesson, complete the get_word function to return the {n}th word from a passed sentence. For example, get_word(\"This is a lesson about lists\", 4) should return \"lesson\", which is the 4th word in this sentence. Hint: remember that list indexes start at 0, not 1. "
   ]
  },
  {
   "cell_type": "code",
   "execution_count": 187,
   "metadata": {
    "scrolled": true
   },
   "outputs": [
    {
     "name": "stdout",
     "output_type": "stream",
     "text": [
      "lesson\n",
      "\n",
      "Now\n",
      "\n"
     ]
    }
   ],
   "source": [
    "def get_word(sentence, n):\n",
    "\t# Only proceed if n is positive \n",
    "\tif n > 0:\n",
    "\t\twords = sentence.split()\n",
    "\t\t# Only proceed if n is not more than the number of words \n",
    "\t\tif n <= len(words):\n",
    "\t\t\treturn words[n-1]\n",
    "\treturn(\"\")\n",
    "\n",
    "print(get_word(\"This is a lesson about lists\", 4)) # Should print: lesson\n",
    "print(get_word(\"This is a lesson about lists\", -4)) # Nothing\n",
    "print(get_word(\"Now we are cooking!\", 1)) # Should print: Now\n",
    "print(get_word(\"Now we are cooking!\", 5)) # Nothing"
   ]
  },
  {
   "cell_type": "markdown",
   "metadata": {},
   "source": [
    "#### Lists are mutable"
   ]
  },
  {
   "cell_type": "code",
   "execution_count": 203,
   "metadata": {},
   "outputs": [
    {
     "name": "stdout",
     "output_type": "stream",
     "text": [
      "['pineapple', 'banana', 'apple', 'melon', 'kiwi']\n",
      "['pineapple', 'banana', 'papaya', 'apple', 'melon', 'kiwi']\n",
      "['pineapple', 'banana', 'papaya', 'apple', 'melon']\n",
      "['pineapple', 'papaya', 'apple', 'melon']\n",
      "['grape', 'papaya', 'apple', 'melon']\n"
     ]
    },
    {
     "data": {
      "text/plain": [
       "'apple'"
      ]
     },
     "execution_count": 203,
     "metadata": {},
     "output_type": "execute_result"
    }
   ],
   "source": [
    "fruits = [\"pineapple\", \"banana\", \"apple\", \"melon\"]\n",
    "#adds an item at the end of the list\n",
    "fruits.append(\"kiwi\")\n",
    "print(fruits)\n",
    "#add an element at a determined location\n",
    "fruits.insert(2, \"papaya\")\n",
    "print(fruits)\n",
    "#remove an item from the list\n",
    "fruits.remove(\"kiwi\")\n",
    "print(fruits)\n",
    "#pop removes an item by its index\n",
    "fruits.pop(1)\n",
    "print(fruits)\n",
    "#assign a new value to a list by replacing using index\n",
    "fruits[0] = \"grape\"\n",
    "print(fruits)\n",
    "fruits[2]"
   ]
  },
  {
   "cell_type": "code",
   "execution_count": 205,
   "metadata": {},
   "outputs": [
    {
     "data": {
      "text/plain": [
       "range(0, 4)"
      ]
     },
     "execution_count": 205,
     "metadata": {},
     "output_type": "execute_result"
    }
   ],
   "source": [
    "range(len(fruits))"
   ]
  },
  {
   "cell_type": "code",
   "execution_count": 207,
   "metadata": {},
   "outputs": [
    {
     "name": "stdout",
     "output_type": "stream",
     "text": [
      "['a', 'c', 'e', 'g']\n",
      "['Orange', 'Strawberry', 'Peach']\n",
      "[]\n"
     ]
    }
   ],
   "source": [
    "def skip_elements(elements):\n",
    "\t# Initialize variables\n",
    "\tnew_list = []\n",
    "\ti = 0\n",
    "\n",
    "\t# Iterate through the list\n",
    "\tfor i in range(len(elements)):\n",
    "\t\t# Does this element belong in the resulting list?\n",
    "\t\tif i%2==0:\n",
    "\t\t\t# Add this element to the resulting list\n",
    "\t\t\tnew_list.append(elements[i])\n",
    "\t\t# Increment i\n",
    "\t\ti+=2\n",
    "\n",
    "\treturn new_list\n",
    "\n",
    "print(skip_elements([\"a\", \"b\", \"c\", \"d\", \"e\", \"f\", \"g\"])) # Should be ['a', 'c', 'e', 'g']\n",
    "print(skip_elements(['Orange', 'Pineapple', 'Strawberry', 'Kiwi', 'Peach'])) # Should be ['Orange', 'Strawberry', 'Peach']\n",
    "print(skip_elements([])) # Should be []"
   ]
  },
  {
   "cell_type": "code",
   "execution_count": null,
   "metadata": {},
   "outputs": [],
   "source": [
    "de veras que n se le puede decir nada. Primero anda llorando conque no es training y no sabe qué hacer y luego ya le gusta. Igual a su madre con sus frases idiotas e ignorantes de: \"es que no le sé\". Luego le dices algo y se pone como enérgumeno."
   ]
  },
  {
   "cell_type": "markdown",
   "metadata": {},
   "source": [
    "#### Tuples\n",
    "As we mentioned earlier, strings and lists are both examples of sequences. Strings are sequences of characters, and are immutable. Lists are sequences of elements of any data type, and are mutable. The third sequence type is the tuple. **Tuples** are like lists, since they can contain elements of any data type. But unlike lists, tuples are immutable. They’re specified using parentheses instead of square brackets.\n",
    "\n",
    "Tuples can be useful when we need to ensure that an element is in a certain position and will not change. Since lists are mutable, the order of the elements can be changed on us. Since the order of the elements in a tuple can't be changed, the position of the element in a tuple can have meaning. A good example of this is when a function returns multiple values. In this case, what gets returned is a tuple, with the return values as elements in the tuple. The order of the returned values is important, and a tuple ensures that the order isn’t going to change. Storing the elements of a tuple in separate variables is called unpacking. This allows you to take multiple returned values from a function and store each value in its own variable."
   ]
  },
  {
   "cell_type": "code",
   "execution_count": 214,
   "metadata": {},
   "outputs": [
    {
     "data": {
      "text/plain": [
       "(1, 6, 40)"
      ]
     },
     "execution_count": 214,
     "metadata": {},
     "output_type": "execute_result"
    }
   ],
   "source": [
    "def convertir_segundos(segundos):\n",
    "    #una hora tiene 3600 segundos. Dividir usando floor division\n",
    "    horas = segundos // 3600\n",
    "    minutos = (segundos - horas * 3600) // 60\n",
    "    segundos = segundos - horas *3600 - minutos * 60\n",
    "    return(horas, minutos, segundos)\n",
    "\n",
    "convertir_segundos(4000)"
   ]
  },
  {
   "cell_type": "code",
   "execution_count": 217,
   "metadata": {},
   "outputs": [
    {
     "name": "stdout",
     "output_type": "stream",
     "text": [
      "(1, 15, 0)\n",
      "1 15 0\n"
     ]
    }
   ],
   "source": [
    "resultado = convertir_segundos(4500)\n",
    "type(resultado)\n",
    "print(resultado)\n",
    "hora, minuto, seg = resultado\n",
    "print(hora, minuto, seg)"
   ]
  },
  {
   "cell_type": "code",
   "execution_count": 218,
   "metadata": {},
   "outputs": [
    {
     "name": "stdout",
     "output_type": "stream",
     "text": [
      "17.46\n",
      "0.48\n",
      "1.21\n"
     ]
    }
   ],
   "source": [
    "def file_size(file_info):\n",
    "\tname, type, size= file_info\n",
    "\treturn(\"{:.2f}\".format(size / 1024))\n",
    "\n",
    "print(file_size(('Class Assignment', 'docx', 17875))) # Should print 17.46\n",
    "print(file_size(('Notes', 'txt', 496))) # Should print 0.48\n",
    "print(file_size(('Program', 'py', 1239))) # Should print 1.21"
   ]
  },
  {
   "cell_type": "code",
   "execution_count": 223,
   "metadata": {},
   "outputs": [
    {
     "name": "stdout",
     "output_type": "stream",
     "text": [
      "8\n",
      "12\n",
      "17\n",
      "23\n"
     ]
    },
    {
     "data": {
      "text/plain": [
       "5.75"
      ]
     },
     "execution_count": 223,
     "metadata": {},
     "output_type": "execute_result"
    }
   ],
   "source": [
    "animals = [\"Elephant\", \"Lion\", \"Zebra\", \"Monkey\"]\n",
    "chars = 0\n",
    "for animal in animals:\n",
    "    chars += len(animal)\n",
    "    print(chars)\n",
    "\n",
    "chars/len(animals)"
   ]
  },
  {
   "cell_type": "code",
   "execution_count": 225,
   "metadata": {},
   "outputs": [
    {
     "name": "stdout",
     "output_type": "stream",
     "text": [
      "Total characters: 23, average length: 5.75\n"
     ]
    }
   ],
   "source": [
    "print(\"Total characters: {}, average length: {}\".format(chars, chars/len(animals)))"
   ]
  },
  {
   "cell_type": "markdown",
   "metadata": {},
   "source": [
    "#### Enumerate"
   ]
  },
  {
   "cell_type": "markdown",
   "metadata": {},
   "source": [
    "When we covered for loops, we showed the example of iterating over a list. This lets you iterate over each element in the list, exposing the element to the for loop as a variable. But what if you want to access the elements in a list, along with the index of the element in question? You can do this using the **enumerate()** function. The enumerate() function takes a list as a parameter and returns a tuple for each element in the list. The first value of the tuple is the index and the second value is the element itself."
   ]
  },
  {
   "cell_type": "code",
   "execution_count": 228,
   "metadata": {
    "scrolled": true
   },
   "outputs": [
    {
     "name": "stdout",
     "output_type": "stream",
     "text": [
      "1 - pepe\n",
      "2 - vale\n",
      "3 - momo\n",
      "4 - timi\n"
     ]
    }
   ],
   "source": [
    "winners = [\"pepe\", \"vale\", \"momo\", \"timi\"]\n",
    "for index, name in enumerate(winners):\n",
    "    print(\"{} - {}\".format(index+1, name))"
   ]
  },
  {
   "cell_type": "code",
   "execution_count": 230,
   "metadata": {},
   "outputs": [
    {
     "name": "stdout",
     "output_type": "stream",
     "text": [
      "['a', 'c', 'e', 'g']\n",
      "['Orange', 'Strawberry', 'Peach']\n"
     ]
    }
   ],
   "source": [
    "def skip_elements(elements):\n",
    "\t# code goes here\n",
    "\tnew_list =[]\n",
    "\n",
    "\tfor index, element in enumerate(elements):\n",
    "\t\tif index %2==0:\n",
    "\t\t\tnew_list.append(elements[index])\n",
    "\t\tindex+=1\n",
    "\t\n",
    "\treturn new_list\n",
    "\n",
    "print(skip_elements([\"a\", \"b\", \"c\", \"d\", \"e\", \"f\", \"g\"])) # Should be ['a', 'c', 'e', 'g']\n",
    "print(skip_elements(['Orange', 'Pineapple', 'Strawberry', 'Kiwi', 'Peach']))"
   ]
  },
  {
   "cell_type": "code",
   "execution_count": 237,
   "metadata": {
    "scrolled": true
   },
   "outputs": [
    {
     "data": {
      "text/plain": [
       "['Ñe ñe <ñe@ejemplo.com>',\n",
       " 'equis Equis <equis@ejemplo.com>',\n",
       " 'Mama mama <mama@example.com>']"
      ]
     },
     "execution_count": 237,
     "metadata": {},
     "output_type": "execute_result"
    }
   ],
   "source": [
    "def full_email(people):\n",
    "    new_format =[]\n",
    "    for email, name in people:\n",
    "        new_format.append(\"{} <{}>\".format(name, email))\n",
    "    return new_format\n",
    "\n",
    "full_email([(\"ñe@ejemplo.com\", \"Ñe ñe\"), (\"equis@ejemplo.com\", \"equis Equis\"), (\"mama@example.com\", \"Mama mama\")])"
   ]
  },
  {
   "cell_type": "code",
   "execution_count": 242,
   "metadata": {},
   "outputs": [
    {
     "name": "stdout",
     "output_type": "stream",
     "text": [
      "[7, 14, 21, 28, 35, 42, 49, 56, 63, 70]\n"
     ]
    }
   ],
   "source": [
    "multiplos = []\n",
    "for number in range(1,11):\n",
    "    multiplos.append(number*7)\n",
    "    \n",
    "print(multiplos)"
   ]
  },
  {
   "cell_type": "code",
   "execution_count": 244,
   "metadata": {},
   "outputs": [
    {
     "name": "stdout",
     "output_type": "stream",
     "text": [
      "[7, 14, 21, 28, 35, 42, 49, 56, 63, 70]\n"
     ]
    }
   ],
   "source": [
    "#primero definir la operacion, luego añadir el loop\n",
    "multiples = [x*7 for x in range(1,11)]\n",
    "print(multiples)"
   ]
  },
  {
   "cell_type": "code",
   "execution_count": 246,
   "metadata": {},
   "outputs": [
    {
     "name": "stdout",
     "output_type": "stream",
     "text": [
      "[0, 2, 4, 6, 8, 10, 12, 14, 16, 18, 20, 22, 24, 26, 28, 30, 32, 34, 36, 38, 40, 42, 44, 46, 48, 50, 52, 54, 56, 58, 60, 62, 64, 66, 68, 70, 72, 74, 76, 78, 80, 82, 84, 86, 88, 90, 92, 94, 96, 98, 100, 102, 104, 106, 108, 110, 112, 114, 116, 118, 120, 122, 124, 126, 128, 130, 132, 134, 136, 138, 140, 142, 144, 146, 148, 150, 152, 154, 156, 158, 160, 162, 164, 166, 168, 170, 172, 174, 176, 178, 180, 182, 184, 186, 188, 190, 192, 194, 196, 198, 200, 202, 204, 206, 208, 210, 212, 214, 216, 218, 220, 222, 224, 226, 228, 230, 232, 234, 236, 238, 240, 242, 244, 246, 248, 250, 252, 254, 256, 258, 260, 262, 264, 266, 268, 270, 272, 274, 276, 278, 280, 282, 284, 286, 288, 290, 292, 294, 296, 298, 300]\n"
     ]
    }
   ],
   "source": [
    "#list comprehension puede usar condicional. Se pone primero el loop y luego la condición\n",
    "z = [x for x in range(0,301) if x %2 == 0]\n",
    "print(z)"
   ]
  },
  {
   "cell_type": "markdown",
   "metadata": {},
   "source": [
    "Practice: The odd_numbers function returns a list of odd numbers between 1 and n, inclusively. Fill in the blanks in the function, using list comprehension. Hint: remember that list and range counters start at 0 and end at the limit minus 1."
   ]
  },
  {
   "cell_type": "code",
   "execution_count": 247,
   "metadata": {},
   "outputs": [
    {
     "name": "stdout",
     "output_type": "stream",
     "text": [
      "[1, 3, 5]\n",
      "[1, 3, 5, 7, 9]\n",
      "[1, 3, 5, 7, 9, 11]\n",
      "[1]\n",
      "[]\n"
     ]
    }
   ],
   "source": [
    "def odd_numbers(n):\n",
    "\treturn [x for x in range(1,n+1) if x%2!=0]\n",
    "\n",
    "print(odd_numbers(5))  # Should print [1, 3, 5]\n",
    "print(odd_numbers(10)) # Should print [1, 3, 5, 7, 9]\n",
    "print(odd_numbers(11)) # Should print [1, 3, 5, 7, 9, 11]\n",
    "print(odd_numbers(1))  # Should print [1]\n",
    "print(odd_numbers(-1)) # Should print []"
   ]
  },
  {
   "cell_type": "markdown",
   "metadata": {},
   "source": [
    "List-specific operations and methods:\n",
    "\n",
    "- list[i] = x Replaces the element at index i with x\n",
    "- list.append(x) Inserts x at the end of the list\n",
    "- list.insert(i, x) Inserts x at index i\n",
    "- list.pop(i) Returns the element a index i, also removing it from the list. If i is omitted, the last element is returned  and removed.\n",
    "- list.remove(x) Removes the first occurrence of x in the list\n",
    "- list.sort() Sorts the items in the list\n",
    "- list.reverse() Reverses the order of items of the list\n",
    "- list.clear() Removes all the items of the list\n",
    "- list.copy() Creates a copy of the list\n",
    "- list.extend(other_list) Appends all the elements of other_list at the end of list\n",
    "\n",
    "[official list docs](https://docs.python.org/3/library/stdtypes.html#lists), [mutable objects](https://docs.python.org/3/library/stdtypes.html#mutable-sequence-types)"
   ]
  },
  {
   "cell_type": "markdown",
   "metadata": {},
   "source": [
    "#### Practice lists"
   ]
  },
  {
   "cell_type": "code",
   "execution_count": 38,
   "metadata": {
    "scrolled": true
   },
   "outputs": [
    {
     "name": "stdout",
     "output_type": "stream",
     "text": [
      "['program.c', 'stdio.h', 'sample.h', 'a.out', 'math.h', 'hpp.out']\n"
     ]
    }
   ],
   "source": [
    "#rename words with extension.hpp to .h\n",
    "filenames = [\"program.c\", \"stdio.hpp\", \"sample.hpp\", \"a.out\", \"math.hpp\", \"hpp.out\"]\n",
    "#old suffix/extension \n",
    "suffix = \".hpp\"\n",
    "#new suffix\n",
    "new_suffix = \".h\"\n",
    "#create empty object for new lists\n",
    "new_list = []\n",
    "for word in filenames:\n",
    "    #add the condition\n",
    "    if word.endswith(suffix):\n",
    "        #create an index that provides the location of the suffix\n",
    "        i = word.index(suffix)\n",
    "        #append the words with index i and replace all after i with the new suffix\n",
    "        new_list.append(word[:i]+new_suffix)\n",
    "    else:\n",
    "        new_list.append(word)\n",
    "print(new_list)"
   ]
  },
  {
   "cell_type": "code",
   "execution_count": 39,
   "metadata": {},
   "outputs": [
    {
     "name": "stdout",
     "output_type": "stream",
     "text": [
      "ellohay owhay reaay ouyay\n"
     ]
    }
   ],
   "source": [
    "texto = \"hello how are you\"\n",
    "# Separate the text into words\n",
    "words = texto.split()\n",
    "new_word=[]\n",
    "for word in words:\n",
    "    say = \" \"\n",
    "# Create the pig latin word and add it to the list\n",
    "    new_word.append(word[1:]+word[0]+\"ay\")\n",
    "#     # Turn the list back into a phrase\n",
    "print(say.join(new_word))\n",
    "\n",
    "# print(pig_latin(\"\"\")) # Should be \"ellohay owhay reaay ouyay\"\n",
    "# print(pig_latin(\"programming in python is fun\")) # Should be \"rogrammingpay niay ythonpay siay unfay\""
   ]
  },
  {
   "cell_type": "code",
   "execution_count": 40,
   "metadata": {},
   "outputs": [
    {
     "data": {
      "text/plain": [
       "['ellohay', 'owhay', 'reaay', 'ouyay']"
      ]
     },
     "execution_count": 40,
     "metadata": {},
     "output_type": "execute_result"
    }
   ],
   "source": [
    "type(new_word)\n",
    "new_word"
   ]
  },
  {
   "cell_type": "code",
   "execution_count": 41,
   "metadata": {},
   "outputs": [
    {
     "name": "stdout",
     "output_type": "stream",
     "text": [
      "ellohay owhay reaay ouyay \n",
      "rogrammingpay niay ythonpay siay unfay \n"
     ]
    }
   ],
   "source": [
    "#como función\n",
    "def pig_latin(text):\n",
    "  say = \"\"\n",
    "  pig = []\n",
    "  # Separate the text into words\n",
    "  words = text.split()\n",
    "  for word in words:\n",
    "    # Create the pig latin word and add it to the list\n",
    "    pig += word[1:]+word[0]+\"ay\"+\" \"\n",
    "    # Turn the list back into a phrase\n",
    "    \n",
    "  return say.join(pig)\n",
    "\n",
    "print(pig_latin(\"hello how are you\")) # Should be \"ellohay owhay reaay ouyay\"\n",
    "print(pig_latin(\"programming in python is fun\")) # Should be \"rogrammingpay niay ythonpay siay unfay\""
   ]
  },
  {
   "cell_type": "markdown",
   "metadata": {},
   "source": [
    "The permissions of a file in a Linux system are split into three sets of three permissions: read, write, and execute for the owner, group, and others. Each of the three values can be expressed as an octal number summing each permission, with 4 corresponding to read, 2 to write, and 1 to execute. Or it can be written with a string using the letters r, w, and x or - when the permission is not granted.\n",
    "For example: \n",
    "640 is read/write for the owner, read for the group, and no permissions for the others; converted to a string, it would be: \"rw-r-----\"\n",
    "755 is read/write/execute for the owner, and read/execute for group and others; converted to a string, it would be: \"rwxr-xr-x\"\n",
    "Fill in the blanks to make the code convert a permission in octal format into a string format."
   ]
  },
  {
   "cell_type": "code",
   "execution_count": 3,
   "metadata": {
    "scrolled": true
   },
   "outputs": [
    {
     "name": "stdout",
     "output_type": "stream",
     "text": [
      "rwxr-xr-x\n",
      "rw-r--r--\n",
      "rwxr-x---\n",
      "rw-------\n"
     ]
    }
   ],
   "source": [
    "def octal_to_string(octal):\n",
    "    result = \"\"\n",
    "    value_letters = [(4,\"r\"),(2,\"w\"),(1,\"x\")]\n",
    "    # Iterate over each of the digits in octal\n",
    "    for n in [int(n) for n in str(octal)]:\n",
    "        # Check for each of the permissions values\n",
    "        for value, letter in value_letters:\n",
    "            if n >= value:\n",
    "                result += letter\n",
    "                n -= valueb\n",
    "            else:\n",
    "               result += \"-\"\n",
    "    return result\n",
    "    \n",
    "print(octal_to_string(755)) # Should be rwxr-xr-x\n",
    "print(octal_to_string(644)) # Should be rw-r--r--\n",
    "print(octal_to_string(750)) # Should be rwxr-x---\n",
    "print(octal_to_string(600)) # Should be rw-------"
   ]
  },
  {
   "cell_type": "code",
   "execution_count": 42,
   "metadata": {},
   "outputs": [
    {
     "name": "stdout",
     "output_type": "stream",
     "text": [
      "Marketing: Mike, Karen, Jake, Tasha\n"
     ]
    }
   ],
   "source": [
    "#group_list is a tuple\n",
    "group_list= (\"Marketing\", [\"Mike\", \"Karen\", \"Jake\", \"Tasha\"])\n",
    "users = \", \".join(group_list[1])\n",
    "area = group_list[0]\n",
    "# members = members.join(group_list[1])\n",
    "final = \"\"\n",
    "final=(\"{}: {}\".format(area, str(users)))\n",
    "print(final)"
   ]
  },
  {
   "cell_type": "code",
   "execution_count": 46,
   "metadata": {},
   "outputs": [
    {
     "data": {
      "text/plain": [
       "'Mike, Karen, Jake, Tasha'"
      ]
     },
     "execution_count": 46,
     "metadata": {},
     "output_type": "execute_result"
    }
   ],
   "source": [
    "users\n",
    "# group_list[1]"
   ]
  },
  {
   "cell_type": "code",
   "execution_count": 35,
   "metadata": {},
   "outputs": [
    {
     "name": "stdout",
     "output_type": "stream",
     "text": [
      "Marketing: Mike, Karen, Jake, Tasha\n",
      "Marketing: Kim, Jay, Tom\n",
      "Marketing: \n"
     ]
    }
   ],
   "source": [
    "def group_list(group, users):\n",
    "    members = \", \".join(users)\n",
    "    return (\"{}: {}\".format(area, members))\n",
    "\n",
    "print(group_list(\"Marketing\", [\"Mike\", \"Karen\", \"Jake\", \"Tasha\"])) # Should be \"Marketing: Mike, Karen, Jake, Tasha\"\n",
    "print(group_list(\"Engineering\", [\"Kim\", \"Jay\", \"Tom\"])) # Should be \"Engineering: Kim, Jay, Tom\"\n",
    "print(group_list(\"Users\", \"\")) # Should be \"Users:\""
   ]
  },
  {
   "cell_type": "markdown",
   "metadata": {},
   "source": [
    "Pregunta 6\n",
    "The guest_list function reads in a list of tuples with the name, age, and profession of each party guest, and prints the sentence \"Guest is X years old and works as __.\" for each one. For example, guest_list(('Ken', 30, \"Chef\"), (\"Pat\", 35, 'Lawyer'), ('Amanda', 25, \"Engineer\")) should print out: Ken is 30 years old and works as Chef. Pat is 35 years old and works as Lawyer. Amanda is 25 years old and works as Engineer. Fill in the gaps in this function to do that. "
   ]
  },
  {
   "cell_type": "code",
   "execution_count": 36,
   "metadata": {
    "scrolled": true
   },
   "outputs": [
    {
     "name": "stdout",
     "output_type": "stream",
     "text": [
      "Ken is 30 years old and works as Chef\n",
      "Pat is 35 years old and works as Lawyer\n",
      "Amanda is 25 years old and works as Engineer\n"
     ]
    }
   ],
   "source": [
    "def guest_list(guests):\n",
    "\tfor name, age, work in guests:\n",
    "\t\tprint(\"{} is {} years old and works as {}\".format(name, age, work))\n",
    "\n",
    "guest_list([('Ken', 30, \"Chef\"), (\"Pat\", 35, 'Lawyer'), ('Amanda', 25, \"Engineer\")])"
   ]
  },
  {
   "cell_type": "markdown",
   "metadata": {},
   "source": [
    "### Dictionaries"
   ]
  },
  {
   "cell_type": "markdown",
   "metadata": {},
   "source": [
    "Like lists, dictionaries are used to organize elements into collections. Unlike lists, you don't access elements inside dictionaries using their position. Instead, the data inside dictionaries take the form of pairs of keys and values. To get a dictionary value we use its corresponding key. Another way these two vary is while in a list the index must be a number, in a dictionary you can use a bunch of different data types as keys, like strings, integers, floats, tuples, and more. The name dictionaries comes from how they work in a similar way to human language dictionaries. In an English language dictionary the word comes with a definition."
   ]
  },
  {
   "cell_type": "markdown",
   "metadata": {},
   "source": [
    "When creating a dictionary, you use curly brackets: {}. When storing values in a dictionary, the key is specified first, followed by the corresponding value, separated by a colon. For example, animals = { \"bears\":10, \"lions\":1, \"tigers\":2 } creates a dictionary with three key value pairs, stored in the variable animals. The key \"bears\" points to the integer value 10, while the key \"lions\" points to the integer value 1, and \"tigers\" points to the integer 2. You can access the values by referencing the key, like this: animals[\"bears\"]. This would return the integer 10, since that’s the corresponding value for this key.\n",
    "\n",
    "You can also check if a key is contained in a dictionary using the in keyword. Just like other uses of this keyword, it will return True if the key is found in the dictionary; otherwise it will return False."
   ]
  },
  {
   "cell_type": "code",
   "execution_count": 47,
   "metadata": {},
   "outputs": [
    {
     "data": {
      "text/plain": [
       "{'jpg': 10, 'txt': 14, 'csv': 2, 'py': 23}"
      ]
     },
     "execution_count": 47,
     "metadata": {},
     "output_type": "execute_result"
    }
   ],
   "source": [
    "files = {\"jpg\":10, \"txt\":14, \"csv\":2, \"py\":23}\n",
    "files"
   ]
  },
  {
   "cell_type": "code",
   "execution_count": 48,
   "metadata": {},
   "outputs": [
    {
     "data": {
      "text/plain": [
       "10"
      ]
     },
     "execution_count": 48,
     "metadata": {},
     "output_type": "execute_result"
    }
   ],
   "source": [
    "files[\"jpg\"]"
   ]
  },
  {
   "cell_type": "code",
   "execution_count": 51,
   "metadata": {},
   "outputs": [
    {
     "data": {
      "text/plain": [
       "False"
      ]
     },
     "execution_count": 51,
     "metadata": {},
     "output_type": "execute_result"
    }
   ],
   "source": [
    "\"html\"  in files"
   ]
  },
  {
   "cell_type": "markdown",
   "metadata": {},
   "source": [
    "Dictionaries are **mutable**, meaning they can be modified by adding, removing, and replacing elements in a dictionary, similar to lists. You can add a new key value pair to a dictionary by assigning a value to the key, like this: animals[\"zebras\"] = 2. This creates the new key in the animal dictionary called zebras, and stores the value 2. You can modify the value of an existing key by doing the same thing. So animals[\"bears\"] = 11 would change the value stored in the bears key from 10 to 11. Lastly, you can remove elements from a dictionary by using the del keyword. By doing del animals[\"lions\"] you would remove the key value pair from the animals dictionary."
   ]
  },
  {
   "cell_type": "code",
   "execution_count": 52,
   "metadata": {},
   "outputs": [
    {
     "data": {
      "text/plain": [
       "{'jpg': 10, 'txt': 14, 'csv': 2, 'py': 23, 'shp': 17}"
      ]
     },
     "execution_count": 52,
     "metadata": {},
     "output_type": "execute_result"
    }
   ],
   "source": [
    "files[\"shp\"] = 17\n",
    "files"
   ]
  },
  {
   "cell_type": "markdown",
   "metadata": {},
   "source": [
    "If i try to add a kew that already exists, the new value replaces the old value"
   ]
  },
  {
   "cell_type": "code",
   "execution_count": 53,
   "metadata": {
    "scrolled": true
   },
   "outputs": [
    {
     "data": {
      "text/plain": [
       "{'jpg': 10, 'txt': 14, 'csv': 2, 'py': 23}"
      ]
     },
     "execution_count": 53,
     "metadata": {},
     "output_type": "execute_result"
    }
   ],
   "source": [
    "#erasing data from dictionary\n",
    "del files['shp']\n",
    "files"
   ]
  },
  {
   "cell_type": "markdown",
   "metadata": {},
   "source": [
    "#### Interating over a dictionary"
   ]
  },
  {
   "cell_type": "code",
   "execution_count": 54,
   "metadata": {
    "scrolled": true
   },
   "outputs": [
    {
     "name": "stdout",
     "output_type": "stream",
     "text": [
      "jpg\n",
      "txt\n",
      "csv\n",
      "py\n"
     ]
    }
   ],
   "source": [
    "#this method iterates over the keys only\n",
    "for extension in files:\n",
    "    print(extension)"
   ]
  },
  {
   "cell_type": "code",
   "execution_count": 57,
   "metadata": {},
   "outputs": [
    {
     "name": "stdout",
     "output_type": "stream",
     "text": [
      "There are 10 with the .jpg extension\n",
      "There are 14 with the .txt extension\n",
      "There are 2 with the .csv extension\n",
      "There are 23 with the .py extension\n"
     ]
    }
   ],
   "source": [
    "### access keys and values using items\n",
    "for ext, values in files.items():\n",
    "    print(\"There are {} with the .{} extension\".format(values, ext))"
   ]
  },
  {
   "cell_type": "code",
   "execution_count": 58,
   "metadata": {},
   "outputs": [
    {
     "name": "stdout",
     "output_type": "stream",
     "text": [
      "dict_keys(['jpg', 'txt', 'csv', 'py'])\n",
      "dict_values([10, 14, 2, 23])\n"
     ]
    }
   ],
   "source": [
    "print(files.keys())\n",
    "print(files.values())"
   ]
  },
  {
   "cell_type": "code",
   "execution_count": 59,
   "metadata": {},
   "outputs": [
    {
     "name": "stdout",
     "output_type": "stream",
     "text": [
      "octopuses have tentacles\n",
      "dolphins have fins\n",
      "rhinos have horns\n"
     ]
    }
   ],
   "source": [
    "cool_beasts = {\"octopuses\":\"tentacles\", \"dolphins\":\"fins\", \"rhinos\":\"horns\"}\n",
    "for keys, values in cool_beasts.items():\n",
    "    print(\"{} have {}\".format(keys, values))"
   ]
  },
  {
   "cell_type": "code",
   "execution_count": 61,
   "metadata": {},
   "outputs": [
    {
     "data": {
      "text/plain": [
       "{'h': 1,\n",
       " 'o': 5,\n",
       " 'l': 1,\n",
       " 'a': 4,\n",
       " ' ': 4,\n",
       " 'c': 1,\n",
       " 'm': 3,\n",
       " 'e': 1,\n",
       " 's': 2,\n",
       " 't': 1,\n",
       " 'i': 2,\n",
       " 'g': 2}"
      ]
     },
     "execution_count": 61,
     "metadata": {},
     "output_type": "execute_result"
    }
   ],
   "source": [
    "def count_letters(text):\n",
    "    #initialize empty dictionary\n",
    "    result = {}\n",
    "    #iterate over each letter in the string\n",
    "    for letter in text:\n",
    "        #for each letter check if its not already in the dictionary\n",
    "        if letter not in result:\n",
    "            result[letter]=0\n",
    "        #increment the value of that letter in the dictionary\n",
    "        result[letter]+=1\n",
    "    return result\n",
    "\n",
    "count_letters(\"amigo\")\n",
    "count_letters(\"hola como estas amigo amigo\")"
   ]
  },
  {
   "cell_type": "markdown",
   "metadata": {},
   "source": [
    "Dictionary keys can be:\n",
    "- booleans\n",
    "- numbers\n",
    "- strings\n",
    "- tuples"
   ]
  },
  {
   "cell_type": "code",
   "execution_count": 74,
   "metadata": {},
   "outputs": [
    {
     "data": {
      "text/plain": [
       "dict_values([['red', 'blue', 'white'], ['blue', 'black']])"
      ]
     },
     "execution_count": 74,
     "metadata": {},
     "output_type": "execute_result"
    }
   ],
   "source": [
    "wardrobe = {\"shirt\":[\"red\",\"blue\",\"white\"], \"jeans\":[\"blue\",\"black\"]}\n",
    "wardrobe.values()"
   ]
  },
  {
   "cell_type": "code",
   "execution_count": 91,
   "metadata": {},
   "outputs": [
    {
     "name": "stdout",
     "output_type": "stream",
     "text": [
      "red shirt\n",
      "blue shirt\n",
      "white shirt\n",
      "blue jeans\n",
      "black jeans\n"
     ]
    }
   ],
   "source": [
    "#we need to iterate over keys and values\n",
    "for keys, values in wardrobe.items():\n",
    "    #access each value (color) of the dictionary values\n",
    "    for color in values:\n",
    "#for color in wardrobe.values:\n",
    "        print(\"{} {}\".format(color, keys))"
   ]
  },
  {
   "cell_type": "markdown",
   "metadata": {},
   "source": [
    "### Dictionary Methods Cheat Sheet\n",
    "Definition\n",
    "\n",
    "x = {key1:value1, key2:value2} \n",
    "\n",
    "#### Operations\n",
    "\n",
    "- len(dictionary) - Returns the number of items in the dictionary\n",
    "- for key in dictionary - Iterates over each key in the dictionary\n",
    "- for key, value in dictionary.items() - Iterates over each key,value pair in the dictionary\n",
    "- if key in dictionary - Checks whether the key is in the dictionary\n",
    "- dictionary[key] - Accesses the item with key key of the dictionary\n",
    "- dictionary[key] = value - Sets the value associated with key\n",
    "- del dictionary[key] - Removes the item with key key from the dictionary\n",
    "\n",
    "#### Methods\n",
    "\n",
    "- dict.get(key, default) - Returns the element corresponding to key, or default if it's not present\n",
    "- dict.keys() - Returns a sequence containing the keys in the dictionary\n",
    "- dict.values() - Returns a sequence containing the values in the dictionary\n",
    "- dict.update(other_dictionary) - Updates the dictionary with the items coming from the other dictionary. Existing entries will be replaced; new entries will be added.\n",
    "- dict.clear() - Removes all the items of the dictionary\n",
    "\n",
    "Check out the [official documentation](https://docs.python.org/3/library/stdtypes.html#mapping-types-dict) for dictionary operations and methods.  "
   ]
  },
  {
   "cell_type": "markdown",
   "metadata": {},
   "source": [
    "#### Practice Dictionaries"
   ]
  },
  {
   "cell_type": "code",
   "execution_count": 100,
   "metadata": {},
   "outputs": [
    {
     "name": "stdout",
     "output_type": "stream",
     "text": [
      "['clark.kent@gmail.com', 'diana.prince@gmail.com', 'peter.parker@gmail.com', 'barbara.gordon@yahoo.com', 'jean.grey@yahoo.com', 'bruce.wayne@hotmail.com']\n"
     ]
    }
   ],
   "source": [
    "def email_list(domains):\n",
    "\temails = []\n",
    "\tfor key, values in domains.items():\n",
    "\t  for user in values:\n",
    "\t    emails.append(\"{}@{}\".format(user, key))\n",
    "\treturn(emails)\n",
    "\n",
    "print(email_list({\"gmail.com\": [\"clark.kent\", \"diana.prince\", \"peter.parker\"], \"yahoo.com\": [\"barbara.gordon\", \"jean.grey\"], \"hotmail.com\": [\"bruce.wayne\"]}))"
   ]
  },
  {
   "cell_type": "code",
   "execution_count": 94,
   "metadata": {},
   "outputs": [
    {
     "data": {
      "text/plain": [
       "dict_keys(['gmail.com', 'yahoo.com', 'hotmail.com'])"
      ]
     },
     "execution_count": 94,
     "metadata": {},
     "output_type": "execute_result"
    }
   ],
   "source": [
    "lista_emails = {\"gmail.com\": [\"clark.kent\", \"diana.prince\", \"peter.parker\"], \"yahoo.com\": [\"barbara.gordon\", \"jean.grey\"], \"hotmail.com\": [\"bruce.wayne\"]}\n",
    "lista_emails.keys()"
   ]
  },
  {
   "cell_type": "code",
   "execution_count": 99,
   "metadata": {
    "scrolled": true
   },
   "outputs": [
    {
     "name": "stdout",
     "output_type": "stream",
     "text": [
      "clark.kent@gmail.com\n",
      "diana.prince@gmail.com\n",
      "peter.parker@gmail.com\n",
      "barbara.gordon@yahoo.com\n",
      "jean.grey@yahoo.com\n",
      "bruce.wayne@hotmail.com\n"
     ]
    }
   ],
   "source": [
    "#without def only a loop\n",
    "for keys, values in lista_emails.items():\n",
    "    for users in values:\n",
    "        \n",
    "        print(users+\"@\"+keys)"
   ]
  },
  {
   "cell_type": "code",
   "execution_count": 131,
   "metadata": {},
   "outputs": [
    {
     "name": "stdout",
     "output_type": "stream",
     "text": [
      "{'userA': ['local']}\n",
      "{'userB': ['public']}\n",
      "{'admin': ['administrator']}\n"
     ]
    }
   ],
   "source": [
    "groups = {\"local\": [\"admin\", \"userA\"], \"public\":  [\"admin\", \"userB\"], \"administrator\": [\"admin\"] }\n",
    "#iterate over all items in the dictionary\n",
    "for group, values in groups.items():\n",
    "    #iterate over users in values\n",
    "    for users in values:\n",
    "        #initialize empty dictionary\n",
    "        user={}\n",
    "        #if user is already in dictionary append keys (group)\n",
    "        if users in user:\n",
    "            user[users].append(group)\n",
    "            #if user not in dictionary\n",
    "        else:\n",
    "            user[users]=[group]\n",
    "        \n",
    "    print(user)"
   ]
  },
  {
   "cell_type": "code",
   "execution_count": 130,
   "metadata": {},
   "outputs": [
    {
     "name": "stdout",
     "output_type": "stream",
     "text": [
      "{'admin': ['local', 'public', 'administrator'], 'userA': ['local'], 'userB': ['public']}\n"
     ]
    }
   ],
   "source": [
    "def groups_per_user(group_dictionary):\n",
    "\tuser_groups = {}\n",
    "\t# Go through group_dictionary\n",
    "\tfor keys, values in group_dictionary.items():\n",
    "\t\t# Now go through the users in the group\n",
    "\t\tfor users in values:\n",
    "\t\t\tif users in user_groups:\n",
    "\t\t\t# Now add the group to the the list of\n",
    "\t\t\t\tuser_groups[users].append(keys)\n",
    "\t\t\telse:\n",
    "\t\t\t\tuser_groups[users]= [keys]\n",
    "\treturn(user_groups)\n",
    "\n",
    "print(groups_per_user({\"local\": [\"admin\", \"userA\"],\n",
    "\t\t\"public\":  [\"admin\", \"userB\"],\n",
    "\t\t\"administrator\": [\"admin\"] }))"
   ]
  },
  {
   "cell_type": "code",
   "execution_count": 119,
   "metadata": {},
   "outputs": [
    {
     "data": {
      "text/plain": [
       "{'shirt': ['red', 'blue', 'white'],\n",
       " 'jeans': ['white'],\n",
       " 'scarf': ['yellow'],\n",
       " 'socks': ['black', 'brown']}"
      ]
     },
     "execution_count": 119,
     "metadata": {},
     "output_type": "execute_result"
    }
   ],
   "source": [
    "wardrobe = {'shirt': ['red', 'blue', 'white'], 'jeans': ['blue', 'black']}\n",
    "new_items = {'jeans': ['white'], 'scarf': ['yellow'], 'socks': ['black', 'brown']}\n",
    "wardrobe.update(new_items)\n",
    "wardrobe"
   ]
  },
  {
   "cell_type": "code",
   "execution_count": 120,
   "metadata": {},
   "outputs": [
    {
     "name": "stdout",
     "output_type": "stream",
     "text": [
      "28.44\n"
     ]
    }
   ],
   "source": [
    "def add_prices(basket):\n",
    "\t# Initialize the variable that will be used for the calculation\n",
    "\ttotal = 0\n",
    "\t# Iterate through the dictionary items\n",
    "\tfor values in basket.values():\n",
    "\t\t# Add each price to the total calculation\n",
    "\t\t\ttotal+= values\n",
    "\t\t# Hint: how do you access the values of\n",
    "\t\t# dictionary items?\n",
    "\t# Limit the return value to 2 decimal places\n",
    "\treturn round(total, 2)  \n",
    "\n",
    "groceries = {\"bananas\": 1.56, \"apples\": 2.50, \"oranges\": 0.99, \"bread\": 4.59, \n",
    "\t\"coffee\": 6.99, \"milk\": 3.39, \"eggs\": 2.98, \"cheese\": 5.44}\n",
    "\n",
    "print(add_prices(groceries)) # Should print 28.44"
   ]
  },
  {
   "cell_type": "markdown",
   "metadata": {},
   "source": [
    "### Quiz week 3"
   ]
  },
  {
   "cell_type": "markdown",
   "metadata": {},
   "source": [
    "The format_address function separates out parts of the address string into new strings: house_number and street_name, and returns: \"house number X on street named Y\". The format of the input string is: numeric house number, followed by the street name which may contain numbers, but never by themselves, and could be several words long. For example, \"123 Main Street\", \"1001 1st Ave\", or \"55 North Center Drive\". Fill in the gaps to complete this function."
   ]
  },
  {
   "cell_type": "code",
   "execution_count": 194,
   "metadata": {},
   "outputs": [
    {
     "name": "stdout",
     "output_type": "stream",
     "text": [
      "house number ['123'] on street named ['Main', 'Street']\n"
     ]
    }
   ],
   "source": [
    "#Ejemplo usando listas\n",
    "address = \"123 Main Street\"\n",
    "numeros =[]\n",
    "calle = []\n",
    "words = address.split()\n",
    "for word in words:\n",
    "    if word.isnumeric():\n",
    "        numeros.append(word)\n",
    "    else:\n",
    "        calle.append(word)\n",
    "print(\"house number {} on street named {}\".format(numeros, calle))"
   ]
  },
  {
   "cell_type": "code",
   "execution_count": 221,
   "metadata": {},
   "outputs": [
    {
     "name": "stdout",
     "output_type": "stream",
     "text": [
      "123 \n",
      "123 Main \n",
      "123 Main Street \n"
     ]
    }
   ],
   "source": [
    "#como string\n",
    "address = \"123 Main Street\"\n",
    "numeros = 0\n",
    "calle = \"\"\n",
    "words = address.split()\n",
    "for item in words:\n",
    "    if item.isnumeric():\n",
    "        numeros=item\n",
    "    else:\n",
    "        calle+= item+' '\n",
    "        #address_format= ' '.join(calle)\n",
    "    print(numeros, calle)"
   ]
  },
  {
   "cell_type": "code",
   "execution_count": 219,
   "metadata": {
    "scrolled": true
   },
   "outputs": [
    {
     "name": "stdout",
     "output_type": "stream",
     "text": [
      "house number 123 on street named Main Street \n",
      "house number 1001 on street named 1st Ave \n",
      "house number 55 on street named North Center Drive \n"
     ]
    }
   ],
   "source": [
    "#como función y usando strings\n",
    "def format_address(address_string):\n",
    "  # Declare variables\n",
    "  number = \"\"\n",
    "  street = \"\"\n",
    "  # Separate the address string into parts\n",
    "  words = address_string.split()\n",
    "  # Traverse through the address parts\n",
    "  for item in words:\n",
    "    # Determine if the address part is the\n",
    "    if item.isnumeric():\n",
    "      number+=item\n",
    "    # house number or part of the street name\n",
    "    else: \n",
    "      street+=item+' '\n",
    "  # Does anything else need to be done \n",
    "  # before returning the result?\n",
    "  \n",
    "  # Return the formatted string  \n",
    "  return \"house number {} on street named {}\".format(number, street)\n",
    "\n",
    "print(format_address(\"123 Main Street\"))\n",
    "# Should print: \"house number 123 on street named Main Street\"\n",
    "\n",
    "print(format_address(\"1001 1st Ave\"))\n",
    "\n",
    "print(format_address(\"55 North Center Drive\"))"
   ]
  },
  {
   "cell_type": "code",
   "execution_count": 222,
   "metadata": {},
   "outputs": [
    {
     "name": "stdout",
     "output_type": "stream",
     "text": [
      "Have a NICE day\n",
      "Shhh, don't be so LOUD!\n",
      "Automating with Python is FUN\n"
     ]
    }
   ],
   "source": [
    "#2\n",
    "def highlight_word(sentence, word):\n",
    "\treturn(sentence.replace(word, word.upper()))\n",
    "\n",
    "\n",
    "print(highlight_word(\"Have a nice day\", \"nice\"))\n",
    "print(highlight_word(\"Shhh, don't be so loud!\", \"loud\"))\n",
    "print(highlight_word(\"Automating with Python is fun\", \"fun\"))"
   ]
  },
  {
   "cell_type": "markdown",
   "metadata": {},
   "source": [
    "3. A professor with two assistants, Jamie and Drew, wants an attendance list of the students, in the order that they arrived in the classroom. Drew was the first one to note which students arrived, and then Jamie took over. After the class, they each entered their lists into the computer and emailed them to the professor, who needs to combine them into one, in the order of each student's arrival. Jamie emailed a follow-up, saying that her list is in reverse order. Complete the steps to combine them into one list as follows: the contents of Drew's list, followed by Jamie's list in reverse order, to get an accurate list of the students as they arrived.\n"
   ]
  },
  {
   "cell_type": "code",
   "execution_count": 174,
   "metadata": {
    "scrolled": true
   },
   "outputs": [
    {
     "data": {
      "text/plain": [
       "['Mike', 'Carol', 'Greg', 'Marcia', 'Peter', 'Jan', 'Cindy', 'Bobby', 'Alice']"
      ]
     },
     "execution_count": 174,
     "metadata": {},
     "output_type": "execute_result"
    }
   ],
   "source": [
    "Jamies_list = [\"Alice\", \"Cindy\", \"Bobby\", \"Jan\", \"Peter\"]\n",
    "Drews_list = [\"Mike\", \"Carol\", \"Greg\", \"Marcia\"]\n",
    "\n",
    "new_list=Drews_list\n",
    "# new_list.append(Drews_list)\n",
    "#new_list.extend(Jamies_list.sort(reverse=True))\n",
    "Jamies_list.sort(reverse=True)\n",
    "new_list.extend(Jamies_list)\n",
    "# # # new_list\n",
    "new_list"
   ]
  },
  {
   "cell_type": "code",
   "execution_count": 200,
   "metadata": {},
   "outputs": [
    {
     "name": "stdout",
     "output_type": "stream",
     "text": [
      "['Mike', 'Carol', 'Greg', 'Marcia', 'Peter', 'Jan', 'Bobby', 'Cindy', 'Alice']\n"
     ]
    }
   ],
   "source": [
    "def combine_lists(list1, list2):\n",
    "  # Generate a new list containing the elements of list2\n",
    "  new_list=list2\n",
    "  #sort elements of list 2\n",
    "  list1.reverse()\n",
    "  # Followed by the elements of list1 in reverse order\n",
    "  new_list.extend(list1)\n",
    "  return(new_list)\n",
    "\t\n",
    "Jamies_list = [\"Alice\", \"Cindy\", \"Bobby\", \"Jan\", \"Peter\"]\n",
    "Drews_list = [\"Mike\", \"Carol\", \"Greg\", \"Marcia\"]\n",
    "\n",
    "print(combine_lists(Jamies_list, Drews_list))"
   ]
  },
  {
   "cell_type": "markdown",
   "metadata": {},
   "source": [
    "4.Pregunta 4\n",
    "Use a list comprehension to create a list of squared numbers (n*n). The function receives the variables start and end, and returns a list of squares of consecutive numbers between start and end inclusively.\n",
    "For example, squares(2, 3) should return [4, 9]."
   ]
  },
  {
   "cell_type": "code",
   "execution_count": 175,
   "metadata": {},
   "outputs": [
    {
     "name": "stdout",
     "output_type": "stream",
     "text": [
      "[4, 9]\n",
      "[1, 4, 9, 16, 25]\n",
      "[0, 1, 4, 9, 16, 25, 36, 49, 64, 81, 100]\n"
     ]
    }
   ],
   "source": [
    "def squares(start, end):\n",
    "\treturn [x*x for x in range(start,end+1)]\n",
    "\n",
    "print(squares(2, 3)) # Should be [4, 9]\n",
    "print(squares(1, 5)) # Should be [1, 4, 9, 16, 25]\n",
    "print(squares(0, 10)) # Should be [0, 1, 4, 9, 16, 25, 36, 49, 64, 81, 100]"
   ]
  },
  {
   "cell_type": "code",
   "execution_count": 176,
   "metadata": {},
   "outputs": [
    {
     "name": "stdout",
     "output_type": "stream",
     "text": [
      "Kia Soul costs 19000 dollars\n",
      "Lamborghini Diablo costs 55000 dollars\n",
      "Ford Fiesta costs 13000 dollars\n",
      "Toyota Prius costs 24000 dollars\n",
      "\n"
     ]
    }
   ],
   "source": [
    "#5. Complete the code to iterate through the keys and values of the car_prices dictionary, \n",
    "#printing out some information about each one.\n",
    "def car_listing(car_prices):\n",
    "  result = \"\"\n",
    "  for keys, values in car_prices.items():\n",
    "    result += \"{} costs {} dollars\".format(keys, values) + \"\\n\"\n",
    "  return result\n",
    "\n",
    "print(car_listing({\"Kia Soul\":19000, \"Lamborghini Diablo\":55000, \"Ford Fiesta\":13000, \"Toyota Prius\":24000}))"
   ]
  },
  {
   "cell_type": "code",
   "execution_count": 201,
   "metadata": {},
   "outputs": [],
   "source": [
    "#6\n",
    "Rorys_guests = { \"Adam\":2, \"Brenda\":3, \"David\":1, \"Jose\":3, \"Charlotte\":2, \"Terry\":1, \"Robert\":4}\n",
    "Taylors_guests = { \"David\":4, \"Nancy\":1, \"Robert\":2, \"Adam\":1, \"Samantha\":3, \"Chris\":5}\n",
    "\n",
    "dictionary = Rorys_guests.update(Taylors_guests)\n",
    "dictionary"
   ]
  },
  {
   "cell_type": "code",
   "execution_count": 223,
   "metadata": {},
   "outputs": [
    {
     "name": "stdout",
     "output_type": "stream",
     "text": [
      "{'David': 1, 'Nancy': 1, 'Robert': 4, 'Adam': 2, 'Samantha': 3, 'Chris': 5, 'Brenda': 3, 'Jose': 3, 'Charlotte': 2, 'Terry': 1}\n"
     ]
    }
   ],
   "source": [
    "#6\n",
    "def combine_guests(guests1, guests2):\n",
    "  # Combine both dictionaries into one, with each key listed\n",
    "    #with update, the values from the appended dictionary overwrites values from first dictionary\n",
    "  guests2.update(guests1)\n",
    "  # only once, and the value from guests1 taking precedence\n",
    "  return(guests2)\n",
    "\n",
    "Rorys_guests = { \"Adam\":2, \"Brenda\":3, \"David\":1, \"Jose\":3, \"Charlotte\":2, \"Terry\":1, \"Robert\":4}\n",
    "Taylors_guests = { \"David\":4, \"Nancy\":1, \"Robert\":2, \"Adam\":1, \"Samantha\":3, \"Chris\":5}\n",
    "\n",
    "print(combine_guests(Rorys_guests, Taylors_guests))"
   ]
  },
  {
   "cell_type": "markdown",
   "metadata": {},
   "source": [
    "https://thispointer.com/how-to-merge-two-or-more-dictionaries-in-python/"
   ]
  },
  {
   "cell_type": "code",
   "execution_count": 178,
   "metadata": {},
   "outputs": [
    {
     "name": "stdout",
     "output_type": "stream",
     "text": [
      "{'a': 2, 'b': 2, 'c': 2}\n",
      "{'m': 1, 'a': 1, 't': 1, 'h': 1, 'i': 1, 's': 1, 'f': 1, 'u': 1, 'n': 1}\n",
      "{'t': 2, 'h': 1, 'i': 2, 's': 3, 'a': 1, 'e': 3, 'n': 2, 'c': 1}\n"
     ]
    }
   ],
   "source": [
    "#7. Use a dictionary to count the frequency of letters in the input string. Only letters should be counted, not blank spaces, numbers, or punctuation. \n",
    "#Upper case should be considered the same as lower case. For example, count_letters(\"This is a sentence.\") \n",
    "#should return {'t': 2, 'h': 1, 'i': 2, 's': 3, 'a': 1, 'e': 3, 'n': 2, 'c': 1}.\n",
    "def count_letters(text):\n",
    "    #initialize variable\n",
    "  result = {}\n",
    "#convert to lower\n",
    "  text=text.lower()\n",
    "  # Go through each letter in the text\n",
    "  for letter in text:\n",
    "    # select only letters\n",
    "    if letter.isalpha():\n",
    "        #Check if the letter needs to be counted or not\n",
    "      if letter not in result:\n",
    "        result[letter]=0\n",
    "    # Add or increment the value in the dictionary\n",
    "      result[letter]+=1\n",
    "  return result\n",
    "\n",
    "print(count_letters(\"AaBbCc\"))\n",
    "# Should be {'a': 2, 'b': 2, 'c': 2}\n",
    "\n",
    "print(count_letters(\"Math is fun! 2+2=4\"))\n",
    "# Should be {'m': 1, 'a': 1, 't': 1, 'h': 1, 'i': 1, 's': 1, 'f': 1, 'u': 1, 'n': 1}\n",
    "\n",
    "print(count_letters(\"This is a sentence.\"))\n",
    "# Should be {'t': 2, 'h': 1, 'i': 2, 's': 3, 'a': 1, 'e': 3, 'n': 2, 'c': 1}\n"
   ]
  },
  {
   "cell_type": "code",
   "execution_count": 224,
   "metadata": {},
   "outputs": [
    {
     "name": "stdout",
     "output_type": "stream",
     "text": [
      "pop\n",
      "t\n",
      "us\n"
     ]
    }
   ],
   "source": [
    "#8\n",
    "animal = \"Hippopotamus\"\n",
    "print(animal[3:6])\n",
    "print(animal[-5])\n",
    "print(animal[10:])"
   ]
  },
  {
   "cell_type": "code",
   "execution_count": 231,
   "metadata": {},
   "outputs": [
    {
     "data": {
      "text/plain": [
       "['red', 'white', 'yellow', 'blue']"
      ]
     },
     "execution_count": 231,
     "metadata": {},
     "output_type": "execute_result"
    }
   ],
   "source": [
    "#9\n",
    "colors = [\"red\", \"white\", \"blue\"]\n",
    "colors.insert(2, \"yellow\")\n",
    "colors"
   ]
  },
  {
   "cell_type": "code",
   "execution_count": 232,
   "metadata": {},
   "outputs": [
    {
     "data": {
      "text/plain": [
       "'\\nThis is a long\\ncomment\\nmultiple lines\\n'"
      ]
     },
     "execution_count": 232,
     "metadata": {},
     "output_type": "execute_result"
    }
   ],
   "source": [
    "'''\n",
    "This is a long\n",
    "comment\n",
    "multiple lines\n",
    "'''"
   ]
  },
  {
   "cell_type": "markdown",
   "metadata": {},
   "source": [
    "### Lambda\n",
    "A lambda function is a small anonymous function.\n",
    "\n",
    "A lambda function can take any number of arguments, but can only have one expression.\n",
    "\n",
    "**Syntax**\n",
    "\n",
    "lambda arguments : expression"
   ]
  },
  {
   "cell_type": "code",
   "execution_count": 254,
   "metadata": {},
   "outputs": [
    {
     "name": "stdout",
     "output_type": "stream",
     "text": [
      "15\n"
     ]
    }
   ],
   "source": [
    "#lambda arguments : expression\n",
    "x = lambda a : a + 10\n",
    "print(x(5))"
   ]
  },
  {
   "cell_type": "code",
   "execution_count": 256,
   "metadata": {},
   "outputs": [
    {
     "name": "stdout",
     "output_type": "stream",
     "text": [
      "22\n"
     ]
    }
   ],
   "source": [
    "#define a function with lambda\n",
    "def myfunc(n):\n",
    "  return lambda a : a * n\n",
    "\n",
    "#create another function using the lambda function that always doubles the number you send in \n",
    "\n",
    "mydoubler = myfunc(2)\n",
    "\n",
    "print(mydoubler(11))"
   ]
  },
  {
   "cell_type": "markdown",
   "metadata": {},
   "source": [
    "### Object Oriented Programming\n",
    "In object-oriented programming, concepts are modeled as classes and objects. An idea is defined using a class, and an instance of this class is called an object. Almost everything in Python is an object, including strings, lists, dictionaries, and numbers. When we create a list in Python, we’re creating an object which is an instance of the list class, which represents the concept of a list. Classes also have attributes and methods associated with them. Attributes are the characteristics of the class, while methods are functions that are part of the class."
   ]
  },
  {
   "cell_type": "code",
   "execution_count": 261,
   "metadata": {
    "scrolled": false
   },
   "outputs": [],
   "source": [
    "#list of all string methods\n",
    "# dir(\" \")\n",
    "#description of atring methods\n",
    "# help(' ')"
   ]
  },
  {
   "cell_type": "code",
   "execution_count": 260,
   "metadata": {},
   "outputs": [],
   "source": [
    "class Apple:\n",
    "    #also called methods or attributes of the class\n",
    "    color=\"\"\n",
    "    flavor=\"\""
   ]
  },
  {
   "cell_type": "code",
   "execution_count": 262,
   "metadata": {},
   "outputs": [],
   "source": [
    "#create an instance (object) of the class\n",
    "manzana_roja = Apple()\n",
    "manzana_roja.color=\"roja\"\n",
    "manzana_roja.flavor=\"sweet\""
   ]
  },
  {
   "cell_type": "markdown",
   "metadata": {},
   "source": [
    "Dot notation (manzana_roja.color) lets you access any of the abilities that the object might have, called methods or information that it might store called attributes, like flavor."
   ]
  },
  {
   "cell_type": "code",
   "execution_count": 263,
   "metadata": {},
   "outputs": [
    {
     "data": {
      "text/plain": [
       "'ROJA'"
      ]
     },
     "execution_count": 263,
     "metadata": {},
     "output_type": "execute_result"
    }
   ],
   "source": [
    "manzana_roja.color.upper()"
   ]
  },
  {
   "cell_type": "code",
   "execution_count": 264,
   "metadata": {},
   "outputs": [],
   "source": [
    "class Person:\n",
    "    apples = 0\n",
    "    ideas = 0\n",
    "\n",
    "johanna = Person()\n",
    "johanna.apples = 1\n",
    "johanna.ideas = 1\n",
    "\n",
    "martin = Person()\n",
    "martin.apples = 2\n",
    "martin.ideas = 1"
   ]
  },
  {
   "cell_type": "markdown",
   "metadata": {},
   "source": [
    "#### Practice Quiz OOP"
   ]
  },
  {
   "cell_type": "code",
   "execution_count": 278,
   "metadata": {},
   "outputs": [
    {
     "ename": "AttributeError",
     "evalue": "'int' object has no attribute 'count'",
     "output_type": "error",
     "traceback": [
      "\u001b[1;31m---------------------------------------------------------------------------\u001b[0m",
      "\u001b[1;31mAttributeError\u001b[0m                            Traceback (most recent call last)",
      "\u001b[1;32m<ipython-input-278-28025a36d5b5>\u001b[0m in \u001b[0;36m<module>\u001b[1;34m\u001b[0m\n\u001b[0;32m      5\u001b[0m \u001b[0mbicho\u001b[0m \u001b[1;33m=\u001b[0m \u001b[0mBirds\u001b[0m\u001b[1;33m(\u001b[0m\u001b[1;33m)\u001b[0m\u001b[1;33m\u001b[0m\u001b[1;33m\u001b[0m\u001b[0m\n\u001b[0;32m      6\u001b[0m \u001b[0mbicho\u001b[0m\u001b[1;33m.\u001b[0m\u001b[0mnumber\u001b[0m \u001b[1;33m=\u001b[0m \u001b[1;36m5\u001b[0m\u001b[1;33m\u001b[0m\u001b[1;33m\u001b[0m\u001b[0m\n\u001b[1;32m----> 7\u001b[1;33m \u001b[0mbicho\u001b[0m\u001b[1;33m.\u001b[0m\u001b[0mnumber\u001b[0m\u001b[1;33m.\u001b[0m\u001b[0mcount\u001b[0m\u001b[1;33m(\u001b[0m\u001b[1;33m)\u001b[0m\u001b[1;33m\u001b[0m\u001b[1;33m\u001b[0m\u001b[0m\n\u001b[0m",
      "\u001b[1;31mAttributeError\u001b[0m: 'int' object has no attribute 'count'"
     ]
    }
   ],
   "source": [
    "class Birds():\n",
    "    number = 0\n",
    "    color = \"\"\n",
    "\n",
    "bicho = Birds()\n",
    "bicho.number = 5\n",
    "bicho.number.count()"
   ]
  },
  {
   "cell_type": "code",
   "execution_count": 274,
   "metadata": {},
   "outputs": [
    {
     "name": "stdout",
     "output_type": "stream",
     "text": [
      "Johanna has 2 apples and Martin has 2 apples\n"
     ]
    }
   ],
   "source": [
    "def exchange_apples(you, me):\n",
    "#Here, despite G.B. Shaw's quote, our characters have started with       \n",
    "#different amounts of apples so we can better observe the results. \n",
    "#We're going to have Martin and Johanna exchange ALL their apples with #one another.\n",
    "#Hint: how would you switch values of variables, \n",
    "#so that \"you\" and \"me\" will exchange ALL their apples with one another?\n",
    "#Do you need a temporary variable to store one of the values?\n",
    "#You may need more than one line of code to do that, which is OK. \n",
    "\n",
    "#     new_apple = you.apples\n",
    "#     me.apples = new_apple\n",
    "#     you_apples = me.apples\n",
    "    me.apples, you.apples = you.apples, me.apples\n",
    "    \n",
    "\n",
    "    return you.apples, me.apples\n",
    "\n",
    "exchange_apples(johanna, martin)\n",
    "print(\"Johanna has {} apples and Martin has {} apples\".format(johanna.apples, martin.apples))\n",
    "\n",
    "def exchange_ideas(you, me):\n",
    "  #\"you\" and \"me\" will share our ideas with one another\n",
    "  you.ideas += me.ideas\n",
    "  me.ideas = you.ideas\n",
    "  return you.ideas, me.ideas"
   ]
  },
  {
   "cell_type": "code",
   "execution_count": 266,
   "metadata": {
    "scrolled": true
   },
   "outputs": [
    {
     "data": {
      "text/plain": [
       "2"
      ]
     },
     "execution_count": 266,
     "metadata": {},
     "output_type": "execute_result"
    }
   ],
   "source": [
    "equis = martin.apples\n",
    "equis"
   ]
  },
  {
   "cell_type": "code",
   "execution_count": 281,
   "metadata": {},
   "outputs": [
    {
     "name": "stdout",
     "output_type": "stream",
     "text": [
      "Cusco, Peru\n",
      "Sofia, Bulgaria\n",
      "\n"
     ]
    }
   ],
   "source": [
    "# define a basic city class\n",
    "class City:\n",
    "\tname = \"\"\n",
    "\tcountry = \"\"\n",
    "\televation = 0 \n",
    "\tpopulation = 0\n",
    "# create a new instance of the City class and\n",
    "# define each attribute\n",
    "city1 = City()\n",
    "city1.name = \"Cusco\"\n",
    "city1.country = \"Peru\"\n",
    "city1.elevation = 3399\n",
    "city1.population = 358052\n",
    "\n",
    "# create a new instance of the City class and\n",
    "# define each attribute\n",
    "city2 = City()\n",
    "city2.name = \"Sofia\"\n",
    "city2.country = \"Bulgaria\"\n",
    "city2.elevation = 2290\n",
    "city2.population = 1241675\n",
    "\n",
    "# create a new instance of the City class and\n",
    "# define each attribute\n",
    "city3 = City()\n",
    "city3.name = \"Seoul\"\n",
    "city3.country = \"South Korea\"\n",
    "city3.elevation = 38\n",
    "city3.population = 9733509\n",
    "\n",
    "def max_elevation_city(min_population):\n",
    "  \n",
    "\t# Initialize the variable that will hold \n",
    "# the information of the city with \n",
    "# the highest elevation \n",
    "\treturn_city = City()\n",
    "\n",
    "\t# Evaluate the 1st instance to meet the requirements:\n",
    "\t# does city #1 have at least min_population and\n",
    "\t# is its elevation the highest evaluated so far?\n",
    "\tif city1.population >= min_population and city1.elevation>return_city.elevation:\n",
    "    \n",
    "\t\treturn_city = city1\n",
    "\t# Evaluate the 2nd instance to meet the requirements:\n",
    "\t# does city #2 have at least min_population and\n",
    "\t# is its elevation the highest evaluated so far?\n",
    "\tif city2.population >= min_population and city2.elevation > return_city.elevation:\n",
    "\t\treturn_city = city2\n",
    "\t# Evaluate the 3rd instance to meet the requirements:\n",
    "\t# does city #3 have at least min_population and\n",
    "\t# is its elevation the highest evaluated so far?\n",
    "\tif city3.population >= min_population and city3.elevation > return_city.elevation:\n",
    "\t\treturn_city = city3\n",
    "\n",
    "\t#Format the return string\n",
    "\tif return_city.name:\n",
    "\t\treturn  (\"{}, {}\".format(return_city.name, return_city.country))\n",
    "\telse:\n",
    "\t\treturn \"\"\n",
    "\n",
    "print(max_elevation_city(100000)) # Should print \"Cusco, Peru\"\n",
    "print(max_elevation_city(1000000)) # Should print \"Sofia, Bulgaria\"\n",
    "print(max_elevation_city(10000000)) # Should print \"\"Thanks,"
   ]
  },
  {
   "cell_type": "code",
   "execution_count": null,
   "metadata": {},
   "outputs": [],
   "source": [
    "def max_elevation_city(min_population):\n",
    "  \n",
    "\t# Initialize the variable that will hold \n",
    "# the information of the city with \n",
    "# the highest elevation \n",
    "\treturn_city = City()\n",
    "\n",
    "\t# Evaluate the 1st instance to meet the requirements:\n",
    "\t# does city #1 have at least min_population and\n",
    "\t# is its elevation the highest evaluated so far?\n",
    "\tif city1.population >= min_population and city1.elevation>return_city.elevation:\n",
    "    \n",
    "\t\treturn_city = city1\n",
    "\t# Evaluate the 2nd instance to meet the requirements:\n",
    "\t# does city #2 have at least min_population and\n",
    "\t# is its elevation the highest evaluated so far?\n",
    "\tif city2.population >= min_population and city2.elevation > return_city.elevation:\n",
    "\t\treturn_city = city2\n",
    "\t# Evaluate the 3rd instance to meet the requirements:\n",
    "\t# does city #3 have at least min_population and\n",
    "\t# is its elevation the highest evaluated so far?\n",
    "\tif city3.population >= min_population and city3.elevation > return_city.elevation:\n",
    "\t\treturn_city = city3\n",
    "\n",
    "\t#Format the return string\n",
    "\tif return_city.name:\n",
    "\t\treturn  (\"{}, {}\".format(return_city.name, return_city.country))\n",
    "\telse:\n",
    "\t\treturn \"\"\n",
    "\n",
    "print(max_elevation_city(100000)) # Should print \"Cusco, Peru\"\n",
    "print(max_elevation_city(1000000)) # Should print \"Sofia, Bulgaria\"\n",
    "print(max_elevation_city(10000000)) # Should print \"\""
   ]
  },
  {
   "cell_type": "markdown",
   "metadata": {},
   "source": [
    "Every event is an instace of the Event Class. An event class contains the date when the event happened, the name of the machine where it happened, the user involved, and the event type.\n",
    "\n",
    "Attributes:\n",
    "- Date\n",
    "- User\n",
    "- Machine\n",
    "- Type\n",
    "\n",
    "Events:\n",
    "- login\n",
    "- Logout"
   ]
  },
  {
   "cell_type": "markdown",
   "metadata": {},
   "source": [
    "We need to process a list of Event objects using their attributes to generate a report that lists all users currently logged in to the machines."
   ]
  }
 ],
 "metadata": {
  "kernelspec": {
   "display_name": "Python 3",
   "language": "python",
   "name": "python3"
  },
  "language_info": {
   "codemirror_mode": {
    "name": "ipython",
    "version": 3
   },
   "file_extension": ".py",
   "mimetype": "text/x-python",
   "name": "python",
   "nbconvert_exporter": "python",
   "pygments_lexer": "ipython3",
   "version": "3.8.5"
  }
 },
 "nbformat": 4,
 "nbformat_minor": 2
}
