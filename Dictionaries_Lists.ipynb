{
 "cells": [
  {
   "cell_type": "markdown",
   "id": "cc95d358",
   "metadata": {},
   "source": [
    "### Dictionaries"
   ]
  },
  {
   "cell_type": "code",
   "execution_count": 2,
   "id": "fc333af6",
   "metadata": {},
   "outputs": [
    {
     "data": {
      "text/plain": [
       "1"
      ]
     },
     "execution_count": 2,
     "metadata": {},
     "output_type": "execute_result"
    }
   ],
   "source": [
    "pop = [30.55, 2.77,39.21]\n",
    "countries = [\"Afghanistan\", \"Albania\", \"algeria\"]\n",
    "\n",
    "index_albania = countries.index('Albania')\n",
    "index_albania"
   ]
  },
  {
   "cell_type": "code",
   "execution_count": 4,
   "id": "1821f8ab",
   "metadata": {},
   "outputs": [
    {
     "data": {
      "text/plain": [
       "2.77"
      ]
     },
     "execution_count": 4,
     "metadata": {},
     "output_type": "execute_result"
    }
   ],
   "source": [
    "pop[index_albania]"
   ]
  },
  {
   "cell_type": "code",
   "execution_count": 5,
   "id": "c6f9bc54",
   "metadata": {},
   "outputs": [
    {
     "data": {
      "text/plain": [
       "2.77"
      ]
     },
     "execution_count": 5,
     "metadata": {},
     "output_type": "execute_result"
    }
   ],
   "source": [
    "# key value pairs\n",
    "dict1 = {\"Afghanistan\": 30.55, \"Albania\":2.77, \"Algeria\":39.21}\n",
    "dict1[\"Albania\"]"
   ]
  },
  {
   "cell_type": "markdown",
   "id": "2ea89566",
   "metadata": {},
   "source": [
    "### Lists"
   ]
  },
  {
   "cell_type": "markdown",
   "id": "61fda5a4",
   "metadata": {},
   "source": [
    "- any type even lists. List of lists.\n",
    "- compound data type"
   ]
  },
  {
   "cell_type": "code",
   "execution_count": null,
   "id": "5d59e9f9",
   "metadata": {},
   "outputs": [],
   "source": []
  }
 ],
 "metadata": {
  "kernelspec": {
   "display_name": "Python 3 (ipykernel)",
   "language": "python",
   "name": "python3"
  },
  "language_info": {
   "codemirror_mode": {
    "name": "ipython",
    "version": 3
   },
   "file_extension": ".py",
   "mimetype": "text/x-python",
   "name": "python",
   "nbconvert_exporter": "python",
   "pygments_lexer": "ipython3",
   "version": "3.8.2"
  }
 },
 "nbformat": 4,
 "nbformat_minor": 5
}
