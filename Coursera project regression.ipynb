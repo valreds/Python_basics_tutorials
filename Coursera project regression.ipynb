{
 "cells": [
  {
   "cell_type": "code",
   "execution_count": 1,
   "id": "ba183645",
   "metadata": {},
   "outputs": [],
   "source": [
    "# import seaborn as sns\n",
    "import matplotlib.pyplot as plt\n",
    "plt.style.use('ggplot')\n",
    "%matplotlib inline\n",
    "from pylab import rcParams\n",
    "rcParams['figure.figsize']=12,8"
   ]
  },
  {
   "cell_type": "code",
   "execution_count": 2,
   "id": "84d612c6",
   "metadata": {},
   "outputs": [
    {
     "ename": "NameError",
     "evalue": "name 'data' is not defined",
     "output_type": "error",
     "traceback": [
      "\u001b[1;31m---------------------------------------------------------------------------\u001b[0m",
      "\u001b[1;31mNameError\u001b[0m                                 Traceback (most recent call last)",
      "\u001b[1;32m~\\AppData\\Local\\Temp/ipykernel_19320/3455920932.py\u001b[0m in \u001b[0;36m<module>\u001b[1;34m\u001b[0m\n\u001b[0;32m      1\u001b[0m \u001b[1;31m# extract values from df\u001b[0m\u001b[1;33m\u001b[0m\u001b[1;33m\u001b[0m\u001b[1;33m\u001b[0m\u001b[0m\n\u001b[1;32m----> 2\u001b[1;33m \u001b[0mscores\u001b[0m \u001b[1;33m=\u001b[0m \u001b[0mdata\u001b[0m\u001b[1;33m[\u001b[0m\u001b[1;33m[\u001b[0m\u001b[1;34m'column_name'\u001b[0m\u001b[1;33m,\u001b[0m \u001b[1;34m'Column_name2'\u001b[0m\u001b[1;33m]\u001b[0m\u001b[1;33m]\u001b[0m\u001b[1;33m.\u001b[0m\u001b[0mvalues\u001b[0m\u001b[1;33m\u001b[0m\u001b[1;33m\u001b[0m\u001b[0m\n\u001b[0m\u001b[0;32m      3\u001b[0m \u001b[0mresults\u001b[0m \u001b[1;33m=\u001b[0m \u001b[0mdata\u001b[0m\u001b[1;33m[\u001b[0m\u001b[1;33m[\u001b[0m\u001b[1;34m'results0'\u001b[0m\u001b[1;33m]\u001b[0m\u001b[1;33m]\u001b[0m\u001b[1;33m.\u001b[0m\u001b[0mvalues\u001b[0m\u001b[1;33m\u001b[0m\u001b[1;33m\u001b[0m\u001b[0m\n",
      "\u001b[1;31mNameError\u001b[0m: name 'data' is not defined"
     ]
    }
   ],
   "source": [
    "# extract values from df\n",
    "scores = data[['column_name', 'Column_name2']].values\n",
    "results = data[['results']].values"
   ]
  },
  {
   "cell_type": "code",
   "execution_count": null,
   "id": "b5521c05",
   "metadata": {},
   "outputs": [],
   "source": [
    "#plot\n",
    "passed = (results == 1).reshape(100,1)\n",
    "failed = (results == 0).reshape(100,1)\n",
    "\n",
    "ax = sns.scatterplot(x = scores[passed[:, 0], 0],\n",
    "                     y = scores[passed[:, 0], 0],\n",
    "                     marker = \"^\",\n",
    "                     color = \"green\",\n",
    "                     s=60)\n",
    "    sns.scatterplot(x = scores[failed[:, 0], 0],\n",
    "                         y = scores[failed[:, 0], 0],\n",
    "                         marker = \"x\",\n",
    "                         color = \"red\",\n",
    "                         s=60)\n",
    "    ax.set(xlabel ='test 1', ylabel='test 2')\n",
    "    ax.legend(['passed', 'failed'])\n",
    "    plt.show()\n",
    "\n"
   ]
  },
  {
   "cell_type": "markdown",
   "id": "bd52cb27",
   "metadata": {},
   "source": [
    "The sigmoid formula:\n",
    "- a data point x has 50% of being of a class and 50% of being in another class"
   ]
  },
  {
   "cell_type": "markdown",
   "id": "75e7cf34",
   "metadata": {},
   "source": [
    "the sigmoid formula is :\n",
    "$$ \\sigma(z) = \\frac{1}{1+e^{-z}}$$\n"
   ]
  },
  {
   "cell_type": "code",
   "execution_count": null,
   "id": "2d08aa5e",
   "metadata": {},
   "outputs": [],
   "source": [
    "#a data point x has 50% of being of a class and 50% of being in another class\n",
    "def sigmoid(x):\n",
    "    return 1 / (1 + np.exp(-x))"
   ]
  },
  {
   "cell_type": "markdown",
   "id": "c74233a8",
   "metadata": {},
   "source": [
    "The objective of logistic regression is to minimize the cost function\n",
    "\n",
    "$$J(\\theta) = -\\frac{1}{m} \\sum_{i=1}^{m} [ y^{(i)}log(h_{\\theta}(x^{(i)})) + (1 - y^{(i)})log(1 - (h_{\\theta}(x^{(i)}))]$$\n",
    "\n",
    "where the gradient of the cost function is given by\n",
    "\n",
    "$$ \\frac{\\partial J(\\theta)}{\\partial \\theta_j} = \\frac{1}{m} \\sum_{i=1}^{m} (h_{\\theta}(x^{(i)}) - y^{(i)})x_j^{(i)}$$"
   ]
  },
  {
   "cell_type": "code",
   "execution_count": null,
   "id": "3fda955a",
   "metadata": {},
   "outputs": [],
   "source": [
    "def compute_cost(theta, x, y):\n",
    "    m = len(y)\n",
    "    y_pred = logistic_function(np.dot(x, theta))\n",
    "    error = (y * np.log(y_pred)) + (1 - y) * np.log(1 - y_pred)\n",
    "    cost = -1 / m * sum(error)\n",
    "    gradient = 1/m * np.dot(x.transpose(), (y_pred - y))\n",
    "    return cost[0], gradient"
   ]
  },
  {
   "cell_type": "code",
   "execution_count": null,
   "id": "b07d0327",
   "metadata": {},
   "outputs": [],
   "source": [
    "#tast 6: cost and gradient at initialization\n",
    "#standardize values\n",
    "mean_scores = np.mean(scores, axis=0)\n",
    "std_scores = np.std(scores, axis=0)\n",
    "scores = (scores - mean_scores) / std_scores\n",
    "\n",
    "#define rows and cols\n",
    "rows = scores.shape[0]\n",
    "cols = scores.shape[1]\n",
    "\n",
    "X = np.append(np.ones((rows, 1)), scores, axis=1)\n",
    "y = results.reshape(rows, 1)\n",
    "\n",
    "theta_init = np.zeros((cols+1 , 1))\n",
    "cost, gradient = compute_cost(theta_init, X, y)\n",
    "\n",
    "print(\"cost at initialization\", cost)\n",
    "print(\"Gradients at initialization\", gradient)"
   ]
  },
  {
   "cell_type": "markdown",
   "id": "3f2e844f",
   "metadata": {},
   "source": [
    "\n",
    "### GRadient Descent\n",
    "\n",
    "Minimize the cost function $J(\\theta)$ by updating the below equation and repeat until covergence\n",
    "\n",
    "$\\theta_j := \\theta_j - \\alpha \\frac{\\partial J(\\theta)}{\\partial \\theta_j}$ (simultaneously update $\\theta_j$ for all $j$)"
   ]
  },
  {
   "cell_type": "code",
   "execution_count": null,
   "id": "7d7087d9",
   "metadata": {},
   "outputs": [],
   "source": [
    "#create function for gradient descent. Alpha is the learning rate\n",
    "def gradient_descent(x, y, theta, alpha, iterations):\n",
    "    costs = []\n",
    "    for i in range(iterations):\n",
    "        cost, gradient = compute_cost(theta, x, y)\n",
    "        theta -= (alpha * gradient)\n",
    "        costs.append(cost)\n",
    "    return theta, costs"
   ]
  }
 ],
 "metadata": {
  "kernelspec": {
   "display_name": "Python 3 (ipykernel)",
   "language": "python",
   "name": "python3"
  },
  "language_info": {
   "codemirror_mode": {
    "name": "ipython",
    "version": 3
   },
   "file_extension": ".py",
   "mimetype": "text/x-python",
   "name": "python",
   "nbconvert_exporter": "python",
   "pygments_lexer": "ipython3",
   "version": "3.8.2"
  }
 },
 "nbformat": 4,
 "nbformat_minor": 5
}
