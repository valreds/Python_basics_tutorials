{
 "cells": [
  {
   "cell_type": "markdown",
   "id": "443a44b2",
   "metadata": {},
   "source": [
    "https://www.dataquest.io/blog/python-datetime-tutorial/\n",
    "\n",
    "https://www.w3schools.com/python/python_datetime.asp"
   ]
  },
  {
   "cell_type": "code",
   "execution_count": 1,
   "id": "e6319a9a",
   "metadata": {},
   "outputs": [],
   "source": [
    "from datetime import datetime, timedelta"
   ]
  },
  {
   "cell_type": "code",
   "execution_count": 2,
   "id": "b8ccbd60",
   "metadata": {},
   "outputs": [
    {
     "name": "stdout",
     "output_type": "stream",
     "text": [
      "2024-03-20 11:18:52.877175\n",
      "Type : - <class 'datetime.datetime'>\n"
     ]
    }
   ],
   "source": [
    "#get current date\n",
    "datetime_object = datetime.now()\n",
    "print(datetime_object)\n",
    "print('Type : -', type(datetime_object))"
   ]
  },
  {
   "cell_type": "markdown",
   "id": "c31d8d91",
   "metadata": {},
   "source": [
    "Using \n",
    "- strptime(): reads strings with date and time info and convert them to datetime objects\n",
    "- strftime(): converts datetime objects into strings"
   ]
  },
  {
   "cell_type": "code",
   "execution_count": 3,
   "id": "46bb6132",
   "metadata": {},
   "outputs": [
    {
     "name": "stdout",
     "output_type": "stream",
     "text": [
      "2023-05-05 00:00:00\n",
      "Type:  <class 'datetime.datetime'>\n",
      "Month: 5 and Year: 2023\n"
     ]
    }
   ],
   "source": [
    "#extracting elements from a datetime object with strptime() and strftime()\n",
    "string1 = '2023-05-05'\n",
    "#create date object with format yyyy-mm-dd\n",
    "date1 = datetime.strptime(string1, \"%Y-%m-%d\")\n",
    "print(date1)\n",
    "print('Type: ', type(date1))\n",
    "print('Month: {} and Year: {}'.format(date1.month, date1.year) )"
   ]
  },
  {
   "cell_type": "code",
   "execution_count": 5,
   "id": "6d1d86b3",
   "metadata": {
    "scrolled": true
   },
   "outputs": [
    {
     "name": "stdout",
     "output_type": "stream",
     "text": [
      "4\n",
      "Friday\n"
     ]
    }
   ],
   "source": [
    "#extracting day of the month and day of the week\n",
    "import calendar\n",
    "# print(date1.day())\n",
    "print(date1.weekday())\n",
    "print(calendar.day_name[date1.weekday()])"
   ]
  },
  {
   "cell_type": "code",
   "execution_count": 6,
   "id": "5313b6be",
   "metadata": {
    "scrolled": true
   },
   "outputs": [
    {
     "name": "stdout",
     "output_type": "stream",
     "text": [
      "1 - Monday\n",
      "2 - Tuesday\n",
      "3 - Wednesday\n",
      "4 - Thursday\n",
      "5 - Friday\n",
      "6 - Saturday\n",
      "7 - Sunday\n"
     ]
    }
   ],
   "source": [
    "j  = 1\n",
    "for i in calendar.day_name:\n",
    "    print(j, '-', i)\n",
    "    j+=1"
   ]
  },
  {
   "cell_type": "code",
   "execution_count": 7,
   "id": "fac3f8e9",
   "metadata": {},
   "outputs": [
    {
     "data": {
      "text/plain": [
       "'23/04/05'"
      ]
     },
     "execution_count": 7,
     "metadata": {},
     "output_type": "execute_result"
    }
   ],
   "source": [
    "#can we go back a week using a date?\n",
    "week1 = datetime(date1.year, date1.month-1, date1.day).strftime(\"%y/%m/%d\")\n",
    "week1"
   ]
  },
  {
   "cell_type": "code",
   "execution_count": 32,
   "id": "6e5d3354",
   "metadata": {},
   "outputs": [
    {
     "name": "stdout",
     "output_type": "stream",
     "text": [
      "2023-11-09 15:14:53.171258\n",
      "Hour:  15\n",
      "Minute:  14\n"
     ]
    }
   ],
   "source": [
    "today1 = datetime.now()\n",
    "print(today1)\n",
    "print('Hour: ', today1.hour)\n",
    "print('Minute: ', today1.minute)"
   ]
  },
  {
   "cell_type": "markdown",
   "id": "77ffc722",
   "metadata": {},
   "source": [
    "### Convert date object to Unix Timestamp and viceversa"
   ]
  },
  {
   "cell_type": "code",
   "execution_count": 43,
   "id": "2b204cb5",
   "metadata": {},
   "outputs": [
    {
     "name": "stdout",
     "output_type": "stream",
     "text": [
      "2023-11-09 15:44:12.100741\n",
      "1699566252.101522\n"
     ]
    }
   ],
   "source": [
    "today2 = datetime.now()\n",
    "print(today2)\n",
    "#convert current date into timestamp\n",
    "today_timestamp = datetime.timestamp(datetime.now())\n",
    "print(today_timestamp)"
   ]
  },
  {
   "cell_type": "code",
   "execution_count": 45,
   "id": "03fdccf6",
   "metadata": {},
   "outputs": [
    {
     "name": "stdout",
     "output_type": "stream",
     "text": [
      "2023-11-09 15:44:12.101522\n"
     ]
    }
   ],
   "source": [
    "timestamp = 1699566252.101522\n",
    "#convert timestamp to datetime object\n",
    "\n",
    "dt_timestamp = datetime.fromtimestamp(timestamp)\n",
    "print(dt_timestamp)"
   ]
  },
  {
   "cell_type": "markdown",
   "id": "23bf6611",
   "metadata": {},
   "source": [
    "### ISO calendar"
   ]
  },
  {
   "cell_type": "code",
   "execution_count": 35,
   "id": "e79b2a77",
   "metadata": {},
   "outputs": [
    {
     "name": "stdout",
     "output_type": "stream",
     "text": [
      "(2023, 18, 5)\n"
     ]
    },
    {
     "data": {
      "text/plain": [
       "18"
      ]
     },
     "execution_count": 35,
     "metadata": {},
     "output_type": "execute_result"
    }
   ],
   "source": [
    "# Returns a 3-tuple (ISO year, ISO week number, ISO weekday)\n",
    "print(date1.isocalendar())\n",
    "#extracting week number\n",
    "date1.isocalendar()[1]"
   ]
  },
  {
   "cell_type": "markdown",
   "id": "975d4607",
   "metadata": {},
   "source": [
    "In the ISO calendar, the week starts counting from 1, so 5 is Friday. 18 is the number of the week."
   ]
  },
  {
   "cell_type": "code",
   "execution_count": 37,
   "id": "32474b99",
   "metadata": {
    "scrolled": true
   },
   "outputs": [
    {
     "data": {
      "text/plain": [
       "17"
      ]
     },
     "execution_count": 37,
     "metadata": {},
     "output_type": "execute_result"
    }
   ],
   "source": [
    "date1.isocalendar()[1]-1"
   ]
  },
  {
   "cell_type": "markdown",
   "id": "da5aef3f",
   "metadata": {},
   "source": [
    "### Timedelta to find time spans using future or past days, weeks, years."
   ]
  },
  {
   "cell_type": "code",
   "execution_count": null,
   "id": "736e74da",
   "metadata": {},
   "outputs": [],
   "source": [
    "#getting week of the year\n",
    "# import pendulum\n",
    " \n",
    "# dt = pendulum.parse('2015-05-18')\n",
    "# print(dt.week_of_year)\n",
    " \n",
    "# dt = pendulum.parse('2019-12-01')\n",
    "# print(dt.week_of_year)\n",
    " \n",
    "# dt = pendulum.parse('2018-01-21')\n",
    "# print(dt.week_of_year)"
   ]
  },
  {
   "cell_type": "code",
   "execution_count": 39,
   "id": "f86c6b38",
   "metadata": {},
   "outputs": [
    {
     "name": "stdout",
     "output_type": "stream",
     "text": [
      "14 days, 0:00:00\n"
     ]
    }
   ],
   "source": [
    "date_delta = timedelta(weeks=2)\n",
    "print(date_delta)"
   ]
  },
  {
   "cell_type": "code",
   "execution_count": 41,
   "id": "87b165af",
   "metadata": {},
   "outputs": [
    {
     "name": "stdout",
     "output_type": "stream",
     "text": [
      "date : 2023-11-09 15:38:53.030798\n",
      "in 15 days is this date:  2023-11-24 15:38:53.030798\n",
      "2023-11-02 15:38:53.030798\n"
     ]
    }
   ],
   "source": [
    "today2 = datetime.now()\n",
    "print(\"date :\", today2)\n",
    " #add 15 days to today2\n",
    "future_date = today2 + timedelta(days = 15)\n",
    "print(\"in 15 days is this date: \", future_date)\n",
    "#substract a week from todays date\n",
    "past_date = today2 - timedelta(weeks = 1)\n",
    "print(past_date)"
   ]
  },
  {
   "cell_type": "code",
   "execution_count": 48,
   "id": "3c78733d",
   "metadata": {},
   "outputs": [
    {
     "data": {
      "text/plain": [
       "datetime.datetime(2023, 11, 8, 15, 50, 12, 381572)"
      ]
     },
     "execution_count": 48,
     "metadata": {},
     "output_type": "execute_result"
    }
   ],
   "source": [
    "one_yr_past = datetime.now()- timedelta(days = 1)\n",
    "one_yr_past"
   ]
  },
  {
   "cell_type": "markdown",
   "id": "1fd7c45e",
   "metadata": {},
   "source": [
    "### Find time difference between dates"
   ]
  },
  {
   "cell_type": "code",
   "execution_count": 50,
   "id": "37b5efce",
   "metadata": {},
   "outputs": [
    {
     "name": "stdout",
     "output_type": "stream",
     "text": [
      "2023-05-05 00:00:00 2022-12-30 00:00:00\n"
     ]
    },
    {
     "data": {
      "text/plain": [
       "datetime.timedelta(days=-126)"
      ]
     },
     "execution_count": 50,
     "metadata": {},
     "output_type": "execute_result"
    }
   ],
   "source": [
    "date1\n",
    "date2 = date1 - timedelta(weeks=18)\n",
    "print(date1, date2)\n",
    "difference_dates = date2-date1\n",
    "difference_dates"
   ]
  },
  {
   "cell_type": "markdown",
   "id": "42d0c29c",
   "metadata": {},
   "source": [
    "### Formatting strings to datetime and viceversa\n",
    "Check this site for formatting settings: 'https://strftime.org/'\n",
    "\n",
    "- strptime(): converts string into date time.\n",
    "Takes two arguments, string (the string we want to change to date) and format (the format of the current string)."
   ]
  },
  {
   "cell_type": "code",
   "execution_count": 52,
   "id": "4203b9bb",
   "metadata": {},
   "outputs": [
    {
     "data": {
      "text/plain": [
       "datetime.datetime(1984, 2, 28, 0, 0)"
      ]
     },
     "execution_count": 52,
     "metadata": {},
     "output_type": "execute_result"
    }
   ],
   "source": [
    "date_string = '28 February, 1984'\n",
    "\n",
    "#format date\n",
    "string_to_date = datetime.strptime(date_string, '%d %B, %Y')\n",
    "string_to_date"
   ]
  },
  {
   "cell_type": "code",
   "execution_count": 57,
   "id": "c10138ac",
   "metadata": {},
   "outputs": [
    {
     "name": "stdout",
     "output_type": "stream",
     "text": [
      "2020-03-12 16:45:26\n",
      "2020-12-03 16:45:26\n",
      "Unix Timestamp:  1607035526.0\n",
      "output 1: Thu Dec  3 16:45:26 2020\n",
      "output 2: 12/03/20\n",
      "output 3: 16:45:26\n"
     ]
    }
   ],
   "source": [
    "#create a new datetime in string format\n",
    "date_string1 = \"12-03-2020 16:45:26\"\n",
    "#remember that format is the format of the string not the format of the output after strptime\n",
    "#considering day month year\n",
    "dt_object1 = datetime.strptime(date_string1, \"%d-%m-%Y %H:%M:%S\")\n",
    "print(dt_object1)\n",
    "#considering month day year\n",
    "dt_object2 = datetime.strptime(date_string1, \"%m-%d-%Y %H:%M:%S\")\n",
    "print(dt_object2)\n",
    "\n",
    "#convert dt_object2 to timestamp\n",
    "timestamp2 = datetime.timestamp(dt_object2)\n",
    "print('Unix Timestamp: ', timestamp2)\n",
    "\n",
    "#convert back to datetime\n",
    "timestamp_to_date = datetime.fromtimestamp(timestamp2)\n",
    "d = timestamp_to_date.strftime('%c')\n",
    "print('output 1:', d)\n",
    "d = timestamp_to_date.strftime('%x')\n",
    "print('output 2:', d)\n",
    "d = timestamp_to_date.strftime('%X')\n",
    "print('output 3:', d)"
   ]
  },
  {
   "cell_type": "code",
   "execution_count": 58,
   "id": "f966cc74",
   "metadata": {},
   "outputs": [
    {
     "name": "stdout",
     "output_type": "stream",
     "text": [
      "Year: 2023\n",
      "Month; 11\n",
      "Day: 09\n",
      "Time: 16:12:24\n",
      "Date and Time: 11/09/2023, 16:12:24\n"
     ]
    }
   ],
   "source": [
    "# current date and time\n",
    "now = datetime.now()\n",
    "\n",
    "# get year from date\n",
    "year = now.strftime(\"%Y\")\n",
    "print(\"Year:\", year)\n",
    "\n",
    "# get month from date\n",
    "month = now.strftime(\"%m\")\n",
    "print(\"Month;\", month)\n",
    "\n",
    "# get day from date\n",
    "day = now.strftime(\"%d\")\n",
    "print(\"Day:\", day)\n",
    "\n",
    "# format time in HH:MM:SS\n",
    "time = now.strftime(\"%H:%M:%S\")\n",
    "print(\"Time:\", time)\n",
    "\n",
    "# format date\n",
    "date_time = now.strftime(\"%m/%d/%Y, %H:%M:%S\")\n",
    "print(\"Date and Time:\",date_time)"
   ]
  },
  {
   "cell_type": "markdown",
   "id": "b54f6a07",
   "metadata": {},
   "source": [
    "### Time zones"
   ]
  },
  {
   "cell_type": "code",
   "execution_count": 59,
   "id": "624f0ebf",
   "metadata": {},
   "outputs": [
    {
     "name": "stdout",
     "output_type": "stream",
     "text": [
      "2011-11-02 07:27:00-04:00\n",
      "2011-11-02 16:57:00+05:30\n",
      "2011-11-02 22:27:00+11:00\n"
     ]
    }
   ],
   "source": [
    "# import timezone from pytz module\n",
    "from pytz import timezone\n",
    "# Create timezone US/Eastern\n",
    "east = timezone('US/Eastern')\n",
    "# Localize date\n",
    "loc_dt = east.localize(datetime(2011, 11, 2, 7, 27, 0))\n",
    "print(loc_dt)\n",
    "\n",
    "# Convert localized date into Asia/Kolkata timezone\n",
    "kolkata = timezone(\"Asia/Kolkata\")\n",
    "print(loc_dt.astimezone(kolkata))\n",
    "\n",
    "# Convert localized date into Australia/Sydney timezone\n",
    "au_tz = timezone('Australia/Sydney')\n",
    "print(loc_dt.astimezone(au_tz))"
   ]
  },
  {
   "cell_type": "markdown",
   "id": "4307b27c",
   "metadata": {},
   "source": [
    "## Time in pandas"
   ]
  },
  {
   "cell_type": "code",
   "execution_count": 63,
   "id": "acf64a17",
   "metadata": {},
   "outputs": [],
   "source": [
    "import pandas as pd\n",
    "import numpy as np"
   ]
  },
  {
   "cell_type": "code",
   "execution_count": 61,
   "id": "f2fd055c",
   "metadata": {
    "scrolled": true
   },
   "outputs": [
    {
     "name": "stdout",
     "output_type": "stream",
     "text": [
      "2019-06-10 00:00:00\n"
     ]
    }
   ],
   "source": [
    "date = pd.to_datetime('10th of Jun, 2019')\n",
    "print(date)"
   ]
  },
  {
   "cell_type": "code",
   "execution_count": 66,
   "id": "bd16d49e",
   "metadata": {
    "scrolled": false
   },
   "outputs": [
    {
     "name": "stdout",
     "output_type": "stream",
     "text": [
      "DatetimeIndex(['2019-06-10', '2019-06-11', '2019-06-12', '2019-06-13',\n",
      "               '2019-06-14', '2019-06-15', '2019-06-16', '2019-06-17',\n",
      "               '2019-06-18', '2019-06-19', '2019-06-20', '2019-06-21'],\n",
      "              dtype='datetime64[ns]', freq=None)\n",
      "DatetimeIndex(['2019-06-30', '2019-07-31', '2019-08-31', '2019-09-30',\n",
      "               '2019-10-31', '2019-11-30', '2019-12-31', '2020-01-31',\n",
      "               '2020-02-29', '2020-03-31', '2020-04-30', '2020-05-31'],\n",
      "              dtype='datetime64[ns]', freq='M')\n"
     ]
    }
   ],
   "source": [
    "#create date series\n",
    "date_series = date + pd.to_timedelta(np.arange(12), 'D')\n",
    "print(date_series)\n",
    "date_series1 = pd.date_range('06/10/2019', periods = 12, freq = 'M')\n",
    "print(date_series1)"
   ]
  },
  {
   "cell_type": "markdown",
   "id": "0b516e38",
   "metadata": {},
   "source": [
    "### Get weekday and day of the year"
   ]
  },
  {
   "cell_type": "code",
   "execution_count": 67,
   "id": "9a4c5991",
   "metadata": {},
   "outputs": [
    {
     "data": {
      "text/html": [
       "<div>\n",
       "<style scoped>\n",
       "    .dataframe tbody tr th:only-of-type {\n",
       "        vertical-align: middle;\n",
       "    }\n",
       "\n",
       "    .dataframe tbody tr th {\n",
       "        vertical-align: top;\n",
       "    }\n",
       "\n",
       "    .dataframe thead th {\n",
       "        text-align: right;\n",
       "    }\n",
       "</style>\n",
       "<table border=\"1\" class=\"dataframe\">\n",
       "  <thead>\n",
       "    <tr style=\"text-align: right;\">\n",
       "      <th></th>\n",
       "      <th>date</th>\n",
       "    </tr>\n",
       "  </thead>\n",
       "  <tbody>\n",
       "    <tr>\n",
       "      <th>0</th>\n",
       "      <td>2019-06-10</td>\n",
       "    </tr>\n",
       "    <tr>\n",
       "      <th>1</th>\n",
       "      <td>2019-06-11</td>\n",
       "    </tr>\n",
       "    <tr>\n",
       "      <th>2</th>\n",
       "      <td>2019-06-12</td>\n",
       "    </tr>\n",
       "    <tr>\n",
       "      <th>3</th>\n",
       "      <td>2019-06-13</td>\n",
       "    </tr>\n",
       "    <tr>\n",
       "      <th>4</th>\n",
       "      <td>2019-06-14</td>\n",
       "    </tr>\n",
       "  </tbody>\n",
       "</table>\n",
       "</div>"
      ],
      "text/plain": [
       "        date\n",
       "0 2019-06-10\n",
       "1 2019-06-11\n",
       "2 2019-06-12\n",
       "3 2019-06-13\n",
       "4 2019-06-14"
      ]
     },
     "execution_count": 67,
     "metadata": {},
     "output_type": "execute_result"
    }
   ],
   "source": [
    "df = pd.DataFrame()\n",
    "df['date'] = date_series\n",
    "df.head()"
   ]
  },
  {
   "cell_type": "code",
   "execution_count": 69,
   "id": "2c05fe45",
   "metadata": {},
   "outputs": [
    {
     "data": {
      "text/html": [
       "<div>\n",
       "<style scoped>\n",
       "    .dataframe tbody tr th:only-of-type {\n",
       "        vertical-align: middle;\n",
       "    }\n",
       "\n",
       "    .dataframe tbody tr th {\n",
       "        vertical-align: top;\n",
       "    }\n",
       "\n",
       "    .dataframe thead th {\n",
       "        text-align: right;\n",
       "    }\n",
       "</style>\n",
       "<table border=\"1\" class=\"dataframe\">\n",
       "  <thead>\n",
       "    <tr style=\"text-align: right;\">\n",
       "      <th></th>\n",
       "      <th>date</th>\n",
       "      <th>year</th>\n",
       "      <th>month</th>\n",
       "      <th>day</th>\n",
       "      <th>hour</th>\n",
       "      <th>minute</th>\n",
       "    </tr>\n",
       "  </thead>\n",
       "  <tbody>\n",
       "    <tr>\n",
       "      <th>0</th>\n",
       "      <td>2019-06-10</td>\n",
       "      <td>2019</td>\n",
       "      <td>6</td>\n",
       "      <td>10</td>\n",
       "      <td>0</td>\n",
       "      <td>0</td>\n",
       "    </tr>\n",
       "    <tr>\n",
       "      <th>1</th>\n",
       "      <td>2019-06-11</td>\n",
       "      <td>2019</td>\n",
       "      <td>6</td>\n",
       "      <td>11</td>\n",
       "      <td>0</td>\n",
       "      <td>0</td>\n",
       "    </tr>\n",
       "    <tr>\n",
       "      <th>2</th>\n",
       "      <td>2019-06-12</td>\n",
       "      <td>2019</td>\n",
       "      <td>6</td>\n",
       "      <td>12</td>\n",
       "      <td>0</td>\n",
       "      <td>0</td>\n",
       "    </tr>\n",
       "    <tr>\n",
       "      <th>3</th>\n",
       "      <td>2019-06-13</td>\n",
       "      <td>2019</td>\n",
       "      <td>6</td>\n",
       "      <td>13</td>\n",
       "      <td>0</td>\n",
       "      <td>0</td>\n",
       "    </tr>\n",
       "    <tr>\n",
       "      <th>4</th>\n",
       "      <td>2019-06-14</td>\n",
       "      <td>2019</td>\n",
       "      <td>6</td>\n",
       "      <td>14</td>\n",
       "      <td>0</td>\n",
       "      <td>0</td>\n",
       "    </tr>\n",
       "  </tbody>\n",
       "</table>\n",
       "</div>"
      ],
      "text/plain": [
       "        date  year  month  day  hour  minute\n",
       "0 2019-06-10  2019      6   10     0       0\n",
       "1 2019-06-11  2019      6   11     0       0\n",
       "2 2019-06-12  2019      6   12     0       0\n",
       "3 2019-06-13  2019      6   13     0       0\n",
       "4 2019-06-14  2019      6   14     0       0"
      ]
     },
     "execution_count": 69,
     "metadata": {},
     "output_type": "execute_result"
    }
   ],
   "source": [
    "df['year'] = df['date'].dt.year\n",
    "df['month'] = df['date'].dt.month\n",
    "df['day']= df['date'].dt.day\n",
    "df['hour'] = df['date'].dt.hour\n",
    "df['minute'] = df['date'].dt.minute\n",
    "df.head()"
   ]
  },
  {
   "cell_type": "code",
   "execution_count": 79,
   "id": "e83e4b6e",
   "metadata": {},
   "outputs": [
    {
     "data": {
      "text/html": [
       "<div>\n",
       "<style scoped>\n",
       "    .dataframe tbody tr th:only-of-type {\n",
       "        vertical-align: middle;\n",
       "    }\n",
       "\n",
       "    .dataframe tbody tr th {\n",
       "        vertical-align: top;\n",
       "    }\n",
       "\n",
       "    .dataframe thead th {\n",
       "        text-align: right;\n",
       "    }\n",
       "</style>\n",
       "<table border=\"1\" class=\"dataframe\">\n",
       "  <thead>\n",
       "    <tr style=\"text-align: right;\">\n",
       "      <th></th>\n",
       "      <th>date</th>\n",
       "      <th>year</th>\n",
       "      <th>month</th>\n",
       "      <th>day</th>\n",
       "      <th>hour</th>\n",
       "      <th>minute</th>\n",
       "      <th>weekday</th>\n",
       "      <th>dayofyear</th>\n",
       "      <th>day_name</th>\n",
       "    </tr>\n",
       "  </thead>\n",
       "  <tbody>\n",
       "    <tr>\n",
       "      <th>0</th>\n",
       "      <td>2019-06-10</td>\n",
       "      <td>2019</td>\n",
       "      <td>6</td>\n",
       "      <td>10</td>\n",
       "      <td>0</td>\n",
       "      <td>0</td>\n",
       "      <td>0</td>\n",
       "      <td>161</td>\n",
       "      <td>Monday</td>\n",
       "    </tr>\n",
       "    <tr>\n",
       "      <th>1</th>\n",
       "      <td>2019-06-11</td>\n",
       "      <td>2019</td>\n",
       "      <td>6</td>\n",
       "      <td>11</td>\n",
       "      <td>0</td>\n",
       "      <td>0</td>\n",
       "      <td>1</td>\n",
       "      <td>162</td>\n",
       "      <td>Tuesday</td>\n",
       "    </tr>\n",
       "    <tr>\n",
       "      <th>2</th>\n",
       "      <td>2019-06-12</td>\n",
       "      <td>2019</td>\n",
       "      <td>6</td>\n",
       "      <td>12</td>\n",
       "      <td>0</td>\n",
       "      <td>0</td>\n",
       "      <td>2</td>\n",
       "      <td>163</td>\n",
       "      <td>Wednesday</td>\n",
       "    </tr>\n",
       "    <tr>\n",
       "      <th>3</th>\n",
       "      <td>2019-06-13</td>\n",
       "      <td>2019</td>\n",
       "      <td>6</td>\n",
       "      <td>13</td>\n",
       "      <td>0</td>\n",
       "      <td>0</td>\n",
       "      <td>3</td>\n",
       "      <td>164</td>\n",
       "      <td>Thursday</td>\n",
       "    </tr>\n",
       "    <tr>\n",
       "      <th>4</th>\n",
       "      <td>2019-06-14</td>\n",
       "      <td>2019</td>\n",
       "      <td>6</td>\n",
       "      <td>14</td>\n",
       "      <td>0</td>\n",
       "      <td>0</td>\n",
       "      <td>4</td>\n",
       "      <td>165</td>\n",
       "      <td>Friday</td>\n",
       "    </tr>\n",
       "  </tbody>\n",
       "</table>\n",
       "</div>"
      ],
      "text/plain": [
       "        date  year  month  day  hour  minute  weekday  dayofyear   day_name\n",
       "0 2019-06-10  2019      6   10     0       0        0        161     Monday\n",
       "1 2019-06-11  2019      6   11     0       0        1        162    Tuesday\n",
       "2 2019-06-12  2019      6   12     0       0        2        163  Wednesday\n",
       "3 2019-06-13  2019      6   13     0       0        3        164   Thursday\n",
       "4 2019-06-14  2019      6   14     0       0        4        165     Friday"
      ]
     },
     "execution_count": 79,
     "metadata": {},
     "output_type": "execute_result"
    }
   ],
   "source": [
    "df['weekday'] = df['date'].dt.weekday\n",
    "df['day_name'] = df['date'].dt.day_name()\n",
    "df['dayofyear'] = df['date'].dt.dayofyear\n",
    "df.head()"
   ]
  }
 ],
 "metadata": {
  "kernelspec": {
   "display_name": "Python 3 (ipykernel)",
   "language": "python",
   "name": "python3"
  },
  "language_info": {
   "codemirror_mode": {
    "name": "ipython",
    "version": 3
   },
   "file_extension": ".py",
   "mimetype": "text/x-python",
   "name": "python",
   "nbconvert_exporter": "python",
   "pygments_lexer": "ipython3",
   "version": "3.8.2"
  }
 },
 "nbformat": 4,
 "nbformat_minor": 5
}
