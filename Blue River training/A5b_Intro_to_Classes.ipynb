{
 "cells": [
  {
   "cell_type": "markdown",
   "metadata": {
    "id": "ZkNRPUjrbjmI"
   },
   "source": [
    "# **Classes practice**"
   ]
  },
  {
   "cell_type": "markdown",
   "metadata": {
    "id": "wMzdKZl8boTC"
   },
   "source": [
    "**Assignment 1**<br>\n",
    "Create classes for the following situation: \n",
    "1. Every person who enters a museum buys a ticket. Save the ticket number and time of purchase\n",
    "\n",
    "2. Everyone entering the museum chooses one of three tour groups<br>\n",
    ">- Modern\n",
    ">- Neoclassicism\n",
    ">- Ancient\n",
    "\n",
    "3. Each customer gets a free gift with their ticket purchase: \n",
    ">- Modern: book or poster\n",
    ">- Neoclassicism: postcards or pen\n",
    ">- Ancient: book or postcards\n",
    "\n",
    "Write a program that:\n",
    "1. Prints the number of people that bought tickets\n",
    "2. Prints the number of people that attended each tour\n",
    "3. Prints the number of people who selected \n",
    "- the book\n",
    "- the poster\n",
    "- the postcards\n",
    "- the pen \n",
    "\n"
   ]
  },
  {
   "cell_type": "code",
   "execution_count": 8,
   "metadata": {
    "id": "zpPExevNbdcC"
   },
   "outputs": [],
   "source": [
    "#Assignment 1\n",
    "\n",
    "class customers:\n",
    "  ticket_no = 0\n",
    "  def __init__(self, ticket, time):\n",
    "    self.ticket = ticket\n",
    "    self.time = time\n",
    "    customers.ticket_no +=1\n",
    "  def print_ticket(self):\n",
    "    print(\"Total tickets sold:\", customers.ticket_no)\n",
    "\n",
    "class exhibit_gift(customers):\n",
    "  modern = 0\n",
    "  neoclassicism = 0\n",
    "  ancient = 0\n",
    "  book = 0\n",
    "  poster = 0\n",
    "  postcards = 0\n",
    "  pen = 0\n",
    "  def __init__(self, ticket, time, group, gift):\n",
    "    super().__init__(ticket, time)\n",
    "    self.group = group\n",
    "    self.gift = gift\n",
    "    if group == 'modern':\n",
    "      exhibit_gift.modern +=1\n",
    "    elif group == 'neoclassicism':\n",
    "      exhibit_gift.neoclassicism +=1\n",
    "    else:\n",
    "      exhibit_gift.ancient +=1\n",
    "    #gifts count\n",
    "    if gift == 'book':\n",
    "      exhibit_gift.book +=1\n",
    "    if gift == 'poster':\n",
    "      exhibit_gift.poster +=1\n",
    "    if gift == 'postcards':\n",
    "      exhibit_gift.postcards +=1\n",
    "    if gift == 'pen':\n",
    "      exhibit_gift.pen +=1\n",
    "    \n",
    "  def print_exhibit(self):\n",
    "          print('total in modern exhibit:', exhibit_gift.modern, '\\n'\n",
    "            'total in neoclassicism exhibit:', exhibit_gift.neoclassicism, '\\n'\n",
    "            'total in ancient exhibit:', exhibit_gift.ancient, \"\\n\"\n",
    "            'Total books:', exhibit_gift.book, '\\n'\n",
    "            'Total postcards:', exhibit_gift.postcards, '\\n'\n",
    "            'total pens:', exhibit_gift.pen, '\\n'\n",
    "            'total posters:', exhibit_gift.poster)\n",
    "          \n",
    "# class gifts(customers):\n",
    "#   book = 0\n",
    "#   poster = 0\n",
    "#   postcards = 0\n",
    "#   pen = 0\n",
    "#   def __init__(self, ticket, time, group, gift):\n",
    "#     super().__init__(ticket, time)\n",
    "#     self.gift = gift\n",
    "#     if gift == 'book':\n",
    "#       gifts.book +=1\n",
    "#     if gift == 'poster':\n",
    "#       gifts.poster +=1\n",
    "#     if gift == 'postcards':\n",
    "#       gifts.postcards +=1\n",
    "#     if gift == 'pen':\n",
    "#       gifts.pen +=1\n",
    "#   def print_gifts(self):\n",
    "#     print('Total books:', gifts.book, '\\n'\n",
    "#           'Total postcards:', gifts.postcards, '\\n'\n",
    "#           'total pens:', gifts.pen, '\\n'\n",
    "#           'total posters:', gifts.poster\n",
    "#           )\n"
   ]
  },
  {
   "cell_type": "code",
   "execution_count": 9,
   "metadata": {
    "id": "kSdtrpQXA5LA"
   },
   "outputs": [
    {
     "name": "stdout",
     "output_type": "stream",
     "text": [
      "Total tickets sold: 5\n",
      "total in modern exhibit: 2 \n",
      "total in neoclassicism exhibit: 1 \n",
      "total in ancient exhibit: 2 \n",
      "Total books: 2 \n",
      "Total postcards: 1 \n",
      "total pens: 1 \n",
      "total posters: 1\n"
     ]
    }
   ],
   "source": [
    "customer1 = exhibit_gift('1234', '15:53', 'modern', 'book')\n",
    "customer2 = exhibit_gift('5678', '15:53', 'ancient','postcards')\n",
    "customer3 = exhibit_gift('4799', '15:53', 'neoclassicism', 'pen')\n",
    "customer4 = exhibit_gift('7410', '15:53', 'ancient', 'book')\n",
    "customer5 = exhibit_gift('6598', '15:53', 'modern', 'poster')\n",
    "\n",
    "customer1.print_ticket()\n",
    "customer5.print_exhibit()\n",
    "# customer1.print_gifts()"
   ]
  }
 ],
 "metadata": {
  "colab": {
   "name": "A5b Intro to Classes.ipynb",
   "private_outputs": true,
   "provenance": []
  },
  "kernelspec": {
   "display_name": "Python 3",
   "language": "python",
   "name": "python3"
  },
  "language_info": {
   "codemirror_mode": {
    "name": "ipython",
    "version": 3
   },
   "file_extension": ".py",
   "mimetype": "text/x-python",
   "name": "python",
   "nbconvert_exporter": "python",
   "pygments_lexer": "ipython3",
   "version": "3.8.8"
  }
 },
 "nbformat": 4,
 "nbformat_minor": 1
}
