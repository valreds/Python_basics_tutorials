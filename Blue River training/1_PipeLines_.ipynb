{
  "nbformat": 4,
  "nbformat_minor": 0,
  "metadata": {
    "colab": {
      "name": "1 PipeLines .ipynb",
      "private_outputs": true,
      "provenance": []
    },
    "kernelspec": {
      "name": "python3",
      "display_name": "Python 3"
    },
    "language_info": {
      "name": "python"
    }
  },
  "cells": [
    {
      "cell_type": "code",
      "source": [
        "# Clone the entire repo.\n",
        "!git clone -l -s https://github.com/cagBRT/Pipelines.git cloned-repo\n",
        "%cd cloned-repo\n",
        "!ls"
      ],
      "metadata": {
        "id": "OyxZuEJ8v3U7"
      },
      "execution_count": null,
      "outputs": []
    },
    {
      "cell_type": "markdown",
      "source": [
        "# **Pipelines**"
      ],
      "metadata": {
        "id": "Ev0WX2jA-sk5"
      }
    },
    {
      "cell_type": "markdown",
      "source": [
        "The purpose of the pipeline is to assemble **several steps that can be cross-validated together** while setting different parameters.<br>(HyperParameter Tuning or Optimization)"
      ],
      "metadata": {
        "id": "v-F_J9vn-p-Z"
      }
    },
    {
      "cell_type": "markdown",
      "source": [
        "A pipeline can be used to chain multiple estimators into one. <br>\n",
        "This is useful as there is often a fixed sequence of steps in processing the data, for example feature selection, normalization and classification.<br>\n",
        "\n",
        "Pipeline serves multiple purposes here:<br>\n",
        "\n",
        "- Convenience and encapsulation\n",
        "You only have to call fit and predict once on your data to fit a whole sequence of estimators.\n",
        "\n",
        "- Joint parameter selection\n",
        "You can grid search over parameters of all estimators in the pipeline at once.\n",
        "\n",
        "- Safety\n",
        "Pipelines help avoid leaking statistics from your test data into the trained model in cross-validation, by ensuring that the same samples are used to train the transformers and predictors.\n",
        "\n",
        "**All estimators in a pipeline, except the last one, must be transformers**(i.e. must have a transform method). <br>\n",
        "The last estimator may be any type (transformer, classifier, etc.).\n",
        "\n",
        "[Pipeline User Guide](https://scikit-learn.org/stable/modules/compose.html#pipeline)\n"
      ],
      "metadata": {
        "id": "PFG_BJrJ-5LO"
      }
    },
    {
      "cell_type": "markdown",
      "source": [
        "The Pipeline is built using a list of (key, value) pairs, where <br>\n",
        "- the key is a string containing the name you want to give this step and <br>\n",
        "- value is an estimator object:"
      ],
      "metadata": {
        "id": "wz46NaDz_fbU"
      }
    },
    {
      "cell_type": "code",
      "source": [
        "from sklearn.pipeline import Pipeline\n",
        "from sklearn.svm import SVC\n",
        "from sklearn.decomposition import PCA"
      ],
      "metadata": {
        "id": "Nug0eOnx_qjz"
      },
      "execution_count": null,
      "outputs": []
    },
    {
      "cell_type": "markdown",
      "source": [
        "This pipeline does Principal Component Analysis then uses a Supprt Vector Machine Model"
      ],
      "metadata": {
        "id": "HzqDj__eAFdY"
      }
    },
    {
      "cell_type": "code",
      "execution_count": null,
      "metadata": {
        "id": "AnBnQzQb-e_B"
      },
      "outputs": [],
      "source": [
        "estimators = [('reduce_dim', PCA()), ('clf', SVC())]\n",
        "pipe = Pipeline(estimators)\n",
        "pipe"
      ]
    },
    {
      "cell_type": "markdown",
      "source": [
        "The utility function make_pipeline is a shorthand for constructing pipelines;<br>\n",
        "\n",
        "it takes a variable number of estimators and returns a pipeline, filling in the names automatically:"
      ],
      "metadata": {
        "id": "tG-YvujOAPeQ"
      }
    },
    {
      "cell_type": "markdown",
      "source": [
        "Import the make_pipeline library"
      ],
      "metadata": {
        "id": "U4qPojXeAeNr"
      }
    },
    {
      "cell_type": "code",
      "source": [
        "from sklearn.pipeline import make_pipeline\n",
        "from sklearn.naive_bayes import MultinomialNB\n",
        "from sklearn.preprocessing import Binarizer"
      ],
      "metadata": {
        "id": "KlGOVPgWAPqv"
      },
      "execution_count": null,
      "outputs": []
    },
    {
      "cell_type": "markdown",
      "source": [
        "The pipeline makes the binarizer then inputs the data to the Naive Bayes model"
      ],
      "metadata": {
        "id": "RnR6-Q8NAkKK"
      }
    },
    {
      "cell_type": "markdown",
      "source": [
        "Binarize data (set feature values to 0 or 1) according to a threshold."
      ],
      "metadata": {
        "id": "n_QAGpj7BC0T"
      }
    },
    {
      "cell_type": "markdown",
      "source": [
        "\n",
        "Binarization is the process of dividing data into two groups and assigning one out. of two values to all the members of the same group. This is usually accomplished. by defining a threshold t and assigning the value 0 to all the data points below. the threshold and 1 to those above it."
      ],
      "metadata": {
        "id": "no60QKwCKZ0P"
      }
    },
    {
      "cell_type": "code",
      "source": [
        "make_pipeline(Binarizer(), MultinomialNB())"
      ],
      "metadata": {
        "id": "736wA96OAc8j"
      },
      "execution_count": null,
      "outputs": []
    },
    {
      "cell_type": "markdown",
      "source": [
        "Example of [Binarize](https://scikit-learn.org/stable/modules/generated/sklearn.preprocessing.Binarizer.html)"
      ],
      "metadata": {
        "id": "feViA2J5BGx-"
      }
    },
    {
      "cell_type": "code",
      "source": [
        "from sklearn.preprocessing import Binarizer\n",
        "X = [[ 1., -1.,  2.],\n",
        "     [ 2.,  0.,  0.],\n",
        "     [ 0.,  1., -1.]]\n",
        "transformer = Binarizer().fit(X)\n",
        "transformer\n",
        "\n",
        "transformer.transform(X)"
      ],
      "metadata": {
        "id": "YSJCE12MBI0A"
      },
      "execution_count": null,
      "outputs": []
    },
    {
      "cell_type": "markdown",
      "source": [
        "**Assignment**<br>\n",
        "Manually binarize the following data<br>\n",
        ">X=<br>\n",
        "[[1.0, 2.0, 3.0, 4.0],<br>\n",
        "   [2.0, 3.0, 4.0, 5.0]], <br>"
      ],
      "metadata": {
        "id": "HA71LKS_J9JG"
      }
    },
    {
      "cell_type": "markdown",
      "source": [
        "**Assignment**<br>\n",
        "Use the Binarize function to binarize X"
      ],
      "metadata": {
        "id": "D9H7cfl-OakQ"
      }
    },
    {
      "cell_type": "code",
      "source": [
        "X= [[1.0, 2.0, 3.0, 4.0], [2.0, 3.0, 4.0, 5.0]]\n",
        "transformer = Binarizer(threshold=3).fit(X)\n",
        "transformer\n",
        "transformer.transform(X)"
      ],
      "metadata": {
        "id": "Wk3JrkfVLUAM"
      },
      "execution_count": null,
      "outputs": []
    },
    {
      "cell_type": "markdown",
      "source": [
        "**To access steps in the pipeline**"
      ],
      "metadata": {
        "id": "JzEBQPRxBk7d"
      }
    },
    {
      "cell_type": "code",
      "source": [
        "estimators = [('reduce_dim', PCA()), ('clf', SVC())]\n",
        "pipe = Pipeline(estimators)\n",
        "print(\"Pipe\",pipe)\n",
        "print(\"Pipe steps\",pipe.steps[0], pipe.steps[1])\n",
        "print(\"Pipe[0]=\",pipe[0])\n",
        "print(\"Naming by function:\",pipe['reduce_dim'])"
      ],
      "metadata": {
        "id": "EKdJOFJ_BlHm"
      },
      "execution_count": null,
      "outputs": []
    },
    {
      "cell_type": "markdown",
      "source": [
        "**Nested Parameters**<br>\n",
        "Use estimator_parameters syntax to access the estimator parameters"
      ],
      "metadata": {
        "id": "bMtdRFenGHUV"
      }
    },
    {
      "cell_type": "code",
      "source": [
        "#set the 'C' parameter for the SVM\n",
        "pipe.set_params(clf__C=10)"
      ],
      "metadata": {
        "id": "HgZi27JoGYWB"
      },
      "execution_count": null,
      "outputs": []
    },
    {
      "cell_type": "markdown",
      "source": [
        "**Setting parameters for Grid Searches**"
      ],
      "metadata": {
        "id": "UJsyLV8hGmvv"
      }
    },
    {
      "cell_type": "markdown",
      "source": [
        "In this example, the grid search will try 2,5,10 number of dimensions for the PCA and 0.1,10,100 for the 'C' parameter for the SVM"
      ],
      "metadata": {
        "id": "37RFcqumGyJc"
      }
    },
    {
      "cell_type": "code",
      "source": [
        "from sklearn.model_selection import GridSearchCV\n",
        "param_grid = dict(reduce_dim__n_components=[2, 5, 10],\n",
        "                  clf__C=[0.1, 10, 100])\n",
        "grid_search = GridSearchCV(pipe, param_grid=param_grid)"
      ],
      "metadata": {
        "id": "t3DeSFNlGrHV"
      },
      "execution_count": null,
      "outputs": []
    },
    {
      "cell_type": "markdown",
      "source": [
        "**Getting the features of the pipeline**"
      ],
      "metadata": {
        "id": "VBCaglHEFz0v"
      }
    },
    {
      "cell_type": "code",
      "source": [
        "from sklearn.datasets import load_iris\n",
        "from sklearn.feature_selection import SelectKBest"
      ],
      "metadata": {
        "id": "xqhIt7fDF4aZ"
      },
      "execution_count": null,
      "outputs": []
    },
    {
      "cell_type": "code",
      "source": [
        "from sklearn.linear_model import LogisticRegression\n",
        "param_grid = dict(reduce_dim=['passthrough', PCA(5), PCA(10)],\n",
        "                  clf=[SVC(), LogisticRegression()],\n",
        "                  clf__C=[0.1, 10, 100])\n",
        "grid_search = GridSearchCV(pipe, param_grid=param_grid)\n",
        "iris = load_iris()\n",
        "pipe = Pipeline(steps=[\n",
        "   ('select', SelectKBest(k=2)),\n",
        "   ('clf', LogisticRegression())])\n",
        "pipe.fit(iris.data, iris.target)\n",
        "\n",
        "pipe[:-1].get_feature_names_out()"
      ],
      "metadata": {
        "id": "OMf580CMF0DX"
      },
      "execution_count": null,
      "outputs": []
    },
    {
      "cell_type": "markdown",
      "source": [
        "**Pipeline Example**"
      ],
      "metadata": {
        "id": "hGQY65mitxfX"
      }
    },
    {
      "cell_type": "markdown",
      "source": [
        "**Import the libraries**"
      ],
      "metadata": {
        "id": "S0Itw55Czxb6"
      }
    },
    {
      "cell_type": "code",
      "source": [
        "import pandas as pd \n",
        "import numpy as np \n",
        "import matplotlib.pyplot as plt\n",
        "import seaborn as sns\n",
        "import pprint\n",
        "import time \n",
        "from sklearn.pipeline import Pipeline\n",
        "from sklearn.pipeline import make_pipeline\n",
        "from sklearn.preprocessing import StandardScaler\n",
        "from sklearn.svm import SVC\n",
        "from sklearn.model_selection import RandomizedSearchCV\n",
        "from sklearn.model_selection import train_test_split\n",
        "from sklearn.model_selection import GridSearchCV"
      ],
      "metadata": {
        "id": "Wb4fqWQpusjw"
      },
      "execution_count": null,
      "outputs": []
    },
    {
      "cell_type": "markdown",
      "source": [
        "**Start the timer**"
      ],
      "metadata": {
        "id": "UHyFJptsz0wZ"
      }
    },
    {
      "cell_type": "code",
      "source": [
        "startT = time.time()"
      ],
      "metadata": {
        "id": "1RDKXQO4vbjW"
      },
      "execution_count": null,
      "outputs": []
    },
    {
      "cell_type": "markdown",
      "source": [
        "**Get the data**"
      ],
      "metadata": {
        "id": "gtJGzw4Nz5-e"
      }
    },
    {
      "cell_type": "markdown",
      "source": [
        "https://archive.ics.uci.edu/ml/machine-learning-databases/wine-quality/"
      ],
      "metadata": {
        "id": "qyjqL0GtwVjE"
      }
    },
    {
      "cell_type": "code",
      "source": [
        "winedf = pd.read_csv('winequality-red.csv',sep=';')\n",
        "# print winedf.isnull().sum() # check for missing data\n",
        "print (winedf.head())"
      ],
      "metadata": {
        "id": "2euioZtevRGN"
      },
      "execution_count": null,
      "outputs": []
    },
    {
      "cell_type": "markdown",
      "source": [
        "**Check the distribution of the wine quality**"
      ],
      "metadata": {
        "id": "fU9oVvTEz-7-"
      }
    },
    {
      "cell_type": "code",
      "source": [
        "print (winedf.shape)\n",
        "ylab = winedf[['quality']]\n",
        "print (ylab.shape)\n",
        "print (winedf['quality'].value_counts()) "
      ],
      "metadata": {
        "id": "K7aDWeZawdkC"
      },
      "execution_count": null,
      "outputs": []
    },
    {
      "cell_type": "markdown",
      "source": [
        "**Plot the correlation of the features**"
      ],
      "metadata": {
        "id": "hOFWiGYK0HX6"
      }
    },
    {
      "cell_type": "code",
      "source": [
        "winecorr = winedf.corr()\n",
        "s=sns.heatmap(winecorr)\n",
        "s.set_yticklabels(s.get_yticklabels(),rotation=30,fontsize=7)\n",
        "s.set_xticklabels(s.get_xticklabels(),rotation=30,fontsize=7)"
      ],
      "metadata": {
        "id": "O3217_cewrqV"
      },
      "execution_count": null,
      "outputs": []
    },
    {
      "cell_type": "markdown",
      "source": [
        "**Create a scatter plot of the two highly correlated features**"
      ],
      "metadata": {
        "id": "dNQ46H4y0u4g"
      }
    },
    {
      "cell_type": "code",
      "source": [
        "plt.show() # as expected high correlation between acidity and pH\n",
        "\n",
        "# individual correlation plot\n",
        "plt.subplot(1,2,1)\n",
        "plt.scatter(winedf['fixed acidity'], winedf['pH'], s=winedf['quality']*5, color='magenta', alpha=0.3)\n",
        "plt.xlabel('Fixed Acidity')\n",
        "plt.ylabel('pH')\n",
        "plt.subplot(1,2,2)\n",
        "plt.scatter(winedf['fixed acidity'], winedf['residual sugar'], s=winedf['quality']*5, color='purple', alpha=0.3)\n",
        "plt.xlabel('Fixed Acidity')\n",
        "plt.ylabel('Residual Sugar')\n",
        "plt.tight_layout()\n",
        "plt.show()"
      ],
      "metadata": {
        "id": "NKDirSAZwxxQ"
      },
      "execution_count": null,
      "outputs": []
    },
    {
      "cell_type": "markdown",
      "source": [
        "**The data should have only the features, the labels should have only the quality**"
      ],
      "metadata": {
        "id": "PGOynU9f04iU"
      }
    },
    {
      "cell_type": "code",
      "source": [
        "X=winedf.drop(['quality'],axis=1)\n",
        "Y=winedf['quality']"
      ],
      "metadata": {
        "id": "ejZzjOUow9az"
      },
      "execution_count": null,
      "outputs": []
    },
    {
      "cell_type": "code",
      "source": [
        "print (type(X), type(Y))\n",
        "print (X.head(3))"
      ],
      "metadata": {
        "id": "1JLKeMyqw_6p"
      },
      "execution_count": null,
      "outputs": []
    },
    {
      "cell_type": "markdown",
      "source": [
        "**Create the pipeline**"
      ],
      "metadata": {
        "id": "vnZ-CRvC1BsR"
      }
    },
    {
      "cell_type": "markdown",
      "source": [
        "**StandardScaler**: Standardize features by removing the mean and scaling to unit variance.\n",
        "\n"
      ],
      "metadata": {
        "id": "P1yVZ_911SVZ"
      }
    },
    {
      "cell_type": "code",
      "source": [
        "#Example of Standard Scaler\n",
        "data = [[0, 0], [0, 0], [1, 1], [1, 1]]\n",
        "scaler = StandardScaler()\n",
        "print(\"fit:\",scaler.fit(data))\n",
        "print(\"mean:\",scaler.mean_)\n",
        "print(\"transform:\\n\",scaler.transform(data))\n",
        "print(\"transform [2,2]:\",scaler.transform([[2, 2]]))"
      ],
      "metadata": {
        "id": "Y_PyKARm1dAQ"
      },
      "execution_count": null,
      "outputs": []
    },
    {
      "cell_type": "code",
      "source": [
        "steps = [('scaler', StandardScaler()), ('SVM', SVC())]\n",
        "pipeline = Pipeline(steps)"
      ],
      "metadata": {
        "id": "KmWLWhKdxFvj"
      },
      "execution_count": null,
      "outputs": []
    },
    {
      "cell_type": "code",
      "source": [
        "parameters = {'SVM__C':[0.001,0.1,10,100,10e5], 'SVM__gamma':[0.1,0.01]}"
      ],
      "metadata": {
        "id": "-nPNSDynxIoc"
      },
      "execution_count": null,
      "outputs": []
    },
    {
      "cell_type": "code",
      "source": [
        "X_train, X_test, y_train, y_test = train_test_split(X,Y,test_size=0.2, random_state=30, stratify=Y)\n",
        "print (X_test.shape)"
      ],
      "metadata": {
        "id": "zR1ZuPikxLEb"
      },
      "execution_count": null,
      "outputs": []
    },
    {
      "cell_type": "code",
      "source": [
        "grid = GridSearchCV(pipeline, param_grid=parameters, cv=5)\n",
        "grid.fit(X_train, y_train)\n",
        "print (\"score = %3.2f\" %(grid.score(X_test,y_test)))\n",
        "print (grid.best_params_)\n",
        "endT = time.time()\n",
        "print (\"total time elapsed = %3.3f\"%(endT-startT))"
      ],
      "metadata": {
        "id": "eYTTmRymxQ5P"
      },
      "execution_count": null,
      "outputs": []
    },
    {
      "cell_type": "markdown",
      "source": [
        "**Assignment**<br>\n",
        "1. Why, even after Grid Search, does the model have a score of 67%?\n",
        "2. Look at the winequality-white.csv file. If we use the data as is, will we get a better score than the red wine data? Check to see if your answer is correct.<br>\n",
        "The white wine data set is about 3 times the size of the red wine data set. How much time do you think it will take to grid search the white wine dataset?"
      ],
      "metadata": {
        "id": "D1u0aJbxy-A7"
      }
    }
  ]
}