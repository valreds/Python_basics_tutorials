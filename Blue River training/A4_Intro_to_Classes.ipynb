{
  "nbformat": 4,
  "nbformat_minor": 0,
  "metadata": {
    "colab": {
      "name": "A4 Intro to Classes.ipynb",
      "private_outputs": true,
      "provenance": []
    },
    "kernelspec": {
      "name": "python3",
      "display_name": "Python 3"
    },
    "language_info": {
      "name": "python"
    }
  },
  "cells": [
    {
      "cell_type": "markdown",
      "metadata": {
        "id": "aDW6IFaF2v0a"
      },
      "source": [
        "## **Modifying class members**"
      ]
    },
    {
      "cell_type": "markdown",
      "metadata": {
        "id": "fTqYQP4y24IS"
      },
      "source": [
        "After creating instances of a class, we can modify the values of the members"
      ]
    },
    {
      "cell_type": "markdown",
      "metadata": {
        "id": "jeItMM6o3Gm9"
      },
      "source": [
        "**Create a class**"
      ]
    },
    {
      "cell_type": "code",
      "metadata": {
        "id": "n_2aptAe2nII"
      },
      "source": [
        "class Favorites:\n",
        "  \"class that tracks user favorites\"\n",
        "  def __init__(self, name, favs):\n",
        "    self.name=name\n",
        "    self.favs=favs\n",
        "\n",
        "  def printInfo(self):\n",
        "    print(self.name,\":\",self.favs)\n",
        "\n",
        "  def printOneFavs(self,index):\n",
        "    print(self.favs[index])\n",
        "\n",
        "  def printAllFavs(self):\n",
        "    print(self.favs)\n",
        "\n",
        "  def printSomeFavs(self, start, stop):\n",
        "    for i in range(start, stop):\n",
        "      print(i, self.favs[i])"
      ],
      "execution_count": null,
      "outputs": []
    },
    {
      "cell_type": "markdown",
      "metadata": {
        "id": "iMKcFa1q3JvU"
      },
      "source": [
        "**Create instances of the class**"
      ]
    },
    {
      "cell_type": "code",
      "metadata": {
        "id": "W1GHGHfk3Ntc"
      },
      "source": [
        "favs=['eel','dog','pony','horse','cat','fish','bird','chicken']\n",
        "f1=Favorites('kalis_list',favs)"
      ],
      "execution_count": null,
      "outputs": []
    },
    {
      "cell_type": "markdown",
      "metadata": {
        "id": "fYhYQSFy3oKb"
      },
      "source": [
        "**Use the class methods**"
      ]
    },
    {
      "cell_type": "code",
      "metadata": {
        "id": "0buNrmRD3sv8"
      },
      "source": [
        "f1.printAllFavs()\n",
        "f1.printInfo()\n",
        "f1.printOneFavs(4)\n",
        "f1.printSomeFavs(2,5)"
      ],
      "execution_count": null,
      "outputs": []
    },
    {
      "cell_type": "markdown",
      "metadata": {
        "id": "-Mo6hggd36xD"
      },
      "source": [
        "**Modify the values of the members**"
      ]
    },
    {
      "cell_type": "code",
      "metadata": {
        "id": "eg8wCNYp4AOx"
      },
      "source": [
        "print('name=',f1.name)\n",
        "f1.name='tobys_list'\n",
        "print('name=',f1.name)"
      ],
      "execution_count": null,
      "outputs": []
    },
    {
      "cell_type": "markdown",
      "metadata": {
        "id": "mO5RFSKe4YTc"
      },
      "source": [
        "**Assignment 1**<br>\n",
        "Change the list of favs for f1<br>\n",
        "1. Change cat to donkey\n",
        "2. Change eel to monkey"
      ]
    },
    {
      "cell_type": "code",
      "metadata": {
        "id": "kl5sXj9m4kw7"
      },
      "source": [
        "#Assignment 1\n",
        "f1.favs[favs.index('cat')]='donkey'\n",
        "f1.facs[favs.index('eel')]='monkey'"
      ],
      "execution_count": null,
      "outputs": []
    },
    {
      "cell_type": "markdown",
      "metadata": {
        "id": "iIkjSsTOaGrh"
      },
      "source": [
        "**Assignment 2**<br>\n",
        "1. Create a class called Patient\n",
        "2. It should hold the following information:<br>\n",
        ">name, address, phone, insurance company name, insurance company phone number<br>\n",
        "\n",
        "3. Create several instances of the class\n",
        "4. Modify the address, phone, insurance company information for each instance"
      ]
    },
    {
      "cell_type": "code",
      "metadata": {
        "id": "0UI1YtawaxTT"
      },
      "source": [
        "#Assignment 2\n",
        "class Patient:\n",
        "  \"class to store patient information\"\n",
        "  def __init__(self, patient_name,address,phone,insurance_company,insurance_company_number):\n",
        "    self.patient_name = patient_name\n",
        "    self.address = address\n",
        "    self.phone = phone\n",
        "    self.insurance_company = insurance_company_number\n",
        "    self.insurance_company_number = insurance_company_number\n",
        "\n",
        "  def print_info(self):\n",
        "    print(self.patient_name, self.address, self.phone, self.insurance_company, self.insurance_company_number)\n"
      ],
      "execution_count": null,
      "outputs": []
    },
    {
      "cell_type": "code",
      "source": [
        "patient1 = Patient('Rio','main street 2','0001114477','AXA','00022558866')\n",
        "patient2 = Patient('Momo', 'east street 1', '154879560', 'GNP', '11654894850')\n",
        "patient3 = Patient('Timi', 'randolph st 3', '54986526320', 'metlife', '568798516351')\n",
        "\n",
        "print(\"patient and insurance:\", patient1.print_info())"
      ],
      "metadata": {
        "id": "VADxBltfpiu6"
      },
      "execution_count": null,
      "outputs": []
    },
    {
      "cell_type": "code",
      "source": [
        "setattr(patient1,'patient_name','Pepe')\n",
        "setattr(patient1,'phone','579-571-2397')\n",
        "setattr(patient1,'insurance_company','Statefarm')\n",
        "setattr(patient1,'insurance_company_number','129-408-2380')\n",
        "\n",
        "setattr(patient2,'address','590 Northwest Street')\n",
        "setattr(patient2,'phone','602-280-1157')\n",
        "setattr(patient2,'insurance_company','cpmant')\n",
        "patient1.print_info()\n",
        "patient2.print_info()\n"
      ],
      "metadata": {
        "id": "j7JSbEFLq5Kf"
      },
      "execution_count": null,
      "outputs": []
    },
    {
      "cell_type": "code",
      "source": [
        "p1.printInfo()\n",
        "p1.name='Steve'\n",
        "p1.address='555 Parkway'\n",
        "p1.phone=1110001111\n",
        "p1.insur_name=\"Wellmark\"\n",
        "p1.insur_phone=\"5550001111\"\n",
        "p1.printInfo()\n",
        "p2.printInfo()\n",
        "p2.name='Rolando'\n",
        "p2.address='555 Parkway'\n",
        "p2.phone=8884443333\n",
        "p2.insur_name=\"Wellmark\"\n",
        "p2.insur_phone=\"5550001111\"\n",
        "p2.printInfo()\n",
        "\n",
        "p3.printInfo()\n",
        "p3.name='Mark'\n",
        "p3.address='555 Street'\n",
        "p3.phone=3190005555\n",
        "p3.insur_name=\"Wellmark\"\n",
        "p3.insur_phone=\"5550001111\"\n",
        "p3.printInfo()"
      ],
      "metadata": {
        "id": "IHb0mEw1q75f"
      },
      "execution_count": null,
      "outputs": []
    },
    {
      "cell_type": "markdown",
      "metadata": {
        "id": "jipAFu5KbIok"
      },
      "source": [
        "**Deleting a class member**"
      ]
    },
    {
      "cell_type": "code",
      "source": [],
      "metadata": {
        "id": "louoh-SApa-z"
      },
      "execution_count": null,
      "outputs": []
    },
    {
      "cell_type": "markdown",
      "metadata": {
        "id": "q4hhC2Aabm-0"
      },
      "source": [
        "Python allows you to delete a class member. <br>\n",
        "***It is not a good idea to delete members from a class***.\n"
      ]
    },
    {
      "cell_type": "markdown",
      "metadata": {
        "id": "wa_mEFCokPRy"
      },
      "source": [
        "Python allows this because **all members of a Python on class are public.**<br>\n",
        "\n",
        " This means a member can be accessed from outside the class environment."
      ]
    },
    {
      "cell_type": "code",
      "metadata": {
        "id": "_lSRkw8YkjFM"
      },
      "source": [
        "#Too delete a class member\n",
        "class Customer:\n",
        "\n",
        "  def __init__(self, name, address, phone, balance_limit, loan_balance):\n",
        "    self.name=name\n",
        "    self.address=address\n",
        "    self.phone=phone\n",
        "    self.balance_limit=balance_limit\n",
        "    self.loan_balance=loan_balance\n",
        "\n",
        "  def printAll(self):\n",
        "    print(self.name, self.address, self.phone, self.balance_limit,self.loan_balance)"
      ],
      "execution_count": null,
      "outputs": []
    },
    {
      "cell_type": "code",
      "metadata": {
        "id": "z5OEnDOMlFm1"
      },
      "source": [
        "c1=Customer(\"kali\",\"bogwood ct, san jose\",4083324543,25000,24999)\n",
        "c1.printAll()"
      ],
      "execution_count": null,
      "outputs": []
    },
    {
      "cell_type": "markdown",
      "metadata": {
        "id": "SC3Vmo2lmuUs"
      },
      "source": [
        "We can delete a class member, but when we try to use a class method, we get an error"
      ]
    },
    {
      "cell_type": "code",
      "metadata": {
        "id": "vUzsBli1lS11"
      },
      "source": [
        "del c1.balance_limit\n",
        "c1.printAll()"
      ],
      "execution_count": null,
      "outputs": []
    },
    {
      "cell_type": "markdown",
      "metadata": {
        "id": "u7AKrSTmm3oO"
      },
      "source": [
        "**Deleting an instance of a class**"
      ]
    },
    {
      "cell_type": "code",
      "metadata": {
        "id": "DZoMF-1mnG5t"
      },
      "source": [
        "c2=Customer(\"bailey\",\"bogwood ct, san jose\",4083324543,25000,999)\n",
        "c2.printAll()"
      ],
      "execution_count": null,
      "outputs": []
    },
    {
      "cell_type": "code",
      "metadata": {
        "id": "lZR4UDGhm7Cp"
      },
      "source": [
        "del c2\n",
        "c2.printAll()"
      ],
      "execution_count": null,
      "outputs": []
    },
    {
      "cell_type": "markdown",
      "metadata": {
        "id": "U-MPGl8unh7m"
      },
      "source": [
        "**Assignment 3**<br>\n",
        "1. Create a class that has the following information\n",
        "> student name<br>\n",
        "student ID<br>\n",
        "student Major<br>\n",
        "\n",
        "2. Create at least 10 instances of the classs\n",
        "\n",
        "3. Write a program that does the following<br>\n",
        "The program should have a menu that offers the following options:\n",
        ">1=print the student information of all students<br>\n",
        "2=print the student information for students whose major is computer science"
      ]
    },
    {
      "cell_type": "code",
      "metadata": {
        "id": "oZht2wOvnszq"
      },
      "source": [
        "#Assignment 3"
      ],
      "execution_count": null,
      "outputs": []
    },
    {
      "cell_type": "markdown",
      "metadata": {
        "id": "pcNjM5wMqD9V"
      },
      "source": [
        "**Assignment 4**<br>\n",
        "1. Create a class with the following information:\n",
        ">student name,<br> student ID,<br> student GPA\n",
        "2. Add a shared class variable that tracks the total number of students created with the class\n",
        "3. Create at least 10 instances of the class\n",
        "3. Calculate the average GPA for the ten students in the class\n",
        "5. List the students whose GPA falls below the average\n"
      ]
    },
    {
      "cell_type": "code",
      "metadata": {
        "id": "aAtWv1F6qFXF"
      },
      "source": [
        "#Assignment 4"
      ],
      "execution_count": null,
      "outputs": []
    }
  ]
}