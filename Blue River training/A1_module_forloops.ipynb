{
 "cells": [
  {
   "cell_type": "markdown",
   "metadata": {
    "id": "Kb7gmjEt5rfX"
   },
   "source": [
    "# **Review of Functions**"
   ]
  },
  {
   "cell_type": "markdown",
   "metadata": {
    "id": "ksjlwD4w5w1s"
   },
   "source": [
    "Notebook 6 covers functions.<br>\n",
    "This notebook will review those concepts"
   ]
  },
  {
   "cell_type": "markdown",
   "metadata": {
    "id": "g3mlvrgT6AY2"
   },
   "source": [
    "Defining a function:<br>\n",
    ">def function_name(optional parameter1, optional parameter2, etc):<br>\n",
    ">>function statements<br>\n",
    "return statement(optional)\n"
   ]
  },
  {
   "cell_type": "markdown",
   "metadata": {
    "id": "eStM7bAR8Wt0"
   },
   "source": [
    "**Assignment 1:**<br>\n",
    "Create a function that:<br>\n",
    ">accepts a list<br>\n",
    "prints the length of the list<br>\n",
    "prints every other index in the list\n",
    "\n"
   ]
  },
  {
   "cell_type": "code",
   "execution_count": 1,
   "metadata": {
    "id": "esOj1T6_-T3S"
   },
   "outputs": [],
   "source": [
    "def print_list(list1):\n",
    "  print(list1[1], list1[5], list1[-1])\n",
    "  print(len(list1))"
   ]
  },
  {
   "cell_type": "code",
   "execution_count": 2,
   "metadata": {
    "id": "XB7oeC1QjdkS"
   },
   "outputs": [],
   "source": [
    "def print_list(list1):\n",
    "  index = 0\n",
    "  while  index < len(list1):\n",
    "    print(list1[index])\n",
    "    index = index + 2\n",
    "  print('Length', len(list1))"
   ]
  },
  {
   "cell_type": "code",
   "execution_count": 3,
   "metadata": {
    "id": "AF8rIFPthuPK"
   },
   "outputs": [
    {
     "name": "stdout",
     "output_type": "stream",
     "text": [
      "1\n",
      "4\n",
      "45\n",
      "48\n",
      "Length 7\n"
     ]
    }
   ],
   "source": [
    "list_1 = [1,5,4,89,45,3,48]\n",
    "print_list(list_1)"
   ]
  },
  {
   "cell_type": "code",
   "execution_count": 4,
   "metadata": {
    "id": "G5XfouLqkbCS"
   },
   "outputs": [],
   "source": [
    "def list_counter(list_input):\n",
    "  count = len(list_input)\n",
    "  print('length:', count)\n",
    "  for i in range(0,count,2):\n",
    "    print(list_input[i])"
   ]
  },
  {
   "cell_type": "code",
   "execution_count": 5,
   "metadata": {
    "id": "Ne75lEdZk9f7"
   },
   "outputs": [
    {
     "name": "stdout",
     "output_type": "stream",
     "text": [
      "length: 7\n",
      "1\n",
      "4\n",
      "45\n",
      "48\n"
     ]
    }
   ],
   "source": [
    "list_1 = [1,5,4,89,45,3,48]\n",
    "list_counter(list_1)"
   ]
  },
  {
   "cell_type": "markdown",
   "metadata": {
    "id": "g8kq6ziF7y-5"
   },
   "source": [
    "**Assignment 2:**<br>\n",
    "Create a function that accepts a list of floats<br>\n",
    "The function returns a list that has:<br>\n",
    ">the max from the input list<br>\n",
    ">the min from the input list<br>"
   ]
  },
  {
   "cell_type": "code",
   "execution_count": 6,
   "metadata": {
    "id": "Cdv2nZ845nY-"
   },
   "outputs": [],
   "source": [
    "def float_list(list_floats):\n",
    "  new_list=[]\n",
    "  new_list.append(max(list_floats))\n",
    "  new_list.append(min(list_floats))\n",
    "  return(new_list)\n",
    "\n",
    "def min_max(list_2):\n",
    "  return min(list_2), max(list_2)"
   ]
  },
  {
   "cell_type": "code",
   "execution_count": 8,
   "metadata": {
    "id": "kRKWof95jN1C"
   },
   "outputs": [
    {
     "data": {
      "text/plain": [
       "(1.2, 8.5)"
      ]
     },
     "execution_count": 8,
     "metadata": {},
     "output_type": "execute_result"
    }
   ],
   "source": [
    "list_2 = [1.2,8.5,1.9,7.3,8.2,1.2]\n",
    "min_max(list_2)"
   ]
  },
  {
   "cell_type": "markdown",
   "metadata": {
    "id": "O6Fp4hKx-X47"
   },
   "source": [
    "**Single Line for Loops**"
   ]
  },
  {
   "cell_type": "code",
   "execution_count": 5,
   "metadata": {},
   "outputs": [],
   "source": [
    "texto =\"texto con muchas letra5\""
   ]
  },
  {
   "cell_type": "code",
   "execution_count": 13,
   "metadata": {},
   "outputs": [
    {
     "data": {
      "text/plain": [
       "{'value': 1, 'columna': 8}"
      ]
     },
     "execution_count": 13,
     "metadata": {},
     "output_type": "execute_result"
    }
   ],
   "source": [
    "diccionario = {'value':1, 'columna':8}\n",
    "diccionario"
   ]
  },
  {
   "cell_type": "code",
   "execution_count": 22,
   "metadata": {},
   "outputs": [
    {
     "data": {
      "text/plain": [
       "dict_items([('name', 'John'), (1, [2, 4, 3])])"
      ]
     },
     "execution_count": 22,
     "metadata": {},
     "output_type": "execute_result"
    }
   ],
   "source": [
    "# empty dictionary\n",
    "# my_dict = {}\n",
    "\n",
    "# # dictionary with integer keys\n",
    "# my_dict = {1: 'apple', 2: 'ball'}\n",
    "\n",
    "# dictionary with mixed keys\n",
    "my_dict = {'name': 'John', 1: [2, 4, 3]}\n",
    "my_dict.items()"
   ]
  },
  {
   "cell_type": "code",
   "execution_count": 11,
   "metadata": {},
   "outputs": [
    {
     "name": "stdout",
     "output_type": "stream",
     "text": [
      "['t', 'e', 'x', 't', 'o', 'c', 'o', 'n', 'm', 'u', 'c', 'h', 'a', 's', 'l', 'e', 't', 'r', 'a', '5']\n"
     ]
    }
   ],
   "source": [
    "letras = []\n",
    "espacios = []\n",
    "for item in texto:\n",
    "    if item == ' ':\n",
    "        espacios.append(item)\n",
    "    else:\n",
    "        letras.append(item)\n",
    "        \n",
    "print(letras)"
   ]
  },
  {
   "cell_type": "code",
   "execution_count": 23,
   "metadata": {
    "id": "RdpxjwOzIjWA",
    "scrolled": true
   },
   "outputs": [
    {
     "name": "stdout",
     "output_type": "stream",
     "text": [
      "0\n",
      "1\n",
      "2\n",
      "3\n",
      "4\n",
      "5\n"
     ]
    }
   ],
   "source": [
    "for num in range(6):\n",
    "  print(num)"
   ]
  },
  {
   "cell_type": "code",
   "execution_count": 9,
   "metadata": {
    "id": "l1ijdRuvIn-R"
   },
   "outputs": [
    {
     "name": "stdout",
     "output_type": "stream",
     "text": [
      "0\n",
      "1\n",
      "2\n",
      "3\n",
      "4\n"
     ]
    }
   ],
   "source": [
    "for i in range(5):print(i)"
   ]
  },
  {
   "cell_type": "markdown",
   "metadata": {
    "id": "eoM-oybnJEWl"
   },
   "source": [
    "**Assignment**:<br>\n",
    "Write a single line for loop that prints a list of strings"
   ]
  },
  {
   "cell_type": "code",
   "execution_count": 10,
   "metadata": {
    "id": "ReuY6XSyJDhG"
   },
   "outputs": [
    {
     "name": "stdout",
     "output_type": "stream",
     "text": [
      "a\n",
      "b\n",
      "c\n",
      "d\n"
     ]
    }
   ],
   "source": [
    "for i in ('a','b','c','d'):print(i)"
   ]
  },
  {
   "cell_type": "markdown",
   "metadata": {
    "id": "1lNU8epNJT7Y"
   },
   "source": [
    "**More complex single line for loops**"
   ]
  },
  {
   "cell_type": "code",
   "execution_count": 11,
   "metadata": {
    "id": "wFtWUpjpI70C"
   },
   "outputs": [
    {
     "name": "stdout",
     "output_type": "stream",
     "text": [
      "0\n",
      "4\n",
      "8\n",
      "-1\n",
      "-1\n"
     ]
    }
   ],
   "source": [
    "for i in range(5):\n",
    "  if i<3:\n",
    "    j=i*4\n",
    "  else:\n",
    "    j=-1\n",
    "  print(j)"
   ]
  },
  {
   "cell_type": "code",
   "execution_count": null,
   "metadata": {
    "id": "I45bMl1BJpy7"
   },
   "outputs": [],
   "source": [
    "for i in range(5):\n",
    "  print(i*4 if i<3 else -1)"
   ]
  },
  {
   "cell_type": "code",
   "execution_count": 12,
   "metadata": {
    "id": "tPR6mt9CJ-d5"
   },
   "outputs": [
    {
     "name": "stdout",
     "output_type": "stream",
     "text": [
      "0\n",
      "4\n",
      "8\n",
      "-1\n",
      "-1\n"
     ]
    }
   ],
   "source": [
    "for i in range(5):print(i*4 if i<3 else -1)"
   ]
  },
  {
   "cell_type": "code",
   "execution_count": 35,
   "metadata": {},
   "outputs": [
    {
     "name": "stdout",
     "output_type": "stream",
     "text": [
      "0\n",
      "2\n",
      "4\n"
     ]
    }
   ],
   "source": [
    "for item in range(0,len(list1),2):\n",
    "    print(item)"
   ]
  },
  {
   "cell_type": "code",
   "execution_count": 36,
   "metadata": {},
   "outputs": [
    {
     "data": {
      "text/plain": [
       "6"
      ]
     },
     "execution_count": 36,
     "metadata": {},
     "output_type": "execute_result"
    }
   ],
   "source": [
    "len(list1)"
   ]
  },
  {
   "cell_type": "code",
   "execution_count": 41,
   "metadata": {
    "scrolled": true
   },
   "outputs": [
    {
     "data": {
      "text/plain": [
       "[[2, 6], [4, 4], [6, 2]]"
      ]
     },
     "execution_count": 41,
     "metadata": {},
     "output_type": "execute_result"
    }
   ],
   "source": [
    "suma = 8\n",
    "list1 = [1,5,9,8,7,4,6]\n",
    "list2 = [2,6,4,9,3,4,5]\n",
    "resultado = []\n",
    "for numero_list1 in range(0,len(list1),2):\n",
    "    for numero_list2 in range(0,len(list2),2):\n",
    "        if (numero_list1 + numero_list2) == suma:\n",
    "            resultado.append([numero_list1, numero_list2])\n",
    "resultado"
   ]
  },
  {
   "cell_type": "code",
   "execution_count": null,
   "metadata": {
    "id": "k7SNecYa_bpF"
   },
   "outputs": [],
   "source": [
    "numbers = [8,34,54,67,66,98,2,4,3,45,123,234,345,52]\n",
    "even_numbers = [num for num in numbers if not num % 2]\n",
    "print(even_numbers)"
   ]
  },
  {
   "cell_type": "code",
   "execution_count": null,
   "metadata": {},
   "outputs": [],
   "source": []
  },
  {
   "cell_type": "markdown",
   "metadata": {
    "id": "_n5xxevL6TZq"
   },
   "source": [
    "**Assignment** <br>\n",
    "Using a single line for loop,<br>\n",
    ">read a list<br>\n",
    "remove any non-numbers from the list<br>\n"
   ]
  },
  {
   "cell_type": "code",
   "execution_count": 42,
   "metadata": {
    "id": "Ll0zWLtHsjCp"
   },
   "outputs": [
    {
     "data": {
      "text/plain": [
       "[725]"
      ]
     },
     "execution_count": 42,
     "metadata": {},
     "output_type": "execute_result"
    }
   ],
   "source": [
    "other_list = ['pet', 'friend','computer','mug',725]\n",
    "just_num = [i for i in other_list if isinstance(i,(int,float))]\n",
    "just_num"
   ]
  },
  {
   "cell_type": "code",
   "execution_count": 43,
   "metadata": {
    "id": "jm2zWzl76NIN"
   },
   "outputs": [
    {
     "data": {
      "text/plain": [
       "[725]"
      ]
     },
     "execution_count": 43,
     "metadata": {},
     "output_type": "execute_result"
    }
   ],
   "source": [
    "other_list = ['pet', 'friend','computer','mug',725, 4.1, 8.3]\n",
    "numbers = [i for i in other_list if type(i) == int]\n",
    "numbers"
   ]
  },
  {
   "cell_type": "code",
   "execution_count": null,
   "metadata": {
    "id": "-YWCD0rutFth"
   },
   "outputs": [],
   "source": [
    "def remove_numbers(list_input):\n",
    "  list_out =  [i for i in other_list if type(i) == int or type(i) == float]\n",
    "  print(list_out)\n",
    "\n",
    "remove_numbers(other_list)"
   ]
  },
  {
   "cell_type": "markdown",
   "metadata": {
    "id": "8fO7fiNU7Jud"
   },
   "source": [
    "**List Comprehension**<br>\n",
    "List comprehension is a concise way of creating lists.<br>\n",
    "<br>\n",
    "\n",
    "list_name = [\\<expression> for \\<item> in \\<collection> if \\<expression>] "
   ]
  },
  {
   "cell_type": "code",
   "execution_count": null,
   "metadata": {
    "id": "cvlSBwhl7OoJ"
   },
   "outputs": [],
   "source": [
    "cubes=[]\n",
    "for i in range(5):\n",
    "  cubes.append(i**3)\n",
    "print(cubes)"
   ]
  },
  {
   "cell_type": "code",
   "execution_count": null,
   "metadata": {
    "id": "zA9T6VXV7cy7"
   },
   "outputs": [],
   "source": [
    "cubes = [i**3 for i in range(5)]\n",
    "print(cubes)"
   ]
  },
  {
   "cell_type": "markdown",
   "metadata": {
    "id": "ew9hqLYA874K"
   },
   "source": [
    "Assignment<br>\n",
    "Create a list using a single line for loop"
   ]
  },
  {
   "cell_type": "code",
   "execution_count": null,
   "metadata": {
    "id": "qRk2OECa9W2O"
   },
   "outputs": [],
   "source": [
    "# new_list = [i*3/2 for i in range(5)]\n",
    "new_list = ['a'+str(i) for i in range(5)]\n",
    "new_list"
   ]
  },
  {
   "cell_type": "code",
   "execution_count": null,
   "metadata": {
    "id": "WUMcE-97uiHN"
   },
   "outputs": [],
   "source": [
    "new_list2 = [i for i in range(8)]\n",
    "new_list2"
   ]
  },
  {
   "cell_type": "code",
   "execution_count": null,
   "metadata": {
    "id": "ExbvINvYwpBI"
   },
   "outputs": [],
   "source": [
    "#create list of strings (3), floats (2), ints (1)\n",
    "def myfunction(date_type):\n",
    "  return[x if date_type ==1 else float\n",
    "         if date_type==2 else str(x) for x in range(5)]\n",
    "print(myfunction(5))"
   ]
  },
  {
   "cell_type": "code",
   "execution_count": null,
   "metadata": {
    "id": "7xQ0-Mhp81AF"
   },
   "outputs": [],
   "source": [
    "two_dim_list = [[x for x in range(5)] for y in range(2)]\n",
    "print(two_dim_list)"
   ]
  },
  {
   "cell_type": "markdown",
   "metadata": {
    "id": "QSl7_Yw59Voq"
   },
   "source": [
    "Assignment<br>\n",
    "Create a two dimensional list using a single line nested for loop"
   ]
  },
  {
   "cell_type": "code",
   "execution_count": null,
   "metadata": {
    "id": "FU07_E8P9hln"
   },
   "outputs": [],
   "source": [
    "#the first create a list, the second indicates how many times the list will  be repeated\n",
    "two_lists = [[ 2*i+x for i in range(5)] for x in range(3)]\n",
    "# two_lists = [[y**i for i in range(1,5)] for y in range(3)]\n",
    "two_lists"
   ]
  },
  {
   "cell_type": "code",
   "execution_count": 44,
   "metadata": {
    "id": "neAbqcWX9xzt"
   },
   "outputs": [
    {
     "name": "stdout",
     "output_type": "stream",
     "text": [
      "[(1, 2), (1, 3), (1, 4), (1, 5), (1, 6), (2, 1), (2, 3), (2, 4), (2, 5), (2, 6), (3, 1), (3, 2), (3, 4), (3, 5), (3, 6), (4, 1), (4, 2), (4, 3), (4, 5), (4, 6), (5, 1), (5, 2), (5, 3), (5, 4), (5, 6), (6, 1), (6, 2), (6, 3), (6, 4), (6, 5)]\n"
     ]
    }
   ],
   "source": [
    "numbers = [1,2,3,4,5,6]\n",
    "coordinates = []\n",
    "for i in numbers:\n",
    "  for j in numbers:\n",
    "    if i != j:\n",
    "      coordinates.append((i,j))\n",
    "print(coordinates)"
   ]
  },
  {
   "cell_type": "code",
   "execution_count": 45,
   "metadata": {
    "id": "bUqdmLfx-QHe"
   },
   "outputs": [
    {
     "name": "stdout",
     "output_type": "stream",
     "text": [
      "[(1, 2), (1, 3), (1, 4), (1, 5), (1, 6), (2, 1), (2, 3), (2, 4), (2, 5), (2, 6), (3, 1), (3, 2), (3, 4), (3, 5), (3, 6), (4, 1), (4, 2), (4, 3), (4, 5), (4, 6), (5, 1), (5, 2), (5, 3), (5, 4), (5, 6), (6, 1), (6, 2), (6, 3), (6, 4), (6, 5)]\n"
     ]
    }
   ],
   "source": [
    "coordinates = [(i,j) for i in numbers for j in numbers if i != j]\n",
    "print(coordinates)"
   ]
  },
  {
   "cell_type": "code",
   "execution_count": 49,
   "metadata": {},
   "outputs": [
    {
     "data": {
      "text/plain": [
       "8"
      ]
     },
     "execution_count": 49,
     "metadata": {},
     "output_type": "execute_result"
    }
   ],
   "source": [
    "suma = 8\n",
    "list1 = [1,5,9,5,7,4,6]\n",
    "list2 = [2,6,4,9,3,4,5]\n",
    "sums = [(i,j) for i in list1 for j in list2 if i+j==suma]\n",
    "suma"
   ]
  },
  {
   "cell_type": "markdown",
   "metadata": {
    "id": "MNH0-gMx-1a8"
   },
   "source": [
    "**Assignment**\n"
   ]
  },
  {
   "cell_type": "code",
   "execution_count": null,
   "metadata": {
    "id": "Zapxn8-i-4ta"
   },
   "outputs": [],
   "source": [
    "integers = [x if x%2==0 else x-1 for x in range(15)]\n",
    "print(integers)"
   ]
  },
  {
   "cell_type": "code",
   "execution_count": null,
   "metadata": {
    "id": "p_CyfEJb_uI_"
   },
   "outputs": [],
   "source": []
  },
  {
   "cell_type": "code",
   "execution_count": null,
   "metadata": {
    "cellView": "form",
    "id": "9lI83U_0_YyB"
   },
   "outputs": [],
   "source": [
    "#@title \n",
    "integers=[]\n",
    "for x in range(15):\n",
    "  if x%2 == 0:\n",
    "    integers.append(x)\n",
    "  else:\n",
    "    integers.append(x-1)\n",
    "\n",
    "print(integers)"
   ]
  },
  {
   "cell_type": "markdown",
   "metadata": {
    "id": "EN9rLqvNJcue"
   },
   "source": [
    "However, you can not use the else statement within the context part. When I executed this code snippet, I was surprised that it throws an error:"
   ]
  },
  {
   "cell_type": "code",
   "execution_count": null,
   "metadata": {
    "id": "XT_q7K_uJgsk"
   },
   "outputs": [],
   "source": [
    "# WRONG (INVALID SYNTAX)\n",
    "lst = [x for x in range(10) if x%2==0 else x-1]\n",
    "print(lst)"
   ]
  }
 ],
 "metadata": {
  "colab": {
   "name": "A1 module.ipynb",
   "private_outputs": true,
   "provenance": []
  },
  "kernelspec": {
   "display_name": "Python 3",
   "language": "python",
   "name": "python3"
  },
  "language_info": {
   "codemirror_mode": {
    "name": "ipython",
    "version": 3
   },
   "file_extension": ".py",
   "mimetype": "text/x-python",
   "name": "python",
   "nbconvert_exporter": "python",
   "pygments_lexer": "ipython3",
   "version": "3.8.8"
  }
 },
 "nbformat": 4,
 "nbformat_minor": 1
}
