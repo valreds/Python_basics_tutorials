{
 "cells": [
  {
   "cell_type": "markdown",
   "metadata": {
    "id": "Kb7gmjEt5rfX"
   },
   "source": [
    "# **Review of Functions**"
   ]
  },
  {
   "cell_type": "markdown",
   "metadata": {
    "id": "ksjlwD4w5w1s"
   },
   "source": [
    "Notebook 6 covers functions.<br>\n",
    "This notebook will review those concepts"
   ]
  },
  {
   "cell_type": "markdown",
   "metadata": {
    "id": "g3mlvrgT6AY2"
   },
   "source": [
    "Defining a function:<br>\n",
    ">def function_name(optional parameter1, optional parameter2, etc):<br>\n",
    ">>function statements<br>\n",
    "return statement(optional)\n"
   ]
  },
  {
   "cell_type": "markdown",
   "metadata": {
    "id": "eStM7bAR8Wt0"
   },
   "source": [
    "**Assignment 1:**<br>\n",
    "Create a function that:<br>\n",
    ">accepts a list<br>\n",
    "prints the length of the list<br>\n",
    "prints every other index in the list\n",
    "\n"
   ]
  },
  {
   "cell_type": "code",
   "execution_count": 1,
   "metadata": {},
   "outputs": [
    {
     "name": "stdout",
     "output_type": "stream",
     "text": [
      "0\n",
      "2\n",
      "4\n",
      "6\n",
      "8\n"
     ]
    }
   ],
   "source": [
    "for x in range(0,10,2):\n",
    "    print(x)"
   ]
  },
  {
   "cell_type": "code",
   "execution_count": 10,
   "metadata": {
    "id": "Mo8I53wVi7Jj"
   },
   "outputs": [],
   "source": [
    "def create_list(list):\n",
    "    print(\"List length is: {}\".format(len(list)))\n",
    "    for i in range(0,len(list),2):\n",
    "        print(list[i])"
   ]
  },
  {
   "cell_type": "code",
   "execution_count": 11,
   "metadata": {},
   "outputs": [
    {
     "name": "stdout",
     "output_type": "stream",
     "text": [
      "List length is: 10\n",
      "1\n",
      "68\n",
      "84\n",
      "59\n",
      "46\n"
     ]
    }
   ],
   "source": [
    "list1 = [1,7,68,36,84,20,59,71,46,2]\n",
    "create_list(list1)"
   ]
  },
  {
   "cell_type": "markdown",
   "metadata": {
    "id": "g8kq6ziF7y-5"
   },
   "source": [
    "**Assignment 2:**<br>\n",
    "Create a function that accepts a list of floats<br>\n",
    "The function returns a list that has:<br>\n",
    ">the max from the input list<br>\n",
    ">the min from the input list<br>"
   ]
  },
  {
   "cell_type": "code",
   "execution_count": 14,
   "metadata": {},
   "outputs": [
    {
     "name": "stdout",
     "output_type": "stream",
     "text": [
      "[41.0, 85.1, 97.0, 84.0, 63.2, 1.6, 4.0]\n"
     ]
    }
   ],
   "source": [
    "list2 = [41,85.1,97,'84',63.2,1.6,4]\n",
    "new_list = []\n",
    "for item in list2:\n",
    "    if isinstance(item, (int, str)):\n",
    "        new_list.append(float(item))\n",
    "    else: new_list.append(item)\n",
    "print(new_list)"
   ]
  },
  {
   "cell_type": "code",
   "execution_count": 16,
   "metadata": {
    "id": "Cdv2nZ845nY-"
   },
   "outputs": [],
   "source": [
    "def list_floats(list):\n",
    "    new_list=[]\n",
    "    for item in list:\n",
    "        if isinstance(item, (int, str)):\n",
    "            new_list.append(float(item))\n",
    "        else: new_list.append(item)\n",
    "    print(max(new_list))\n",
    "    print(min(new_list))"
   ]
  },
  {
   "cell_type": "code",
   "execution_count": 17,
   "metadata": {},
   "outputs": [
    {
     "name": "stdout",
     "output_type": "stream",
     "text": [
      "97.0\n",
      "1.6\n"
     ]
    }
   ],
   "source": [
    "list2 = [41,85.1,97,'84',63.2,1.6,4]\n",
    "list_floats(list2)"
   ]
  },
  {
   "cell_type": "markdown",
   "metadata": {
    "id": "O6Fp4hKx-X47"
   },
   "source": [
    "**Single Line for Loops**"
   ]
  },
  {
   "cell_type": "code",
   "execution_count": null,
   "metadata": {
    "id": "RdpxjwOzIjWA"
   },
   "outputs": [],
   "source": [
    "for i in range(5):\n",
    "  print(i)"
   ]
  },
  {
   "cell_type": "code",
   "execution_count": null,
   "metadata": {
    "id": "l1ijdRuvIn-R"
   },
   "outputs": [],
   "source": [
    "for i in range(5):print(i)"
   ]
  },
  {
   "cell_type": "markdown",
   "metadata": {
    "id": "eoM-oybnJEWl"
   },
   "source": [
    "**Assignment 3**:<br>\n",
    "Write a single line for loop that prints a list of strings"
   ]
  },
  {
   "cell_type": "code",
   "execution_count": null,
   "metadata": {
    "id": "ReuY6XSyJDhG"
   },
   "outputs": [],
   "source": []
  },
  {
   "cell_type": "markdown",
   "metadata": {
    "id": "1lNU8epNJT7Y"
   },
   "source": [
    "**More complex single line for loops**"
   ]
  },
  {
   "cell_type": "code",
   "execution_count": null,
   "metadata": {
    "id": "wFtWUpjpI70C"
   },
   "outputs": [],
   "source": [
    "for i in range(8):\n",
    "  if i<3:\n",
    "    j=i*4\n",
    "  else:\n",
    "    j= 88\n",
    "  print(i,j)"
   ]
  },
  {
   "cell_type": "code",
   "execution_count": null,
   "metadata": {
    "id": "I45bMl1BJpy7"
   },
   "outputs": [],
   "source": [
    "for i in range(5):\n",
    "  print(i*4 if i<3 else -1)"
   ]
  },
  {
   "cell_type": "code",
   "execution_count": null,
   "metadata": {
    "id": "tPR6mt9CJ-d5"
   },
   "outputs": [],
   "source": [
    "for i in range(5):print(i*4 if i<3 else -1)"
   ]
  },
  {
   "cell_type": "code",
   "execution_count": null,
   "metadata": {
    "id": "k7SNecYa_bpF"
   },
   "outputs": [],
   "source": [
    "numbers = [8,34,54,67,66,98,2,4,3,45,123,234,345,52]\n",
    "even_numbers = [num for num in numbers if not num % 2]\n",
    "print(even_numbers)"
   ]
  },
  {
   "cell_type": "markdown",
   "metadata": {
    "id": "_n5xxevL6TZq"
   },
   "source": [
    "**Assignment 4** <br>\n",
    "Using a single line for loop,<br>\n",
    ">read a list<br>\n",
    "remove any non-numbers from the list<br>\n"
   ]
  },
  {
   "cell_type": "code",
   "execution_count": null,
   "metadata": {
    "id": "jm2zWzl76NIN"
   },
   "outputs": [],
   "source": []
  },
  {
   "cell_type": "markdown",
   "metadata": {
    "id": "8fO7fiNU7Jud"
   },
   "source": [
    "**List Comprehension**<br>\n",
    "List comprehension is a concise way of creating lists.<br>\n",
    "<br>\n",
    "\n",
    "list_name = [\\<expression> for \\<item> in \\<collection> if \\<expression>] "
   ]
  },
  {
   "cell_type": "code",
   "execution_count": null,
   "metadata": {
    "id": "cvlSBwhl7OoJ"
   },
   "outputs": [],
   "source": [
    "cubes=[]\n",
    "for i in range(5):\n",
    "  cubes.append(i**3)\n",
    "print(cubes)"
   ]
  },
  {
   "cell_type": "code",
   "execution_count": null,
   "metadata": {
    "id": "zA9T6VXV7cy7"
   },
   "outputs": [],
   "source": [
    "cubes = [i**3 for i in range(5)]\n",
    "print(cubes)"
   ]
  },
  {
   "cell_type": "markdown",
   "metadata": {
    "id": "ew9hqLYA874K"
   },
   "source": [
    "**Assignment 5**<br>\n",
    "Create a list using a single line for loop"
   ]
  },
  {
   "cell_type": "code",
   "execution_count": null,
   "metadata": {
    "id": "qRk2OECa9W2O"
   },
   "outputs": [],
   "source": []
  },
  {
   "cell_type": "markdown",
   "metadata": {
    "id": "s1hMFCEGZYU3"
   },
   "source": [
    "**Single Line Nested For Loops**"
   ]
  },
  {
   "cell_type": "code",
   "execution_count": null,
   "metadata": {
    "id": "neAbqcWX9xzt"
   },
   "outputs": [],
   "source": [
    "numbers = [1,2,3,4,5,6]\n",
    "coordinates = []\n",
    "for i in numbers:\n",
    "  for j in numbers:\n",
    "    if i != j:\n",
    "      coordinates.append((i,j))\n",
    "print(coordinates)"
   ]
  },
  {
   "cell_type": "code",
   "execution_count": null,
   "metadata": {
    "id": "bUqdmLfx-QHe"
   },
   "outputs": [],
   "source": [
    "coordinates = [(i,j) for i in numbers for j in numbers if i != j]\n",
    "print(coordinates)"
   ]
  },
  {
   "cell_type": "markdown",
   "metadata": {
    "id": "QSl7_Yw59Voq"
   },
   "source": [
    "**Assignment 6**<br>\n",
    "Create a two dimensional list using a single line nested for loop"
   ]
  },
  {
   "cell_type": "code",
   "execution_count": null,
   "metadata": {
    "id": "FU07_E8P9hln"
   },
   "outputs": [],
   "source": []
  },
  {
   "cell_type": "markdown",
   "metadata": {
    "id": "MNH0-gMx-1a8"
   },
   "source": [
    "**Assignment 7**<br>\n",
    "Convert the single line for loop into a multiline for loop\n"
   ]
  },
  {
   "cell_type": "code",
   "execution_count": null,
   "metadata": {
    "id": "p_CyfEJb_uI_"
   },
   "outputs": [],
   "source": [
    "mylist = [1,4,5,8,9,11,13,12]\n",
    "newlist = [x for x in mylist if x%2 == 1]\n",
    "print(newlist)"
   ]
  },
  {
   "cell_type": "code",
   "execution_count": null,
   "metadata": {
    "id": "5na23UA-agDH"
   },
   "outputs": [],
   "source": []
  },
  {
   "cell_type": "markdown",
   "metadata": {
    "id": "hBS1e_HRak-l"
   },
   "source": [
    "**Use caution with 'else' statements in single line for loops**"
   ]
  },
  {
   "cell_type": "code",
   "execution_count": null,
   "metadata": {
    "id": "9lI83U_0_YyB"
   },
   "outputs": [],
   "source": [
    "integers=[]\n",
    "for x in range(15):\n",
    "  if x%2 == 0:\n",
    "    integers.append(x)\n",
    "  else:\n",
    "    integers.append(x-1)\n",
    "\n",
    "print(integers)"
   ]
  },
  {
   "cell_type": "markdown",
   "metadata": {
    "id": "EN9rLqvNJcue"
   },
   "source": [
    "However, you can not use the else statement within the context part. When I executed this code snippet, I was surprised that it throws an error:"
   ]
  },
  {
   "cell_type": "code",
   "execution_count": null,
   "metadata": {
    "id": "XT_q7K_uJgsk"
   },
   "outputs": [],
   "source": [
    "# WRONG (INVALID SYNTAX)\n",
    "lst = [x for x in range(10) if x%2==0 else x-1]\n",
    "print(lst)"
   ]
  },
  {
   "cell_type": "markdown",
   "metadata": {
    "id": "FKQIF0oGbpHt"
   },
   "source": [
    "**Correct syntax if using else statement**"
   ]
  },
  {
   "cell_type": "code",
   "execution_count": null,
   "metadata": {
    "id": "1MQyn-79bdT_"
   },
   "outputs": [],
   "source": [
    "lst = [x if x%2==0 else x-1 for x in range(10)]\n",
    "print(lst)"
   ]
  }
 ],
 "metadata": {
  "colab": {
   "name": "A1 module.ipynb",
   "private_outputs": true,
   "provenance": []
  },
  "kernelspec": {
   "display_name": "Python 3",
   "language": "python",
   "name": "python3"
  },
  "language_info": {
   "codemirror_mode": {
    "name": "ipython",
    "version": 3
   },
   "file_extension": ".py",
   "mimetype": "text/x-python",
   "name": "python",
   "nbconvert_exporter": "python",
   "pygments_lexer": "ipython3",
   "version": "3.8.8"
  }
 },
 "nbformat": 4,
 "nbformat_minor": 1
}
