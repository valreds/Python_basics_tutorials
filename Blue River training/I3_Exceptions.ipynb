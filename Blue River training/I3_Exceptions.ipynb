{
  "nbformat": 4,
  "nbformat_minor": 0,
  "metadata": {
    "colab": {
      "private_outputs": true,
      "provenance": []
    },
    "kernelspec": {
      "name": "python3",
      "display_name": "Python 3"
    },
    "language_info": {
      "name": "python"
    }
  },
  "cells": [
    {
      "cell_type": "markdown",
      "source": [
        "# Exception Handling"
      ],
      "metadata": {
        "id": "Tz6VGrbjDaBk"
      }
    },
    {
      "cell_type": "markdown",
      "source": [
        "Python raises an exception when your code encounters an occasional but not unexpected error. <br>\n",
        "\n",
        "Exceptions *may* occur, so you should write code to deal with, or handle, them. <br>\n",
        "\n",
        "In contrast, a bug happens when your code does something illogical, like a miscalculation. Bugs should be fixed, not handled."
      ],
      "metadata": {
        "id": "nJZH7kDwGpDn"
      }
    },
    {
      "cell_type": "markdown",
      "source": [
        "Example of a ZeroDivisionError exception"
      ],
      "metadata": {
        "id": "RuNHq6n2GtZt"
      }
    },
    {
      "cell_type": "code",
      "execution_count": null,
      "metadata": {
        "id": "ElE-41zmo34j"
      },
      "outputs": [],
      "source": [
        "first = float(input(\"What is your first number? \"))\n",
        "second = float(input(\"What is your second number? \"))\n",
        "print(f\"{first} divided by {second} is {first / second}\")"
      ]
    },
    {
      "cell_type": "markdown",
      "source": [
        "# Exception Handling<br>\n",
        "\n",
        "Exception handling is code written to catch exceptions and deal with them.<br>\n",
        "\n",
        "Exception handling will keep your code from crashing while also giving the user an explanation of the problem."
      ],
      "metadata": {
        "id": "1-9m8h4pHa-w"
      }
    },
    {
      "cell_type": "markdown",
      "source": [
        "try....except blocks are used to handle exceptions"
      ],
      "metadata": {
        "id": "OFAIUK4iIDgt"
      }
    },
    {
      "cell_type": "code",
      "source": [
        "try:\n",
        "    first = float(input(\"What is your first number? \"))\n",
        "    second = float(input(\"What is your second number? \"))\n",
        "    print(f\"{first} divided by {second} is {first / second}\")\n",
        "except ZeroDivisionError:\n",
        "    print(\"You can't divide by zero\")"
      ],
      "metadata": {
        "id": "gzu5McwXICMh"
      },
      "execution_count": null,
      "outputs": []
    },
    {
      "cell_type": "markdown",
      "source": [
        "**Assignment 1**<br>\n",
        "Create code to check that the user has entered a number\n",
        "\n",
        "Use this exception: <br>\n",
        ">except ValueError:<br>\n",
        "    >>print(\"You must enter a number\")"
      ],
      "metadata": {
        "id": "YRCwMcFbOTby"
      }
    },
    {
      "cell_type": "code",
      "source": [
        "#Assignemnt 1\n",
        "try:\n",
        "  first = float(input(\"Enter first number\"))\n",
        "  second = float(input(\"Enter second number\"))\n",
        "  print(f\"{first} divided by {second} is {first/second}\")\n",
        "except ValueError:\n",
        "  print(\"You must enter a number\")"
      ],
      "metadata": {
        "id": "OX-GsJRpOTny"
      },
      "execution_count": null,
      "outputs": []
    },
    {
      "cell_type": "markdown",
      "source": [
        "## Try Block\n",
        "What goes in the try block is important"
      ],
      "metadata": {
        "id": "P1SkXCQRLqpN"
      }
    },
    {
      "cell_type": "code",
      "source": [
        "try:\n",
        "    first = float(input(\"What is your first number? \"))\n",
        "    second = float(input(\"What is your second number? \"))\n",
        "    answer=first/second\n",
        "    print(f\"{first} divided by {second} is {answer}\")\n",
        "except ZeroDivisionError:\n",
        "    print(\"You can't divide by zero\")\n",
        "\n",
        "print(\"continue with you program\")\n",
        "#Note: if there is an exception, answer1 is NOT defined"
      ],
      "metadata": {
        "id": "tRNlqyc7Lq5W"
      },
      "execution_count": null,
      "outputs": []
    },
    {
      "cell_type": "markdown",
      "source": [
        "- If there are no exceptions, the code continues.\n",
        "- If there are exceptions, an error message is displayed, and the program can continue"
      ],
      "metadata": {
        "id": "hU4SLKloL8u7"
      }
    },
    {
      "cell_type": "markdown",
      "source": [
        "What happens when you continue after an exception?"
      ],
      "metadata": {
        "id": "oYjFykZpMNG8"
      }
    },
    {
      "cell_type": "code",
      "source": [
        "first = input(\"What is your first number? \")\n",
        "second =input(\"What is your second number? \")\n",
        "try:\n",
        "  first=float(first)\n",
        "  second=float(second)\n",
        "  answer1=first/second\n",
        "  print(f\"{first} divided by {second} is {answer1}\")\n",
        "except ZeroDivisionError:\n",
        "  print(\"You can't divide by zero\")\n",
        "\n",
        "print(\"continue with you program\")\n",
        "print(first,\"/\", second, \"=\", answer1)\n",
        "\n",
        "#After an exception, the answer1 variable is not correctly defined"
      ],
      "metadata": {
        "id": "gMVyXvyzML4N"
      },
      "execution_count": null,
      "outputs": []
    },
    {
      "cell_type": "markdown",
      "source": [
        "**What goes in a try block?**\n",
        "1. All the code that uses the values that might cause an exception"
      ],
      "metadata": {
        "id": "1O9uBjZxOqwM"
      }
    },
    {
      "cell_type": "code",
      "source": [
        "try:\n",
        "    first = float(input(\"What is your first number? \"))\n",
        "    second = float(input(\"What is your second number? \"))\n",
        "    answer1=first/second\n",
        "    print(f\"{first} divided by {second} is {answer1}\")\n",
        "    answer_list=[]\n",
        "    answer_list.append(answer1)\n",
        "    print(answer_list)\n",
        "    print(\"all of your code goes here\")\n",
        "except ZeroDivisionError:\n",
        "    print(\"You can't divide by zero\")\n",
        "    print(\"try again\")"
      ],
      "metadata": {
        "id": "cUH1HhOlOvJ2"
      },
      "execution_count": null,
      "outputs": []
    },
    {
      "cell_type": "markdown",
      "source": [
        "### 2. Use an 'else' block\n",
        "\n",
        "The else block is executed if no errors were raised"
      ],
      "metadata": {
        "id": "sphym-cAPnCk"
      }
    },
    {
      "cell_type": "code",
      "source": [
        "try:\n",
        "    first = float(input(\"What is your first number? \"))\n",
        "    second = float(input(\"What is your second number? \"))\n",
        "    answer1=first/second\n",
        "except ZeroDivisionError:\n",
        "    print(\"You can't divide by zero\")\n",
        "    print(\"try again\")\n",
        "else:\n",
        "    print(f\"{first} divided by {second} is {answer1}\")\n",
        "    answer_list=[]\n",
        "    answer_list.append(answer1)\n",
        "    print(f\"The list: {answer_list}\")"
      ],
      "metadata": {
        "id": "SGurNSGAPnPG"
      },
      "execution_count": null,
      "outputs": []
    },
    {
      "cell_type": "markdown",
      "source": [
        "### Finally Block<br>\n",
        "\n",
        "The finally block is executed regardless if the try block raises an error or not."
      ],
      "metadata": {
        "id": "yrlm2yL_QgMy"
      }
    },
    {
      "cell_type": "code",
      "source": [
        "try:\n",
        "    first = float(input(\"What is your first number? \"))\n",
        "    second = float(input(\"What is your second number? \"))\n",
        "    answer1=first/second\n",
        "    print(f\"{first} divided by {second} is {answer1}\")\n",
        "    answer_list=[]\n",
        "    answer_list.append(answer1)\n",
        "    print(answer_list)\n",
        "except ZeroDivisionError:\n",
        "    print(\"You can't divide by zero\")\n",
        "    print(\"try again\")\n",
        "finally:\n",
        "  print(\"The 'try except' is finished\")\n",
        "  #Note: if there is an error, answer1 is NOT defined\n"
      ],
      "metadata": {
        "id": "DySZQMmqQgX7"
      },
      "execution_count": null,
      "outputs": []
    },
    {
      "cell_type": "markdown",
      "source": [
        "**Assignment 2**<br>\n",
        "\n",
        "1. Ask the user for a number\n",
        "2. Use an exception block to check for non-numbers<br>\n",
        "Use this exception: <br>\n",
        ">except ValueError:<br>\n",
        "    >>print(\"You must enter a number\")"
      ],
      "metadata": {
        "id": "Xh_bXWtlWnXQ"
      }
    },
    {
      "cell_type": "code",
      "source": [
        "#Assignemnt 2\n",
        "try:\n",
        "  number1 = float(input(\"Enter first number:\"))\n",
        "  number2 = float(input(\"Enter second number:\"))\n",
        "  answer1 = number1/number2\n",
        "  print(\"First attempt answer:\",answer1)\n",
        "except ValueError:\n",
        "  print(\"Value must be a number\")\n",
        "except ZeroDivisionError:\n",
        "  print(\"Can't divide by zero, enter a new number\")\n",
        "  number2 = float(input(\"Enter second number:\"))\n",
        "  answer2 = number1/number2\n",
        "  print(\"Second attempt answer:\",answer2)"
      ],
      "metadata": {
        "id": "gVAQSbCSWnid"
      },
      "execution_count": null,
      "outputs": []
    },
    {
      "cell_type": "markdown",
      "source": [
        "## Raise (or Throw) an Exception"
      ],
      "metadata": {
        "id": "7vIjiKCGSYP0"
      }
    },
    {
      "cell_type": "code",
      "source": [
        "first = float(input(\"What is your first number? \"))\n",
        "second = float(input(\"What is your second number? \"))\n",
        "\n",
        "if second == 0:\n",
        "  raise Exception(\"You can't divide by zero\")\n",
        "\n",
        "else:\n",
        "  answer=first/second\n",
        "  print(f\"{first} divided by {second} is {answer}\")"
      ],
      "metadata": {
        "id": "MwA_U2OGSYc9"
      },
      "execution_count": null,
      "outputs": []
    },
    {
      "cell_type": "markdown",
      "source": [
        "**Assignment 3**<br>\n",
        "Ask the user for a string. <br>\n",
        "Throw an exception for a non-string"
      ],
      "metadata": {
        "id": "MjEmxgo3WZZJ"
      }
    },
    {
      "cell_type": "code",
      "source": [
        "#Assignment 3\n",
        "string1 = (input('Enter a letter: '))\n",
        "if type(string1) != str:\n",
        "  raise Exception('Must be a string, try again')\n",
        "else:\n",
        "  print(\"this is your string:\", string1)"
      ],
      "metadata": {
        "id": "bEumAIbXaKYA"
      },
      "execution_count": null,
      "outputs": []
    },
    {
      "cell_type": "code",
      "source": [
        "string2 = (input('Enter a phrase: '))\n",
        "\n",
        "if isinstance(string2, str) == False:\n",
        "  raise Exception('This is not a string')\n",
        "else:\n",
        "  print('This is your string: ', string2)"
      ],
      "metadata": {
        "id": "QXS5NjlFPal_"
      },
      "execution_count": null,
      "outputs": []
    },
    {
      "cell_type": "markdown",
      "source": [
        "A try block can have more than one exception"
      ],
      "metadata": {
        "id": "tqVezrSOI1o4"
      }
    },
    {
      "cell_type": "code",
      "source": [
        "try:\n",
        "    first = float(input(\"What is your first number? \"))\n",
        "    second = float(input(\"What is your second number? \"))\n",
        "    answer=first/second\n",
        "except ValueError:\n",
        "    print(\"You must enter a number\")\n",
        "except ZeroDivisionError:\n",
        "    print(\"You can't divide by zero\")\n",
        "else:\n",
        "  print(\"Now you can continue with your program\")\n",
        "  print(f\"{first} divided by {second} is {answer}\")"
      ],
      "metadata": {
        "id": "ZnyHsK6PI4o1"
      },
      "execution_count": null,
      "outputs": []
    },
    {
      "cell_type": "markdown",
      "source": [
        "You can combine exceptions into a single except block. The downside is you will not know which error caused the exception"
      ],
      "metadata": {
        "id": "baeXuatlKLDU"
      }
    },
    {
      "cell_type": "code",
      "source": [
        "try:\n",
        "    first = float(input(\"What is your first number? \"))\n",
        "    second = float(input(\"What is your second number? \"))\n",
        "    print(f\"{first} divided by {second} is {first / second}\")\n",
        "except (ValueError,ZeroDivisionError):\n",
        "    print(\"There was a problem with your input values\")\n",
        "\n",
        "print(\"Now you can continue with your program\")"
      ],
      "metadata": {
        "id": "IuB8D5_vJVBt"
      },
      "execution_count": null,
      "outputs": []
    },
    {
      "cell_type": "markdown",
      "source": [
        "**Assignment 4:**<br>\n",
        "Write a program that does the following:\n",
        "1. Asks the user for the following<br>\n",
        ">name<br>\n",
        ">salary<br>\n",
        ">marital status (M,S,D,W)\n",
        ">age<br>\n",
        "\n",
        "2. Check that each value is in the correct form. If it is not, use an execption\n",
        "\n",
        "3. If divorced or widowed ask for length of time\n",
        "\n",
        "4. If age is greater than 65 ask if retired\n",
        "\n",
        "5. Print the information\n",
        "\n",
        "\n"
      ],
      "metadata": {
        "id": "tsKAlOPswgUu"
      }
    },
    {
      "cell_type": "code",
      "source": [
        "#Assignment 4\n",
        "name1 = (input('Enter your name: '))\n",
        "\n",
        "try:\n",
        "  salary = float(input('Enter your salary: '))\n",
        "except TypeError:\n",
        "   ('Salary must be a number')\n",
        "\n",
        "marital_status = (input('Enter marital status (M,S,D,W):'))\n",
        "\n",
        "if marital_status.lower() not in [\"m\", \"s\", \"d\", \"w\"]:\n",
        "  raise Exception('Values for marital status are not correct, try again')\n",
        "  marital_status = (input('Enter marital status (M,S,D,W):'))\n",
        "\n",
        "if marital_status.lower() in [\"d\",\"w\"]:\n",
        "  time = input(\"Enter time of marital status (years): \")\n",
        "\n",
        "age = (input(\"Enter age: \"))\n",
        "\n",
        "if type(salary) != float:\n",
        "  raise Exception('Salary must be a number')\n",
        "if salary >= 65000:\n",
        "  retired = (input(\"are you retired? (Y/N)\" ))\n",
        "  print(\"Name:\", name1)\n",
        "  print(\"Salary:\", salary,)\n",
        "  print(\"marital status: \", marital_status)\n",
        "  print(\"Age of person: \", age)\n",
        "  print('Are you retired: ', retired)\n",
        "\n",
        "else:\n",
        "  print(\"Name:\", name1)\n",
        "  print(\"Salary:\", salary,)\n",
        "  print(\"marital status: \", marital_status)\n",
        "  print(\"Age of person: \", age)"
      ],
      "metadata": {
        "id": "AcRYeygNwgep"
      },
      "execution_count": null,
      "outputs": []
    },
    {
      "cell_type": "code",
      "source": [
        "try:\n",
        "  name = input(\"Enter your name: \")\n",
        "  salary = float(input(\"Enter your yearly salary: \"))\n",
        "  marital_status = input(\"Enter your marital status (M,S,D,W): \")\n",
        "\n",
        "  if marital_status.lower() not in [\"m\",\"s\",\"d\",\"w\"]:\n",
        "    raise Exception(\"You entered an incorrect Marital Status!\")\n",
        "  print(f'Name: {name} Salary: {salary} Marital Status: {marital_status}')\n",
        "\n",
        "except ValueError:\n",
        "  print(\"Your salary must be a number!\")"
      ],
      "metadata": {
        "id": "RjNDZehjTtoa"
      },
      "execution_count": null,
      "outputs": []
    },
    {
      "cell_type": "code",
      "source": [
        "user_name=input(\"Enter your name: \")\n",
        "\n",
        "try:\n",
        "  user_salary=float(input(\"Enter your salary: \"))\n",
        "except TypeError:\n",
        "    print(\"You must enter a number\")\n",
        "\n",
        "user_mar=input(\"Enter your marital status (M-married, S-single, D-divorced, W-widowed): \")\n",
        "\n",
        "if user_mar.upper() not in [\"M\",\"S\",\"D\",\"W\"]:\n",
        "  raise Exception(\"Invalid entry\")\n",
        "\n",
        "try:\n",
        "  user_age=float(input(\"Enter your age: \"))\n",
        "except TypeError:\n",
        "    print(\"You must enter a number\")\n",
        "\n",
        "if user_age > 65:\n",
        "  user_ret=input(\"Are you retired? (Y/N): \")\n",
        "  if user_ret.upper() not in [\"Y\",\"N\"]:\n",
        "    raise Exception(\"Invalid entry\")\n",
        "  user_age_str=str(user_age)+\", Retired: \"+user_ret.upper()\n",
        "else:\n",
        "  user_age_str=str(user_age)\n",
        "\n",
        "print(f'Name: {user_name}, Salary: {user_salary}, Marital Status: {user_mar}, User Age: {user_age_str}')\n",
        "user_name=input(\"Enter your name: \")\n",
        "\n",
        "try:\n",
        "  user_salary=float(input(\"Enter your salary: \"))\n",
        "except TypeError:\n",
        "    print(\"You must enter a number\")\n",
        "\n",
        "user_mar=input(\"Enter your marital status (M-married, S-single, D-divorced, W-widowed): \")\n",
        "\n",
        "if user_mar.upper() not in [\"M\",\"S\",\"D\",\"W\"]:\n",
        "  raise Exception(\"Invalid entry\")\n",
        "  user_age_str=str(user_age)+\", Retired: \"+user_ret.upper()\n",
        "else:\n",
        "  user_age_str=str(user_age)\n",
        "\n",
        "print(f'Name: {user_name}, Salary: {user_salary}, Marital Status: {user_mar}, User Age: {user_age_str}')"
      ],
      "metadata": {
        "id": "brCpUlQAWmXf"
      },
      "execution_count": null,
      "outputs": []
    }
  ]
}