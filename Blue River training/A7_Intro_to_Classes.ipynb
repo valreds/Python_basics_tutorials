{
  "nbformat": 4,
  "nbformat_minor": 0,
  "metadata": {
    "colab": {
      "name": "A7 Intro to Classes.ipynb",
      "private_outputs": true,
      "provenance": []
    },
    "kernelspec": {
      "name": "python3",
      "display_name": "Python 3"
    },
    "language_info": {
      "name": "python"
    }
  },
  "cells": [
    {
      "cell_type": "markdown",
      "metadata": {
        "id": "MiDmGmtCG15F"
      },
      "source": [
        "# **Dataclasses**"
      ]
    },
    {
      "cell_type": "markdown",
      "metadata": {
        "id": "Fky5z55fGx3r"
      },
      "source": [
        "Dataclasses are similar to classes.<br>\n",
        "Dataclasses were added to Python 3.7 to make it easier to use classes. <br>\n",
        "\n",
        "Dataclasses have instantiation, comparing, and printing already implemented<br>"
      ]
    },
    {
      "cell_type": "markdown",
      "metadata": {
        "id": "-1jlxLlOG7K0"
      },
      "source": [
        "**A regular Python class**"
      ]
    },
    {
      "cell_type": "code",
      "metadata": {
        "id": "YyG_SfUkGZfL"
      },
      "source": [
        "#creating a class called patient\n",
        "class Patient:\n",
        "  def __init__(self, name, pet_name,phone,payment_method):\n",
        "    self.name=name\n",
        "    self.pet_name=pet_name\n",
        "    self.phone=phone\n",
        "    self.payment_method=payment_method\n",
        "\n",
        "  def __repr__(self):\n",
        "    return (\"employee (name={}, pet_name={}, phone={}, payment_method={} )\"\n",
        "            .format(self.name, self.pet_name, self.phone, self.payment_method))\n",
        "    \n",
        "  def __eq__(self, check):\n",
        "    return ((self.name, self.pet_name, self.phone, self.payment_method) ==\n",
        "           ((check.name, check.pet_name, check.phone, check.payment_method)))"
      ],
      "execution_count": null,
      "outputs": []
    },
    {
      "cell_type": "code",
      "metadata": {
        "id": "5mvudKhlIBs4"
      },
      "source": [
        "p1=Patient(\"Sam\",\"Spot\",\"408-555-4321\",\"Visa\")\n",
        "p2=Patient(\"Toby\",\"Rover\",\"408-434-4321\",\"Check\")\n",
        "p3=Patient(\"Carl\",\"Lassie\",\"408-666-4321\",\"PayPal\")\n",
        "\n",
        "print(p1)\n",
        "print(p1==p2)"
      ],
      "execution_count": null,
      "outputs": []
    },
    {
      "cell_type": "markdown",
      "metadata": {
        "id": "ZnDSeudgGZGO"
      },
      "source": [
        "**Create a class using dataclasses**"
      ]
    },
    {
      "cell_type": "code",
      "metadata": {
        "id": "JLG4-T1q6ZgV"
      },
      "source": [
        "from dataclasses import dataclass"
      ],
      "execution_count": null,
      "outputs": []
    },
    {
      "cell_type": "code",
      "metadata": {
        "id": "hPWEWt946hAk"
      },
      "source": [
        "@dataclass\n",
        "class Patient1:\n",
        "  name: str\n",
        "  pet_name: str\n",
        "  phone:str\n",
        "  payment_method:str"
      ],
      "execution_count": null,
      "outputs": []
    },
    {
      "cell_type": "code",
      "metadata": {
        "id": "L2B0uH77QN3-"
      },
      "source": [
        "p1=Patient1(\"Sam\",\"Spot\",\"408-555-4321\",\"Visa\")\n",
        "p2=Patient1(\"Toby\",\"Rover\",\"408-434-4321\",\"Check\")\n",
        "p3=Patient1(\"Carl\",\"Lassie\",\"408-666-4321\",\"PayPal\")\n",
        "\n",
        "print(p1)\n",
        "print(p1==p2)"
      ],
      "execution_count": null,
      "outputs": []
    },
    {
      "cell_type": "markdown",
      "metadata": {
        "id": "cy_ceNTuSMSp"
      },
      "source": [
        "**Assignment #1**<br>\n",
        "1. Create a class using dataclasses\n",
        "2. Name the class Customer\n",
        "3. Add 3 members: \n",
        ">name a string <br>\n",
        ">credit_limit a float,<br> \n",
        "number_cards an int<br>\n",
        "\n",
        "4. Write code to check the class is working\n",
        "\n"
      ]
    },
    {
      "cell_type": "code",
      "metadata": {
        "id": "-dyC3iUgSyii"
      },
      "source": [
        "#Assignment 1\n",
        "@dataclass\n",
        "class Customer:\n",
        "  name: str\n",
        "  credit_limit: float\n",
        "  number_card: int"
      ],
      "execution_count": null,
      "outputs": []
    },
    {
      "cell_type": "code",
      "metadata": {
        "id": "oZPm1RHq6Fz-"
      },
      "source": [
        "cust1 = Customer('Valeria', 1000, 3)\n",
        "print(cust1)"
      ],
      "execution_count": null,
      "outputs": []
    },
    {
      "cell_type": "markdown",
      "metadata": {
        "id": "b9E3ummRTCY7"
      },
      "source": [
        "**Using default values**<br>\n",
        "1. Notice the import statement changes\n",
        "2. Notice the default value statement"
      ]
    },
    {
      "cell_type": "code",
      "metadata": {
        "id": "wHe_eRXOTKyt"
      },
      "source": [
        "#creating a class called patient\n",
        "from dataclasses import dataclass, field\n",
        "\n",
        "@dataclass\n",
        "class Patient2:\n",
        "  name: str\n",
        "  pet_name: str\n",
        "  phone:str\n",
        "  \n",
        "  #default values\n",
        "  payment_method: str=field(default=\"Cash\")"
      ],
      "execution_count": null,
      "outputs": []
    },
    {
      "cell_type": "code",
      "metadata": {
        "id": "ndaXXfOST5vw"
      },
      "source": [
        "p1=Patient2(\"Sam\",\"Spot\",\"408-555-4321\",\"Visa\")\n",
        "p2=Patient2(\"Toby\",\"Rover\",\"408-434-4321\",\"Check\")\n",
        "p3=Patient2(\"Carl\",\"Lassie\",\"408-666-4321\")\n",
        "\n",
        "print(p1)\n",
        "print(p1==p2)"
      ],
      "execution_count": null,
      "outputs": []
    },
    {
      "cell_type": "markdown",
      "metadata": {
        "id": "FSUQoSKkU7-E"
      },
      "source": [
        "**Assignment #2**<br>\n",
        "Change your Customer class to have a default credit_limit"
      ]
    },
    {
      "cell_type": "code",
      "metadata": {
        "id": "MBWI0UsPVVgX"
      },
      "source": [
        "#Assignment \n",
        "@dataclass\n",
        "class Customer:\n",
        "  name: str\n",
        "  # credit_limit: float\n",
        "  number_card: int\n",
        "\n",
        "  #default values\n",
        "  credit_limit : float = field(default=5000)"
      ],
      "execution_count": null,
      "outputs": []
    },
    {
      "cell_type": "code",
      "metadata": {
        "id": "3Rn0ZGVg8HOv"
      },
      "source": [
        "cust2 = Customer('Vale', 3)\n",
        "print(cust2)"
      ],
      "execution_count": null,
      "outputs": []
    },
    {
      "cell_type": "markdown",
      "metadata": {
        "id": "bnMogY1AVdzQ"
      },
      "source": [
        "**Default Factory**<br>\n",
        "Default factories accept a function and return the initial value of the field"
      ]
    },
    {
      "cell_type": "code",
      "metadata": {
        "id": "Etux3QebVueu"
      },
      "source": [
        "from dataclasses import dataclass, field\n",
        "\n",
        "def get_pet_name():\n",
        "  pet_name= \"Unknown\"\n",
        "  return pet_name\n",
        "\n",
        "@dataclass\n",
        "class Patient3:\n",
        "  name: str\n",
        "  phone:str \n",
        "  pet_name: str #notice default_factory values go last\n",
        "  \n",
        "  \n",
        "  #default values\n",
        "  pet_name: str = field(default_factory=get_pet_name)\n",
        "  payment_method: str=field(default=\"Cash\")\n",
        "  "
      ],
      "execution_count": null,
      "outputs": []
    },
    {
      "cell_type": "code",
      "metadata": {
        "id": "EvRMbKJlVw2a"
      },
      "source": [
        "p1=Patient3(\"Sam\",\"408-555-4321\")\n",
        "p2=Patient3(\"Toby\",\"408-434-4321\",\"Check\") #What happens here?\n",
        "p3=Patient3(\"Carl\",\"408-666-4321\")\n",
        "\n",
        "print(p1)\n",
        "print(p2)\n",
        "print(p3)"
      ],
      "execution_count": null,
      "outputs": []
    },
    {
      "cell_type": "markdown",
      "metadata": {
        "id": "2AyweM5_YhsF"
      },
      "source": [
        "**Assignment 3**<br>\n",
        "To your customer class\n",
        "1. Add a default_factory value for number of cards"
      ]
    },
    {
      "cell_type": "code",
      "metadata": {
        "id": "0-QOG9CXY56O"
      },
      "source": [
        "#Asssignment 3\n",
        "from dataclasses import dataclass, field\n",
        "\n",
        "\n",
        "\n",
        "def get_number_cards():\n",
        "\n",
        "  munber= 1\n",
        "\n",
        "  return munber\n",
        "\n",
        "\n",
        "\n",
        "@dataclass\n",
        "\n",
        "class Customer2:\n",
        "\n",
        "  name: str\n",
        "\n",
        "  number_cards:int = field(default_factory=get_number_cards)\n",
        "\n",
        "  credit_limit: float=field(default=200)\n",
        "\n",
        "\n",
        "\n",
        "c1=Customer2(\"sam\", 1, 200)\n",
        "\n",
        "c2=Customer2(\"sam\", 3)\n",
        "\n",
        "c3=Customer2(\"sam\")\n",
        "\n",
        "\n",
        "\n",
        "print(c1)\n",
        "\n",
        "print(c2)\n",
        "\n",
        "print(c3)\n",
        "\n",
        "print(c1==c2)\n",
        "\n",
        "print(c1==c3)"
      ],
      "execution_count": null,
      "outputs": []
    }
  ]
}