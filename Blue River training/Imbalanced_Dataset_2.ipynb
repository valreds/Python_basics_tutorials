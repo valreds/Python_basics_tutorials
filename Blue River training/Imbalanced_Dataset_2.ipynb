{
 "cells": [
  {
   "cell_type": "markdown",
   "metadata": {
    "id": "ofPgPxrQl9TE"
   },
   "source": [
    "**Import Libraries**"
   ]
  },
  {
   "cell_type": "code",
   "execution_count": null,
   "metadata": {
    "id": "0T5C8PA2JbX6"
   },
   "outputs": [],
   "source": [
    "from numpy import unique\n",
    "from numpy import hstack\n",
    "from numpy import vstack\n",
    "from numpy import where\n",
    "from matplotlib import pyplot\n",
    "from sklearn.datasets import make_blobs"
   ]
  },
  {
   "cell_type": "code",
   "execution_count": null,
   "metadata": {
    "id": "19BYM6sdJj1R"
   },
   "outputs": [],
   "source": [
    "from collections import Counter\n",
    "from sklearn.datasets import make_classification \n",
    "from matplotlib import pyplot\n",
    "from numpy import where"
   ]
  },
  {
   "cell_type": "markdown",
   "metadata": {
    "id": "chcJu04jmISb"
   },
   "source": [
    "**Create synthetic datasets**"
   ]
  },
  {
   "cell_type": "code",
   "execution_count": null,
   "metadata": {
    "id": "g038YxvIIa2a"
   },
   "outputs": [],
   "source": [
    "sizes = [100, 1000, 10000, 100000]\n",
    "# create and plot a dataset with each size\n",
    "for i in range(len(sizes)):\n",
    "  # determine the dataset size\n",
    "  n = sizes[i]\n",
    "    # create the dataset\n",
    "  X, y = make_classification(n_samples=n, n_features=2, n_redundant=0, \n",
    "                             n_clusters_per_class=1, weights=[0.99], flip_y=0, random_state=1)\n",
    "    # summarize class distribution\n",
    "  counter = Counter(y)\n",
    "  print('Size=%d, Ratio=%s' % (n, counter)) # define subplot\n",
    "  pyplot.subplot(2, 2, 1+i) \n",
    "  pyplot.title('n=%d' % n) \n",
    "  pyplot.xticks([])\n",
    "  pyplot.yticks([])\n",
    "  # scatter plot of examples by class label \n",
    "  for label, _ in counter.items():\n",
    "    row_ix = where(y == label)[0]\n",
    "    pyplot.scatter(X[row_ix, 0], X[row_ix, 1], label=str(label)) \n",
    "  pyplot.legend()\n",
    "# show the figure\n",
    "pyplot.show()"
   ]
  },
  {
   "cell_type": "markdown",
   "metadata": {
    "id": "Z8WGm1e6oc2N"
   },
   "source": [
    "Adding noise to synthetic **datasets**"
   ]
  },
  {
   "cell_type": "code",
   "execution_count": null,
   "metadata": {
    "id": "8-uISsGHZ8tI"
   },
   "outputs": [],
   "source": [
    "# vary the label noise for a 1:100 imbalanced datase\n",
    "\n",
    "# label noise ratios\n",
    "noise = [0, 0.01, 0.05, 0.07]\n",
    "# create and plot a dataset with different label noise \n",
    "for i in range(len(noise)):\n",
    "  # determine the label noise\n",
    "  n = noise[i]\n",
    "  # create the dataset\n",
    "  X, y = make_classification(n_samples=1000, n_features=2, n_redundant=0, n_clusters_per_class=1, \n",
    "                             weights=[0.99], flip_y=n, random_state=1)\n",
    "  # summarize class distribution\n",
    "  counter = Counter(y)\n",
    "  print('Noise=%d%%, Ratio=%s' % (int(n*100), counter)) # define subplot\n",
    "  pyplot.subplot(2, 2, 1+i)\n",
    "  pyplot.title('noise=%d%%' % int(n*100)) \n",
    "  pyplot.xticks([])\n",
    "  pyplot.yticks([])\n",
    "  # scatter plot of examples by class label\n",
    "  for label, _ in counter.items():\n",
    "    row_ix = where(y == label)[0]\n",
    "    pyplot.scatter(X[row_ix, 0], X[row_ix, 1], label=str(label)) \n",
    "    pyplot.legend()\n",
    "# show the figure\n",
    "pyplot.show()"
   ]
  },
  {
   "cell_type": "markdown",
   "metadata": {
    "id": "Eb1d-GfcolLR"
   },
   "source": [
    "**More than one cluster per class**"
   ]
  },
  {
   "cell_type": "code",
   "execution_count": null,
   "metadata": {
    "id": "hX2X_xsljIYJ"
   },
   "outputs": [],
   "source": [
    "clusters = [1,2]\n",
    "range(len(clusters))"
   ]
  },
  {
   "cell_type": "code",
   "execution_count": null,
   "metadata": {
    "id": "DLCSGEQ3akjz"
   },
   "outputs": [],
   "source": [
    "# number of clusters per class\n",
    "clusters = [1, 2, 3]\n",
    "# create and plot a dataset with different numbers of clusters \n",
    "for i in range(len(clusters)):\n",
    "  c = clusters[i]\n",
    "  # define dataset\n",
    "  X, y = make_classification(n_samples=10000, n_features=4, n_redundant=0, n_clusters_per_class=c, \n",
    "                             weights=[0.99], flip_y=0, random_state=1, n_informative = 3)\n",
    "  counter = Counter(y)\n",
    "  # define subplot\n",
    "  pyplot.subplot(1, 3, 1+i) \n",
    "  pyplot.title('Clusters=%d' % c) \n",
    "  pyplot.xticks([]) \n",
    "  pyplot.yticks([])\n",
    "   # scatter plot of examples by class label\n",
    "  for label, _ in counter.items():\n",
    "    row_ix = where(y == label)[0]\n",
    "    pyplot.scatter(X[row_ix, 0], X[row_ix, 1], label=str(label))\n",
    "  pyplot.legend()\n",
    "# show the figure\n",
    "pyplot.show()"
   ]
  }
 ],
 "metadata": {
  "colab": {
   "name": "Imbalanced Dataset 2.ipynb",
   "private_outputs": true,
   "provenance": []
  },
  "kernelspec": {
   "display_name": "Python 3",
   "language": "python",
   "name": "python3"
  },
  "language_info": {
   "codemirror_mode": {
    "name": "ipython",
    "version": 3
   },
   "file_extension": ".py",
   "mimetype": "text/x-python",
   "name": "python",
   "nbconvert_exporter": "python",
   "pygments_lexer": "ipython3",
   "version": "3.8.8"
  }
 },
 "nbformat": 4,
 "nbformat_minor": 1
}
