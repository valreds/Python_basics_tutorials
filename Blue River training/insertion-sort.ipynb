{
 "cells": [
  {
   "cell_type": "markdown",
   "metadata": {
    "id": "Kb7gmjEt5rfX"
   },
   "source": [
    "# **Review of Functions**"
   ]
  },
  {
   "cell_type": "markdown",
   "metadata": {
    "id": "ksjlwD4w5w1s"
   },
   "source": [
    "Notebook 6 covers functions.<br>\n",
    "This notebook will review those concepts"
   ]
  },
  {
   "cell_type": "markdown",
   "metadata": {
    "id": "g3mlvrgT6AY2"
   },
   "source": [
    "Defining a function:<br>\n",
    ">def function_name(optional parameter1, optional parameter2, etc):<br>\n",
    ">>function statements<br>\n",
    "return statement(optional)\n"
   ]
  },
  {
   "cell_type": "markdown",
   "metadata": {
    "id": "eStM7bAR8Wt0"
   },
   "source": [
    "**Assignment 1:**<br>\n",
    "Create a function that:<br>\n",
    ">accepts a list<br>\n",
    "prints the length of the list<br>\n",
    "prints every other index in the list\n",
    "\n"
   ]
  },
  {
   "cell_type": "code",
   "execution_count": null,
   "metadata": {
    "id": "Mo8I53wVi7Jj"
   },
   "outputs": [],
   "source": [
    "list_p = [1,2,3,4,5]\n",
    "count=len(list_p)\n",
    "def func():\n",
    "  print(count)\n",
    "  for i in range(0,count,2):\n",
    "    print(i)\n",
    "\n",
    "func()"
   ]
  },
  {
   "cell_type": "code",
   "execution_count": null,
   "metadata": {
    "id": "esOj1T6_-T3S"
   },
   "outputs": [],
   "source": [
    "def list_counter(input_list):\n",
    "  count=len(input_list)\n",
    "  print(\"length=\",count)\n",
    "  for i in range(0,count,2):\n",
    "    print(input_list[i])"
   ]
  },
  {
   "cell_type": "code",
   "execution_count": null,
   "metadata": {
    "id": "qUcce-EviYrZ"
   },
   "outputs": [],
   "source": [
    "a=[99,1,2,3,4,5,6,7,8,9]\n",
    "list_counter(a)"
   ]
  },
  {
   "cell_type": "markdown",
   "metadata": {
    "id": "g8kq6ziF7y-5"
   },
   "source": [
    "**Assignment 2:**<br>\n",
    "Create a function that accepts a list of floats<br>\n",
    "The function returns a list that has:<br>\n",
    ">the max from the input list<br>\n",
    ">the min from the input list<br>"
   ]
  },
  {
   "cell_type": "code",
   "execution_count": 2,
   "metadata": {
    "id": "Cdv2nZ845nY-"
   },
   "outputs": [],
   "source": [
    "def min_max(list_in):\n",
    "  return min(list_in), max(list_in)"
   ]
  },
  {
   "cell_type": "code",
   "execution_count": 3,
   "metadata": {
    "id": "RhQMVpgLlPix"
   },
   "outputs": [
    {
     "name": "stdout",
     "output_type": "stream",
     "text": [
      "<class 'tuple'>\n",
      "<class 'int'>\n"
     ]
    }
   ],
   "source": [
    "a=[99,1,2,3,4,5,6,7,8,9]\n",
    "n,x=min_max(a)\n",
    "print(type(min_max(a)))\n",
    "print(type(n))"
   ]
  },
  {
   "cell_type": "markdown",
   "metadata": {
    "id": "O6Fp4hKx-X47"
   },
   "source": [
    "**Single Line for Loops**"
   ]
  },
  {
   "cell_type": "code",
   "execution_count": null,
   "metadata": {
    "id": "RdpxjwOzIjWA"
   },
   "outputs": [],
   "source": [
    "for i in range(5):\n",
    "  print(i)"
   ]
  },
  {
   "cell_type": "code",
   "execution_count": null,
   "metadata": {
    "id": "l1ijdRuvIn-R"
   },
   "outputs": [],
   "source": [
    "for i in range(5):print(i)"
   ]
  },
  {
   "cell_type": "markdown",
   "metadata": {
    "id": "eoM-oybnJEWl"
   },
   "source": [
    "**Assignment 3**:<br>\n",
    "Write a single line for loop that prints a list of strings"
   ]
  },
  {
   "cell_type": "code",
   "execution_count": 26,
   "metadata": {},
   "outputs": [
    {
     "name": "stdout",
     "output_type": "stream",
     "text": [
      "Hello, enter your name \n",
      "Valreds\n",
      "welcome  Valreds\n"
     ]
    }
   ],
   "source": [
    "print('Hello, enter your name ')\n",
    "x = input()\n",
    "print('welcome ', x)"
   ]
  },
  {
   "cell_type": "code",
   "execution_count": null,
   "metadata": {
    "id": "ReuY6XSyJDhG"
   },
   "outputs": [],
   "source": [
    "pets = ['cat', 'dog', 'snake']\n",
    "\n",
    "for pet in pets: print (pet)"
   ]
  },
  {
   "cell_type": "markdown",
   "metadata": {
    "id": "1lNU8epNJT7Y"
   },
   "source": [
    "**More complex single line for loops**"
   ]
  },
  {
   "cell_type": "code",
   "execution_count": null,
   "metadata": {
    "id": "wFtWUpjpI70C"
   },
   "outputs": [],
   "source": [
    "for i in range(8):\n",
    "  if i<3:\n",
    "    j=i*4\n",
    "  else:\n",
    "    j= 88\n",
    "  print(i,j)"
   ]
  },
  {
   "cell_type": "code",
   "execution_count": null,
   "metadata": {
    "id": "xEdwG642YtPw"
   },
   "outputs": [],
   "source": [
    "numbers = [8,34,54,67,66,98,2,4,3,45,123,234,345,52]\n",
    "for number in numbers:\n",
    "  if number %2 == 0:\n",
    "    print(number)"
   ]
  },
  {
   "cell_type": "code",
   "execution_count": null,
   "metadata": {
    "id": "I45bMl1BJpy7"
   },
   "outputs": [],
   "source": [
    "for i in range(5):\n",
    "  print(i*4 if i<3 else -1)"
   ]
  },
  {
   "cell_type": "code",
   "execution_count": null,
   "metadata": {
    "id": "tPR6mt9CJ-d5"
   },
   "outputs": [],
   "source": [
    "for i in range(5):print(i*4 if i<3 else -1)"
   ]
  },
  {
   "cell_type": "code",
   "execution_count": null,
   "metadata": {
    "id": "k7SNecYa_bpF"
   },
   "outputs": [],
   "source": [
    "numbers = [8,34,54,67,66,98,2,4,3,45,123,234,345,52]\n",
    "even_numbers = [num for num in numbers if not num % 2]\n",
    "print(even_numbers)"
   ]
  },
  {
   "cell_type": "markdown",
   "metadata": {
    "id": "_n5xxevL6TZq"
   },
   "source": [
    "**Assignment 4** <br>\n",
    "Using a single line for loop,<br>\n",
    ">read a list<br>\n",
    "remove any non-numbers from the list<br>\n"
   ]
  },
  {
   "cell_type": "code",
   "execution_count": 4,
   "metadata": {
    "id": "jm2zWzl76NIN"
   },
   "outputs": [
    {
     "name": "stdout",
     "output_type": "stream",
     "text": [
      "['4', '324', '23']\n"
     ]
    }
   ],
   "source": [
    "junk = ['4', 'cat', 'horse', '324', '23', 'coffee']\n",
    "\n",
    "just_nums = [ i for i in junk if i.isdigit()] \n",
    "print (just_nums)"
   ]
  },
  {
   "cell_type": "code",
   "execution_count": 5,
   "metadata": {
    "id": "MiYRIchGsM4a"
   },
   "outputs": [
    {
     "name": "stdout",
     "output_type": "stream",
     "text": [
      "[]\n"
     ]
    }
   ],
   "source": [
    "try1 = [12,'ef', 23,'e',34, 'shu7bham',25.54, '@', '#']\n",
    "\n",
    "def remove_non_numbers(try1):\n",
    "  try1 =  [i for i in try1 if type(i) == int]\n",
    "  print(try1)\n",
    "\n",
    "\n",
    "remove_non_numbers(junk)"
   ]
  },
  {
   "cell_type": "code",
   "execution_count": null,
   "metadata": {},
   "outputs": [],
   "source": []
  },
  {
   "cell_type": "code",
   "execution_count": 6,
   "metadata": {
    "id": "MEhvt3aUskX2"
   },
   "outputs": [
    {
     "name": "stdout",
     "output_type": "stream",
     "text": [
      "[4, 56, 0.4]\n"
     ]
    }
   ],
   "source": [
    "numbers_only_list = [item for item in [\"string\",4,\"number\",56,0.4] \n",
    "                     if isinstance(item, (int, float))]\n",
    "print(numbers_only_list)"
   ]
  },
  {
   "cell_type": "code",
   "execution_count": null,
   "metadata": {
    "id": "F52SPPpMtEEb"
   },
   "outputs": [],
   "source": [
    "try1 = [12,'ef', 23,'e',34, 'shu7bham',25.4, '@', '#']\n",
    "\n",
    "def remove_non_numbers(try1):\n",
    "  try1 =  [i for i in try1 if type(i) == int or type(i) == float]\n",
    "  print(try1)\n",
    "  \n",
    "remove_non_numbers(try1)"
   ]
  },
  {
   "cell_type": "markdown",
   "metadata": {
    "id": "8fO7fiNU7Jud"
   },
   "source": [
    "**List Comprehension**<br>\n",
    "List comprehension is a concise way of creating lists.<br>\n",
    "<br>\n",
    "\n",
    "list_name = [\\<expression> for \\<item> in \\<collection> if \\<expression>] "
   ]
  },
  {
   "cell_type": "code",
   "execution_count": 18,
   "metadata": {
    "id": "_2h2p_ylOYNN"
   },
   "outputs": [
    {
     "name": "stdout",
     "output_type": "stream",
     "text": [
      "[1, 5, 6, 7, 8]\n"
     ]
    }
   ],
   "source": [
    "a = [5,1,8,6,7]\n",
    "for i in range(len(a)):\n",
    "  key = a[i]\n",
    "  j = i-1\n",
    "  while j >= 0 and key < a[j]:\n",
    "    a[j+1] = a[j]\n",
    "    j = j-1\n",
    "  a[j+1] = key\n",
    "print(a)"
   ]
  },
  {
   "cell_type": "code",
   "execution_count": 2,
   "metadata": {
    "id": "lyR_jH-mM-nq"
   },
   "outputs": [
    {
     "name": "stdout",
     "output_type": "stream",
     "text": [
      "(1, 8)\n",
      "(5, 4)\n",
      "(8, 1)\n",
      "(6, 3)\n",
      "(7, 2)\n"
     ]
    }
   ],
   "source": [
    "a = [1,5,8,6,7]\n",
    "b = [8,2,3,4,1]\n",
    "n = 9\n",
    "for i in a:\n",
    "  for j in b:\n",
    "    if i+j == n:\n",
    "      print((i,j))\n",
    "#     elif i+j!=n:\n",
    "#       print('no pairs')"
   ]
  },
  {
   "cell_type": "code",
   "execution_count": 5,
   "metadata": {},
   "outputs": [
    {
     "data": {
      "text/plain": [
       "[(1, 8), (5, 4), (8, 1), (6, 3), (7, 2)]"
      ]
     },
     "execution_count": 5,
     "metadata": {},
     "output_type": "execute_result"
    }
   ],
   "source": [
    "[(i,j) for i in a for j in b if i+j == n]"
   ]
  },
  {
   "cell_type": "code",
   "execution_count": 6,
   "metadata": {},
   "outputs": [
    {
     "data": {
      "text/plain": [
       "[[(1, 8)], [(7, 2)], [(6, 3)], [(5, 4)], [(8, 1)]]"
      ]
     },
     "execution_count": 6,
     "metadata": {},
     "output_type": "execute_result"
    }
   ],
   "source": [
    "[[(i,j) for i in a if i+j == n] for j in b]"
   ]
  },
  {
   "cell_type": "code",
   "execution_count": 14,
   "metadata": {
    "id": "VOs8RZt5cbXc"
   },
   "outputs": [
    {
     "data": {
      "text/plain": [
       "(12, 'completeness')"
      ]
     },
     "execution_count": 14,
     "metadata": {},
     "output_type": "execute_result"
    }
   ],
   "source": [
    "text='this is a long text including long sentences to check for completeness algorithms'\n",
    "max([(len(word),word) for word in text.split()])"
   ]
  },
  {
   "cell_type": "code",
   "execution_count": 16,
   "metadata": {
    "id": "70DTN25wc4zy"
   },
   "outputs": [
    {
     "name": "stdout",
     "output_type": "stream",
     "text": [
      "this 4\n",
      "is 2\n",
      "a 1\n",
      "long 4\n",
      "text 4\n",
      "including 9\n",
      "long 4\n",
      "sentences 9\n",
      "to 2\n",
      "check 5\n",
      "for 3\n",
      "completeness 12\n",
      "algorithms 10\n"
     ]
    }
   ],
   "source": [
    "for word in text.split():print(word, len(word))"
   ]
  },
  {
   "cell_type": "code",
   "execution_count": null,
   "metadata": {
    "id": "cvlSBwhl7OoJ"
   },
   "outputs": [],
   "source": [
    "cubes=[]\n",
    "for i in range(5):\n",
    "  cubes.append(i**3)\n",
    "print(cubes)"
   ]
  },
  {
   "cell_type": "code",
   "execution_count": null,
   "metadata": {
    "id": "zA9T6VXV7cy7"
   },
   "outputs": [],
   "source": [
    "cubes = [i**3 for i in range(5)]\n",
    "print(cubes)"
   ]
  },
  {
   "cell_type": "markdown",
   "metadata": {
    "id": "ew9hqLYA874K"
   },
   "source": [
    "**Assignment 5**<br>\n",
    "Create a list using a single line for loop"
   ]
  },
  {
   "cell_type": "code",
   "execution_count": null,
   "metadata": {
    "id": "qRk2OECa9W2O"
   },
   "outputs": [],
   "source": [
    "list_ints = [\"a\"+str(i) for i in range(10)]\n",
    "print(list_ints)"
   ]
  },
  {
   "cell_type": "code",
   "execution_count": null,
   "metadata": {
    "id": "Z2bNLE1Lwhuy"
   },
   "outputs": [],
   "source": [
    "#Create list of strings (3), floats (2), ints (1)\n",
    "def myfunc(date_type):\n",
    "  return [x if date_type == 1 else float(x) if date_type == 2 else str(x) for x in range(5)]\n",
    "\n",
    "print(myfunc(5))"
   ]
  },
  {
   "cell_type": "code",
   "execution_count": null,
   "metadata": {
    "id": "7xQ0-Mhp81AF"
   },
   "outputs": [],
   "source": [
    "two_dim_list = [[x for x in range(5)] for y in range(3)]\n",
    "print(two_dim_list)"
   ]
  },
  {
   "cell_type": "markdown",
   "metadata": {
    "id": "QSl7_Yw59Voq"
   },
   "source": [
    "**Assignment 6**<br>\n",
    "Create a two dimensional list using a single line nested for loop"
   ]
  },
  {
   "cell_type": "code",
   "execution_count": null,
   "metadata": {
    "id": "I3-lWT-2iiKF"
   },
   "outputs": [],
   "source": [
    "# Prints a list of lists containing roots, squares, and cubes for a range of numbers\n",
    "test = [[num ** i for i in range(0,4)] for num in range(1,5)]\n",
    "test\n",
    "def calculate():\n",
    "  return [[num ** i for i in range(0,4)] for num in range(1,5)]\n",
    "\n",
    "print(calculate())"
   ]
  },
  {
   "cell_type": "code",
   "execution_count": null,
   "metadata": {
    "id": "FU07_E8P9hln"
   },
   "outputs": [],
   "source": [
    "# Prints a list of lists containing roots, squares, and cubes for a range of numbers\n",
    "def double_trouble():\n",
    "  return [[y**i for i in range(1,4)] for y in range(1,15)]\n",
    "\n",
    "print(double_trouble())"
   ]
  },
  {
   "cell_type": "code",
   "execution_count": null,
   "metadata": {
    "id": "-i5a0LVdywqK"
   },
   "outputs": [],
   "source": [
    "try2 = [[2*x+y for x in range(3)] for y in range(6)]\n",
    "print(try2)"
   ]
  },
  {
   "cell_type": "code",
   "execution_count": null,
   "metadata": {
    "id": "neAbqcWX9xzt"
   },
   "outputs": [],
   "source": [
    "numbers = [1,2,3,4,5,6]\n",
    "coordinates = []\n",
    "for i in numbers:\n",
    "  for j in numbers:\n",
    "    if i != j:\n",
    "      coordinates.append((i,j))\n",
    "print(coordinates)"
   ]
  },
  {
   "cell_type": "code",
   "execution_count": null,
   "metadata": {
    "id": "bUqdmLfx-QHe"
   },
   "outputs": [],
   "source": [
    "n=4\n",
    "coordinates = [(i,j) for i in numbers for j in numbers if i!=j]\n",
    "print(coordinates)"
   ]
  },
  {
   "cell_type": "code",
   "execution_count": 149,
   "metadata": {},
   "outputs": [
    {
     "name": "stdout",
     "output_type": "stream",
     "text": [
      "13\n",
      "7\n",
      "11\n",
      "5\n",
      "3\n"
     ]
    }
   ],
   "source": [
    "A = [6,3,5,2,1]\n",
    "sums = 0\n",
    "for element in A:\n",
    "    sums = element + element+1\n",
    "    print(sums)"
   ]
  },
  {
   "cell_type": "code",
   "execution_count": 145,
   "metadata": {
    "id": "mJv6JytSmf4J"
   },
   "outputs": [
    {
     "data": {
      "text/plain": [
       "[(7, 1), (6, 2)]"
      ]
     },
     "execution_count": 145,
     "metadata": {},
     "output_type": "execute_result"
    }
   ],
   "source": [
    "nums1 = [1,5,7,3,6]\n",
    "nums2 = [4,8,2,1,9]\n",
    "n = 8\n",
    "pairs = [(i,j) for i in nums1 for j in nums2 if i+j==n and i!=j]\n",
    "pairs"
   ]
  },
  {
   "cell_type": "markdown",
   "metadata": {
    "id": "MNH0-gMx-1a8"
   },
   "source": [
    "**Assignment 7**<br>\n",
    "Convert the single line for loop into a multiline for loop\n"
   ]
  },
  {
   "cell_type": "code",
   "execution_count": null,
   "metadata": {
    "id": "Zapxn8-i-4ta"
   },
   "outputs": [],
   "source": [
    "integers = [x if x%2==0 else x-1 for x in range(15)]\n",
    "print(integers)"
   ]
  },
  {
   "cell_type": "code",
   "execution_count": null,
   "metadata": {
    "id": "p_CyfEJb_uI_"
   },
   "outputs": [],
   "source": [
    "for x in range(15):\n",
    "  if x%2==0:\n",
    "    print(x)\n",
    "    else:\n",
    "      x-1\n"
   ]
  },
  {
   "cell_type": "code",
   "execution_count": null,
   "metadata": {
    "cellView": "form",
    "id": "9lI83U_0_YyB"
   },
   "outputs": [],
   "source": [
    "#@title \n",
    "integers=[]\n",
    "for x in range(15):\n",
    "  if x%2 == 0:\n",
    "    integers.append(x)\n",
    "  else:\n",
    "    integers.append(x-1)\n",
    "\n",
    "print(integers)"
   ]
  },
  {
   "cell_type": "markdown",
   "metadata": {
    "id": "EN9rLqvNJcue"
   },
   "source": [
    "However, you can not use the else statement within the context part. When I executed this code snippet, I was surprised that it throws an error:"
   ]
  },
  {
   "cell_type": "code",
   "execution_count": null,
   "metadata": {
    "id": "XT_q7K_uJgsk"
   },
   "outputs": [],
   "source": [
    "# WRONG (INVALID SYNTAX)\n",
    "lst = [x for x in range(10) if x%2==0 else x-1]\n",
    "print(lst)"
   ]
  },
  {
   "cell_type": "markdown",
   "metadata": {},
   "source": [
    "### Insertion sort"
   ]
  },
  {
   "cell_type": "code",
   "execution_count": 25,
   "metadata": {},
   "outputs": [
    {
     "name": "stdout",
     "output_type": "stream",
     "text": [
      "[3, 7, 4, 9, 11, 1, 2]\n",
      "[3, 7, 4, 9, 11, 1, 2]\n",
      "[3, 4, 7, 9, 11, 1, 2]\n",
      "[3, 4, 7, 9, 11, 1, 2]\n",
      "[3, 4, 7, 9, 11, 1, 2]\n",
      "[1, 3, 4, 7, 9, 11, 2]\n",
      "[1, 2, 3, 4, 7, 9, 11]\n"
     ]
    }
   ],
   "source": [
    "a = [3,7,4,9,11,1,2]\n",
    "for i in range(len(a)):\n",
    "    key = a[i]\n",
    "    j = i-1\n",
    "    while j>=0 and key<a[j]:\n",
    "        a[j+1]=a[j]\n",
    "        j=j-1\n",
    "        a[j+1]=key\n",
    "    print(a)"
   ]
  },
  {
   "cell_type": "code",
   "execution_count": 11,
   "metadata": {},
   "outputs": [
    {
     "data": {
      "text/plain": [
       "[2, 3, 3, 4, 7, 9, 11]"
      ]
     },
     "execution_count": 11,
     "metadata": {},
     "output_type": "execute_result"
    }
   ],
   "source": [
    "a = [3,7,4,9,11,3,2]\n",
    "a.sort()\n",
    "a"
   ]
  },
  {
   "cell_type": "code",
   "execution_count": 12,
   "metadata": {},
   "outputs": [],
   "source": [
    "def kthSmallest(self,arr, l, r, k):\n",
    "       '''\n",
    "       arr : given array\n",
    "       l : starting index of the array i.e 0\n",
    "       r : ending index of the array i.e size-1\n",
    "       k : find kth smallest element and return using this function\n",
    "       '''\n",
    "       l = 0\n",
    "       r = len(arr)-1\n",
    "       arr.sort()\n",
    "       return arr[k-1]"
   ]
  },
  {
   "cell_type": "code",
   "execution_count": 27,
   "metadata": {},
   "outputs": [
    {
     "name": "stdout",
     "output_type": "stream",
     "text": [
      "[1, 2, 3, 4, 7, 9, 11]\n"
     ]
    }
   ],
   "source": [
    "#sorting array first\n",
    "a = [3,7,4,9,11,1,2]\n",
    "for number in range(len(a)):\n",
    "    key = a[number]\n",
    "    j = number-1\n",
    "    while j >= 0 and key < a[j]:\n",
    "        a[j+1]=a[j]\n",
    "        j=j-1\n",
    "        a[j+1]=key\n",
    "print(a)"
   ]
  },
  {
   "cell_type": "code",
   "execution_count": 37,
   "metadata": {},
   "outputs": [
    {
     "name": "stdout",
     "output_type": "stream",
     "text": [
      "1\n"
     ]
    }
   ],
   "source": [
    "#find the kth smallest element\n",
    "A = [87,1,52,43,2,95,14]\n",
    "\n",
    "#first we need to sort the list\n",
    "for elmt in range(len(A)):\n",
    "    key = A[elmt]\n",
    "    j = elmt-1\n",
    "    while j>=0 and key < A[j]:\n",
    "        A[j+1] = A[j]\n",
    "        j = j-1\n",
    "        A[j+1]= key\n",
    "print(A[0])"
   ]
  },
  {
   "cell_type": "code",
   "execution_count": null,
   "metadata": {},
   "outputs": [],
   "source": [
    "#binary search"
   ]
  },
  {
   "cell_type": "code",
   "execution_count": null,
   "metadata": {},
   "outputs": [],
   "source": [
    "Input:\n",
    "N = 5\n",
    "vector = {1, 1, 1, 1, 1}\n",
    "X = 1\n",
    "Output: \n",
    "5\n",
    "Explanation: Frequency of 1 is 5."
   ]
  },
  {
   "cell_type": "code",
   "execution_count": 63,
   "metadata": {},
   "outputs": [
    {
     "name": "stdout",
     "output_type": "stream",
     "text": [
      "5\n"
     ]
    }
   ],
   "source": [
    "list2 = [1,1,1,1,1]\n",
    "# n= len(list2)\n",
    "x = 1\n",
    "count=0\n",
    "\n",
    "for i in list2:\n",
    "    if i == x:\n",
    "        count += 1\n",
    "print(count)"
   ]
  },
  {
   "cell_type": "code",
   "execution_count": 64,
   "metadata": {
    "scrolled": true
   },
   "outputs": [
    {
     "data": {
      "text/plain": [
       "[5, 5, 5, 5, 5]"
      ]
     },
     "execution_count": 64,
     "metadata": {},
     "output_type": "execute_result"
    }
   ],
   "source": [
    "[count for element in list2 if element == x]"
   ]
  },
  {
   "cell_type": "code",
   "execution_count": null,
   "metadata": {},
   "outputs": [],
   "source": [
    "class Solution:\n",
    "   def duplicates(self,arr, n): \n",
    "       \n",
    "       n = len(arr)\n",
    "       \n",
    "       A = sorted(arr)\n",
    "       \n",
    "       \n",
    "       res = []\n",
    "       \n",
    "       for i in range(len(A)-1):\n",
    "           if A[i+1] == A[i]:\n",
    "               res.append(A[i])\n",
    "       \n",
    "       if len(res) == 0:\n",
    "           res = [-1]\n",
    "       \n",
    "       return sorted(list(set(res)))\n"
   ]
  },
  {
   "cell_type": "code",
   "execution_count": 79,
   "metadata": {},
   "outputs": [
    {
     "name": "stdout",
     "output_type": "stream",
     "text": [
      "[]\n",
      "[]\n",
      "[]\n",
      "[]\n",
      "[]\n",
      "[]\n"
     ]
    }
   ],
   "source": [
    "#find duplicated values in array\n",
    "b = [1, 5, 7 ,8 ,7, 8]\n",
    "n = len(b)\n",
    "\n",
    "duplicated = []\n",
    "for i in b:\n",
    "    if i+1 == i:\n",
    "        duplicated.append(i)\n",
    "    print(duplicated)"
   ]
  },
  {
   "cell_type": "code",
   "execution_count": 93,
   "metadata": {},
   "outputs": [
    {
     "data": {
      "text/plain": [
       "6"
      ]
     },
     "execution_count": 93,
     "metadata": {},
     "output_type": "execute_result"
    }
   ],
   "source": [
    "len(b)"
   ]
  },
  {
   "cell_type": "code",
   "execution_count": 95,
   "metadata": {},
   "outputs": [
    {
     "name": "stdout",
     "output_type": "stream",
     "text": [
      "srehto dna esrevitlum\n",
      "srehto dna esrevitlum\n",
      "srehto dna esrevitlum\n",
      "srehto dna esrevitlum\n",
      "srehto dna esrevitlum\n",
      "srehto dna esrevitlum\n",
      "srehto dna esrevitlum\n",
      "srehto dna esrevitlum\n",
      "srehto dna esrevitlum\n",
      "srehto dna esrevitlum\n",
      "srehto dna esrevitlum\n",
      "srehto dna esrevitlum\n",
      "srehto dna esrevitlum\n",
      "srehto dna esrevitlum\n",
      "srehto dna esrevitlum\n",
      "srehto dna esrevitlum\n",
      "srehto dna esrevitlum\n",
      "srehto dna esrevitlum\n",
      "srehto dna esrevitlum\n",
      "srehto dna esrevitlum\n",
      "srehto dna esrevitlum\n"
     ]
    }
   ],
   "source": [
    "string1 = 'multiverse and others'\n",
    "new_string = ''\n",
    "for i in string1:\n",
    "    new_string = string1[::-1]\n",
    "    print(new_string)"
   ]
  },
  {
   "cell_type": "code",
   "execution_count": null,
   "metadata": {},
   "outputs": [],
   "source": [
    "#first we need to sort the list\n",
    "for elmt in range(len(A)):\n",
    "    key = A[elmt]\n",
    "    j = elmt-1\n",
    "    while j>=0 and key < A[j]:\n",
    "        A[j+1] = A[j]\n",
    "        j = j-1\n",
    "        A[j+1]= key\n",
    "print(A[0])"
   ]
  },
  {
   "cell_type": "code",
   "execution_count": null,
   "metadata": {},
   "outputs": [],
   "source": [
    "#sort first\n",
    "\n",
    "for i in range(len(array)):\n",
    "    key = array[i]\n",
    "    j = i-1\n",
    "    while j >= 0 and key < array[j]:\n",
    "        A[j+1]= A[j]\n",
    "        j = j-1\n",
    "        A[j+1] = key\n",
    "    return array"
   ]
  },
  {
   "cell_type": "code",
   "execution_count": 142,
   "metadata": {
    "scrolled": true
   },
   "outputs": [],
   "source": [
    "def binarySearch(array, element):\n",
    "    n = len(array)\n",
    "    #make sure element is in list\n",
    "    if (element < array[0] or element > array[n-1]):\n",
    "        return 'element not in array'\n",
    "    else:\n",
    "    #define left and right\n",
    "        left = 0\n",
    "        right= n-1\n",
    "        #make sure that left side is smaller than right values\n",
    "        while (left <= right):\n",
    "        #create mid region\n",
    "            mid = (left+right)//2\n",
    "            if array[mid] == element:\n",
    "                return(mid)\n",
    "            elif array[mid]< element:\n",
    "                left = mid+1\n",
    "            else: #mid > element\n",
    "                right = mid-1\n",
    "        return None"
   ]
  },
  {
   "cell_type": "code",
   "execution_count": null,
   "metadata": {},
   "outputs": [],
   "source": []
  },
  {
   "cell_type": "code",
   "execution_count": 136,
   "metadata": {},
   "outputs": [],
   "source": [
    "def binSearch(lst, elt):\n",
    "    n = len(lst)\n",
    "    #element should not be less than the first element of the list and not bigger than the last element\n",
    "    if (elt < lst[0] or elt > lst[n-1]):\n",
    "        return None\n",
    "    else:\n",
    "        left = 0\n",
    "        right = n - 1\n",
    "        while (left <= right):\n",
    "            # Exact same logic as the recursion.\n",
    "            mid = (left + right)//2 # Note that in python3 and above // is integer division \n",
    "            if lst[mid] == elt: \n",
    "                return mid # BINGO -- we found it. Return its index and that we found it\n",
    "            elif lst[mid] < elt:  \n",
    "                left = mid + 1\n",
    "            else: # lst[mid] > elt\n",
    "                right = mid - 1 \n"
   ]
  },
  {
   "cell_type": "code",
   "execution_count": null,
   "metadata": {},
   "outputs": [],
   "source": []
  },
  {
   "cell_type": "code",
   "execution_count": 141,
   "metadata": {},
   "outputs": [
    {
     "name": "stdout",
     "output_type": "stream",
     "text": [
      "Searching for 9 in list [0,2,3,4,6,9,12]\n",
      "5\n"
     ]
    }
   ],
   "source": [
    "print(\"Searching for 9 in list [0,2,3,4,6,9,12]\")\n",
    "print(binSearch([0,2,3,4,6,9,12], 9))\n"
   ]
  },
  {
   "cell_type": "code",
   "execution_count": 137,
   "metadata": {},
   "outputs": [
    {
     "name": "stdout",
     "output_type": "stream",
     "text": [
      "None\n"
     ]
    }
   ],
   "source": [
    "# A =  [87,1,52,43,2,95,14]\n",
    "\n",
    "print(binSearch([87,1,52,43,2,95,14], 87))"
   ]
  }
 ],
 "metadata": {
  "colab": {
   "name": "A1 module.ipynb",
   "private_outputs": true,
   "provenance": []
  },
  "kernelspec": {
   "display_name": "Python 3",
   "language": "python",
   "name": "python3"
  },
  "language_info": {
   "codemirror_mode": {
    "name": "ipython",
    "version": 3
   },
   "file_extension": ".py",
   "mimetype": "text/x-python",
   "name": "python",
   "nbconvert_exporter": "python",
   "pygments_lexer": "ipython3",
   "version": "3.8.8"
  }
 },
 "nbformat": 4,
 "nbformat_minor": 1
}
