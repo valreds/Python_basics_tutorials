{
 "cells": [
  {
   "cell_type": "markdown",
   "id": "06a294ff",
   "metadata": {},
   "source": [
    "## Numeric Python\n",
    "- Calculations element wise"
   ]
  },
  {
   "cell_type": "markdown",
   "id": "24ccdff4",
   "metadata": {},
   "source": [
    "### Arrays\n",
    " - Contains only one data type "
   ]
  },
  {
   "cell_type": "code",
   "execution_count": 1,
   "id": "cdec53c8",
   "metadata": {},
   "outputs": [],
   "source": [
    "import numpy as np\n",
    "from IPython.display import Image\n",
    "baseball = [180, 215, 210, 210, 188, 176, 209, 200]"
   ]
  },
  {
   "cell_type": "code",
   "execution_count": 13,
   "id": "5846ff2c",
   "metadata": {
    "scrolled": true
   },
   "outputs": [
    {
     "name": "stdout",
     "output_type": "stream",
     "text": [
      "<class 'numpy.ndarray'>\n"
     ]
    }
   ],
   "source": [
    "np_baseball = np.array(baseball)\n",
    "print(type(np_baseball))"
   ]
  },
  {
   "cell_type": "markdown",
   "id": "6d2f56bf",
   "metadata": {},
   "source": [
    "#### Creating random arrays\n",
    "- 1D: np.random.rand(7)\n",
    "- 2D: np.random.rand(2,4). This creates 2-dimensional numpy arrays of lenght 2 in dimension 0 with lenght 4 in dimension -1 meaning 4 values per array\n",
    "- 3D: np.random.rand(4,2,3). This creates 4 arrays, with 2 subarrays and 3 values per subarray"
   ]
  },
  {
   "cell_type": "code",
   "execution_count": 16,
   "id": "80e8a68a",
   "metadata": {
    "scrolled": true
   },
   "outputs": [
    {
     "data": {
      "text/plain": [
       "array([0.24648564, 0.44506857, 0.95371113, 0.14005472, 0.72895241,\n",
       "       0.16910712, 0.91788273, 0.47832743])"
      ]
     },
     "execution_count": 16,
     "metadata": {},
     "output_type": "execute_result"
    }
   ],
   "source": [
    "height = np.array(np.random.rand(8))\n",
    "height"
   ]
  },
  {
   "cell_type": "code",
   "execution_count": 10,
   "id": "88df9432",
   "metadata": {},
   "outputs": [
    {
     "data": {
      "text/plain": [
       "array([1.96048511, 0.20056865, 1.66992945, 1.38793438, 0.40188431,\n",
       "       1.48183215, 1.13375152, 1.7647355 , 0.9544658 , 1.24098629,\n",
       "       1.20888599, 0.23336974, 1.17923258, 1.55265909, 0.24571432,\n",
       "       0.72071148, 1.28234246, 1.13461497, 1.71227419, 1.06025691,\n",
       "       0.33594526, 0.54597068, 2.19275882, 2.00491025, 2.10993572])"
      ]
     },
     "execution_count": 10,
     "metadata": {},
     "output_type": "execute_result"
    }
   ],
   "source": [
    "height_m = height * 2.2\n",
    "height_m[:25]"
   ]
  },
  {
   "cell_type": "code",
   "execution_count": 6,
   "id": "5f99b2a8",
   "metadata": {},
   "outputs": [
    {
     "data": {
      "text/plain": [
       "array([4, 5, 2])"
      ]
     },
     "execution_count": 6,
     "metadata": {},
     "output_type": "execute_result"
    }
   ],
   "source": [
    "np.array([4, 3, 0]) + np.array([0, 2, 2])"
   ]
  },
  {
   "cell_type": "code",
   "execution_count": 12,
   "id": "eb349e0a",
   "metadata": {
    "scrolled": true
   },
   "outputs": [
    {
     "data": {
      "text/plain": [
       "array([4, 5, 2])"
      ]
     },
     "execution_count": 12,
     "metadata": {},
     "output_type": "execute_result"
    }
   ],
   "source": [
    "np.array([True, 1, 2]) + np.array([3, 4, False])"
   ]
  },
  {
   "cell_type": "code",
   "execution_count": 2,
   "id": "e10b3a6e",
   "metadata": {},
   "outputs": [
    {
     "data": {
      "text/plain": [
       "array([[1.8000000e+02, 2.1500000e+02, 2.1000000e+02, 2.1000000e+02,\n",
       "        1.8800000e+02, 1.7600000e+02, 2.0900000e+02, 2.0000000e+02],\n",
       "       [2.4648564e-01, 4.4506857e-01, 9.5371113e-01, 1.4005472e-01,\n",
       "        7.2895241e-01, 1.6910712e-01, 9.1788273e-01, 4.7832743e-01]])"
      ]
     },
     "execution_count": 2,
     "metadata": {},
     "output_type": "execute_result"
    }
   ],
   "source": [
    "#2d array\n",
    "np_2d = np.array([[180, 215, 210, 210, 188, 176, 209, 200], \n",
    "                 [0.24648564, 0.44506857, 0.95371113, 0.14005472, 0.72895241,\n",
    "       0.16910712, 0.91788273, 0.47832743]])\n",
    "np_2d"
   ]
  },
  {
   "cell_type": "markdown",
   "id": "f7f64b21",
   "metadata": {},
   "source": [
    "- Methods have brackets after them\n",
    "- Attributes do not have brackets\n",
    "\n",
    "For shape of the arrays is (2,8) meaning 2 rows and 8 columns. Or 2 arrays with 8 values each.\n"
   ]
  },
  {
   "cell_type": "code",
   "execution_count": 5,
   "id": "b5e0033e",
   "metadata": {},
   "outputs": [
    {
     "data": {
      "text/plain": [
       "((2, 8), numpy.ndarray)"
      ]
     },
     "execution_count": 5,
     "metadata": {},
     "output_type": "execute_result"
    }
   ],
   "source": [
    "np_2d.shape, type(np_2d) #ndarray means n dimensionsional array"
   ]
  },
  {
   "cell_type": "markdown",
   "id": "171e391c",
   "metadata": {},
   "source": [
    "### Subsetting arrays\n",
    "The indexes before the comma refer to the rows, while those after the comma refer to the columns. The : is for slicing; in this example, it tells Python to include all rows. np_array[:, 3:5]"
   ]
  },
  {
   "cell_type": "code",
   "execution_count": 10,
   "id": "47f87f96",
   "metadata": {
    "scrolled": true
   },
   "outputs": [
    {
     "data": {
      "text/plain": [
       "(0.47832743, 210.0, 0.47832743)"
      ]
     },
     "execution_count": 10,
     "metadata": {},
     "output_type": "execute_result"
    }
   ],
   "source": [
    "np_2d[1][-1], np_2d[0][2], np_2d[1, -1]"
   ]
  },
  {
   "cell_type": "code",
   "execution_count": 11,
   "id": "13ba4dc0",
   "metadata": {},
   "outputs": [
    {
     "data": {
      "text/plain": [
       "array([[2.1000000e+02, 1.8800000e+02],\n",
       "       [1.4005472e-01, 7.2895241e-01]])"
      ]
     },
     "execution_count": 11,
     "metadata": {},
     "output_type": "execute_result"
    }
   ],
   "source": [
    "# Iwant all rows and only a subset of columns\n",
    "np_2d[:, 3:5]"
   ]
  },
  {
   "cell_type": "code",
   "execution_count": 12,
   "id": "431889bb",
   "metadata": {},
   "outputs": [
    {
     "data": {
      "text/plain": [
       "array([0.24648564, 0.44506857, 0.95371113, 0.14005472, 0.72895241,\n",
       "       0.16910712, 0.91788273, 0.47832743])"
      ]
     },
     "execution_count": 12,
     "metadata": {},
     "output_type": "execute_result"
    }
   ],
   "source": [
    "np_2d[1, :] # I want everything from row one "
   ]
  },
  {
   "cell_type": "code",
   "execution_count": 14,
   "id": "6371f58e",
   "metadata": {
    "scrolled": true
   },
   "outputs": [
    {
     "data": {
      "text/plain": [
       "array([180, 215, 210, 210, 188, 176, 209, 200])"
      ]
     },
     "execution_count": 14,
     "metadata": {},
     "output_type": "execute_result"
    }
   ],
   "source": [
    "np_baseball"
   ]
  },
  {
   "cell_type": "code",
   "execution_count": null,
   "id": "cc983564",
   "metadata": {},
   "outputs": [],
   "source": [
    "# # Print out the 50th row of np_baseball\n",
    "# print(np_baseball[49, :])\n",
    "\n",
    "# # Select the entire second column of np_baseball: np_weight_lb\n",
    "# np_weight_lb = np_baseball[:,1]\n",
    "\n",
    "# # Print out height of 124th player\n",
    "# print(np_baseball[123,0])"
   ]
  },
  {
   "cell_type": "code",
   "execution_count": null,
   "id": "38a1f816",
   "metadata": {},
   "outputs": [],
   "source": [
    "# np_baseball = np.array(baseball)\n",
    "\n",
    "# # Print out addition of np_baseball and updated\n",
    "# print(np_baseball + updated)\n",
    "\n",
    "# # Create numpy array: conversion\n",
    "# conversion = np.array([0.0254,0.453592,1])\n",
    "\n",
    "# # Print out product of np_baseball and conversion\n",
    "# print(np_baseball * conversion)"
   ]
  },
  {
   "cell_type": "markdown",
   "id": "476567c3",
   "metadata": {},
   "source": [
    "### Numpy statistics"
   ]
  },
  {
   "cell_type": "code",
   "execution_count": null,
   "id": "6b02cb9b",
   "metadata": {},
   "outputs": [],
   "source": [
    "\n",
    "# Create np_height_in from np_baseball\n",
    "np_height_in = np_baseball[:,0]\n",
    "\n",
    "# Print out the mean of np_height_in\n",
    "print(np.mean(np_height_in))\n",
    "\n",
    "# Print out the median of np_height_in\n",
    "print(np.median(np_height_in))"
   ]
  },
  {
   "cell_type": "code",
   "execution_count": null,
   "id": "4371f200",
   "metadata": {},
   "outputs": [],
   "source": [
    "avg = np.mean(np_baseball[:,0])\n",
    "print(\"Average: \" + str(avg))\n",
    "\n",
    "# Print median height\n",
    "med = np.median(np_baseball[:, 0])\n",
    "print(\"Median: \" + str(med))\n",
    "\n",
    "# Print out the standard deviation on height\n",
    "stddev = np.std(np_baseball[:,0])\n",
    "print(\"Standard Deviation: \" + str(stddev))\n",
    "\n",
    "# Print out correlation between first and second column\n",
    "corr = np.corrcoef(np_baseball[:,0], np_baseball[:, 1])\n",
    "print(\"Correlation: \" + str(corr))"
   ]
  }
 ],
 "metadata": {
  "kernelspec": {
   "display_name": "Python 3 (ipykernel)",
   "language": "python",
   "name": "python3"
  },
  "language_info": {
   "codemirror_mode": {
    "name": "ipython",
    "version": 3
   },
   "file_extension": ".py",
   "mimetype": "text/x-python",
   "name": "python",
   "nbconvert_exporter": "python",
   "pygments_lexer": "ipython3",
   "version": "3.8.2"
  }
 },
 "nbformat": 4,
 "nbformat_minor": 5
}
